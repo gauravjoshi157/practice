{
 "cells": [
  {
   "cell_type": "code",
   "execution_count": 4,
   "metadata": {},
   "outputs": [
    {
     "name": "stdout",
     "output_type": "stream",
     "text": [
      "Error: cannot add an int and a str\n"
     ]
    }
   ],
   "source": [
    "# try catch block to resolve it: The code attempts to add an integer (‘x') and a string (‘y') together, which is not a valid operation, and it will raise a ‘TypeError'. The code used a ‘try' and ‘except' block to catch this exception and print an error message.\n",
    "try:\n",
    "    z = x + y\n",
    "except TypeError:\n",
    "    print(\"Error: cannot add an int and a str\")\n"
   ]
  },
  {
   "cell_type": "code",
   "execution_count": 6,
   "metadata": {},
   "outputs": [
    {
     "name": "stdout",
     "output_type": "stream",
     "text": [
      "Second element is = 2\n",
      "An error occured\n"
     ]
    }
   ],
   "source": [
    "# Try and Except Statement – Catching Exceptions\n",
    "# Try and except statements are used to catch and handle exceptions in Python. Statements that can raise exceptions are kept inside the try clause and the statements that handle the exception are written inside except clause.\n",
    "\n",
    "# Example: Here we are trying to access the array element whose index is out of bound and handle the corresponding exception.\n",
    "\n",
    "a = [1,2,3]\n",
    "try:\n",
    "    print(\"Second element is = %d\"%(a[1]))\n",
    "    print(\"Forth element is = %d\"%(a[3]))\n",
    "except:\n",
    "    print(\"An error occured\")"
   ]
  },
  {
   "cell_type": "code",
   "execution_count": 13,
   "metadata": {},
   "outputs": [
    {
     "name": "stdout",
     "output_type": "stream",
     "text": [
      "ZeorDivisionError Occured and Handled\n"
     ]
    }
   ],
   "source": [
    "# Example: Catching specific exceptions in the Python:\n",
    "# The code defines a function ‘fun(a)' that calculates b based on the input a. If a is less than 4, it attempts a division by zero, causing a ‘ZeroDivisionError'. The code calls fun(3) and fun(5) inside a try-except block. It handles the ZeroDivisionError for fun(3) and prints “ZeroDivisionError Occurred and Handled.” The ‘NameError' block is not executed since there are no ‘NameError' exceptions in the code.\n",
    "\n",
    "def fun(a):\n",
    "    if a <4:\n",
    "        b = a/(a-3)\n",
    "    pirnt(\"Value of ab = \",b)\n",
    "try :\n",
    "    fun(3)\n",
    "    fun(5)\n",
    "except ZeroDivisionError :\n",
    "    print(\"ZeorDivisionError Occured and Handled\")\n",
    "except NameError:\n",
    "    print(\"NameError Occured and Handled\")"
   ]
  },
  {
   "cell_type": "code",
   "execution_count": 7,
   "metadata": {},
   "outputs": [
    {
     "name": "stdout",
     "output_type": "stream",
     "text": [
      "-5.0\n",
      "a/b result in 0\n"
     ]
    }
   ],
   "source": [
    "# Try with Else Clause:\n",
    "# In Python, you can also use the else clause on the try-except block which must be present after all the except clauses. The code enters the else block only if the try clause does not raise an exception.\n",
    "\n",
    "# Try with else clause:\n",
    "# The code defines a function AbyB(a, b) that calculates c as ((a+b) / (a-b)) and handles a potential ZeroDivisionError. It prints the result if there’s no division by zero error. Calling AbyB(2.0, 3.0) calculates and prints -5.0, while calling AbyB(3.0, 3.0) attempts to divide by zero, resulting in a ZeroDivisionError, which is caught and “a/b results in 0” is printed.\n",
    "\n",
    "\n",
    "def abyb(a,b):\n",
    "    try :\n",
    "        c = ((a+b)/(a-b))\n",
    "    except ZeroDivisionError:\n",
    "        print(\"a/b result in 0\")\n",
    "    else:\n",
    "        print(c)\n",
    "abyb(2.0,3.0)\n",
    "abyb(3.0,3.0)"
   ]
  },
  {
   "cell_type": "code",
   "execution_count": 15,
   "metadata": {},
   "outputs": [
    {
     "name": "stdout",
     "output_type": "stream",
     "text": [
      "Can't Divide by Zero\n",
      "This is always executed\n"
     ]
    }
   ],
   "source": [
    "# Finally Keyword in Python\n",
    "# Python provides a keyword finally, which is always executed after the try and except blocks. The final block always executes after the normal termination of the try block or after the try block terminates due to some exception.\n",
    "# Example:\n",
    "# The code attempts to perform integer division by zero, resulting in a ZeroDivisionError. It catches the exception and prints “Can’t divide by zero.” Regardless of the exception, the finally block is executed and prints “This is always executed.”\n",
    "\n",
    "try :\n",
    "    k=5//0\n",
    "    print(k)\n",
    "except ZeroDivisionError:\n",
    "    print(\"Can't Divide by Zero\")\n",
    "finally:\n",
    "    print('This is always executed')"
   ]
  },
  {
   "cell_type": "code",
   "execution_count": 18,
   "metadata": {},
   "outputs": [
    {
     "name": "stdout",
     "output_type": "stream",
     "text": [
      "An exception\n"
     ]
    },
    {
     "ename": "NameError",
     "evalue": "Hi there",
     "output_type": "error",
     "traceback": [
      "\u001b[1;31m---------------------------------------------------------------------------\u001b[0m",
      "\u001b[1;31mNameError\u001b[0m                                 Traceback (most recent call last)",
      "Cell \u001b[1;32mIn[18], line 7\u001b[0m\n\u001b[0;32m      1\u001b[0m \u001b[38;5;66;03m# Raising Exception\u001b[39;00m\n\u001b[0;32m      2\u001b[0m \u001b[38;5;66;03m# The raise statement allows the programmer to force a specific exception to occur. The sole argument in raise indicates the exception to be raised. This must be either an exception instance or an exception class (a class that derives from Exception).\u001b[39;00m\n\u001b[0;32m      3\u001b[0m \n\u001b[0;32m      4\u001b[0m \u001b[38;5;66;03m# This code intentionally raises a NameError with the message “Hi there” using the raise statement within a try block. Then, it catches the NameError exception, prints “An exception,” and re-raises the same exception using raise. This demonstrates how exceptions can be raised and handled in Python, allowing for custom error messages and further exception propagation.\u001b[39;00m\n\u001b[0;32m      6\u001b[0m \u001b[38;5;28;01mtry\u001b[39;00m: \n\u001b[1;32m----> 7\u001b[0m     \u001b[38;5;28;01mraise\u001b[39;00m \u001b[38;5;167;01mNameError\u001b[39;00m(\u001b[38;5;124m\"\u001b[39m\u001b[38;5;124mHi there\u001b[39m\u001b[38;5;124m\"\u001b[39m)\n\u001b[0;32m      8\u001b[0m \u001b[38;5;28;01mexcept\u001b[39;00m \u001b[38;5;167;01mNameError\u001b[39;00m:\n\u001b[0;32m      9\u001b[0m     \u001b[38;5;28mprint\u001b[39m (\u001b[38;5;124m\"\u001b[39m\u001b[38;5;124mAn exception\u001b[39m\u001b[38;5;124m\"\u001b[39m)\n",
      "\u001b[1;31mNameError\u001b[0m: Hi there"
     ]
    }
   ],
   "source": [
    "# Raising Exception\n",
    "# The raise statement allows the programmer to force a specific exception to occur. The sole argument in raise indicates the exception to be raised. This must be either an exception instance or an exception class (a class that derives from Exception).\n",
    "\n",
    "# This code intentionally raises a NameError with the message “Hi there” using the raise statement within a try block. Then, it catches the NameError exception, prints “An exception,” and re-raises the same exception using raise. This demonstrates how exceptions can be raised and handled in Python, allowing for custom error messages and further exception propagation.\n",
    "\n",
    "try: \n",
    "    raise NameError(\"Hi there\")\n",
    "except NameError:\n",
    "    print (\"An exception\")\n",
    "    raise"
   ]
  },
  {
   "cell_type": "code",
   "execution_count": null,
   "metadata": {},
   "outputs": [],
   "source": []
  }
 ],
 "metadata": {
  "kernelspec": {
   "display_name": "Python 3",
   "language": "python",
   "name": "python3"
  },
  "language_info": {
   "codemirror_mode": {
    "name": "ipython",
    "version": 3
   },
   "file_extension": ".py",
   "mimetype": "text/x-python",
   "name": "python",
   "nbconvert_exporter": "python",
   "pygments_lexer": "ipython3",
   "version": "3.11.9"
  }
 },
 "nbformat": 4,
 "nbformat_minor": 2
}
