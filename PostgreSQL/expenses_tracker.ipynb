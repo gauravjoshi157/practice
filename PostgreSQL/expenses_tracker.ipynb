{
 "cells": [
  {
   "cell_type": "code",
   "execution_count": 19,
   "metadata": {},
   "outputs": [],
   "source": [
    "# Import Library\n",
    "import psycopg2"
   ]
  },
  {
   "cell_type": "code",
   "execution_count": 20,
   "metadata": {},
   "outputs": [],
   "source": [
    "# Create connection with server and connect to a default database \n",
    "\n",
    "conn = psycopg2.connect(host = \"localhost\", user = \"postgres\", password = \"1507\", dbname = 'postgres')\n"
   ]
  },
  {
   "cell_type": "code",
   "execution_count": 21,
   "metadata": {},
   "outputs": [],
   "source": [
    "# Create a object to run queries\n",
    "cursor = conn.cursor()\n",
    "conn.commit()"
   ]
  },
  {
   "cell_type": "code",
   "execution_count": 22,
   "metadata": {},
   "outputs": [],
   "source": [
    "# Create table expenses\n",
    "cursor.execute('''\n",
    "    CREATE TABLE IF NOT EXISTS expenses (\n",
    "        id SERIAL PRIMARY KEY,  -- Use SERIAL for auto-incrementing integers\n",
    "        date VARCHAR(50) NOT NULL,\n",
    "        category VARCHAR(50) NOT NULL,\n",
    "        amount DECIMAL(20, 2) NOT NULL,  -- Specify precision for DECIMAL\n",
    "        description VARCHAR(50)\n",
    "    )\n",
    "''')"
   ]
  },
  {
   "cell_type": "code",
   "execution_count": 23,
   "metadata": {},
   "outputs": [],
   "source": [
    "# Create function to add values into the table \n",
    "def add_expenses(date, category, amount, description):\n",
    "    cursor.execute('''\n",
    "                   INSERT INTO expenses(date, category, amount, description )\n",
    "                   VALUES(%s,%s,%s,%s)\n",
    "                   ''', (date, category, amount, description))\n",
    "    conn.commit()"
   ]
  },
  {
   "cell_type": "code",
   "execution_count": 24,
   "metadata": {},
   "outputs": [],
   "source": [
    "# Add sample values  \n",
    "add_expenses('2024-09-10', 'Groceries', 50.75, 'Weekly grocery shopping')\n",
    "add_expenses('2024-09-11', 'Transport', 15.00, 'Taxi fare')\n",
    "add_expenses('2024-09-12', 'Utilities', 100.00, 'Electricity bill')"
   ]
  },
  {
   "cell_type": "code",
   "execution_count": 25,
   "metadata": {},
   "outputs": [],
   "source": [
    "# Create a function to view the values of the table \n",
    "def view_expenses():\n",
    "    cursor.execute('SELECT * FROM expenses')\n",
    "    rows = cursor.fetchall()\n",
    "    for row in rows:\n",
    "        print(row) "
   ]
  },
  {
   "cell_type": "code",
   "execution_count": 26,
   "metadata": {},
   "outputs": [
    {
     "name": "stdout",
     "output_type": "stream",
     "text": [
      "(1, '2024-09-10', 'Groceries', Decimal('50.75'), 'Weekly grocery shopping')\n",
      "(2, '2024-09-11', 'Transport', Decimal('15.00'), 'Taxi fare')\n",
      "(3, '2024-09-12', 'Utilities', Decimal('100.00'), 'Electricity bill')\n"
     ]
    }
   ],
   "source": [
    "# View the values of the table \n",
    "view_expenses()"
   ]
  },
  {
   "cell_type": "code",
   "execution_count": 27,
   "metadata": {},
   "outputs": [],
   "source": [
    "def update_expenses(expense_id, date=None, category=None, amount=None, description=None):\n",
    "    query = \"UPDATE expenses SET \"\n",
    "    params = []\n",
    "    \n",
    "    if date:\n",
    "        query += \"date = %s, \"\n",
    "        params.append(date)\n",
    "    \n",
    "    if category:\n",
    "        query += \"category = %s, \"\n",
    "        params.append(category)\n",
    "        \n",
    "    if amount:\n",
    "        query += \"amount = %s, \"\n",
    "        params.append(amount)\n",
    "        \n",
    "    if description:\n",
    "        query += \"description = %s, \"\n",
    "        params.append(description)\n",
    "        \n",
    "    # Remove the trailing comma and space, and add WHERE clause\n",
    "    query = query.rstrip(', ') + \" WHERE id = %s\"\n",
    "    params.append(expense_id)\n",
    "    \n",
    "    # Execute the query\n",
    "    cursor.execute(query, tuple(params))\n",
    "    conn.commit()\n",
    "    \n",
    "    # Print the query and params for debugging\n",
    "    print(\"Query:\", query)\n",
    "    print(\"Params:\", params)\n"
   ]
  },
  {
   "cell_type": "code",
   "execution_count": 28,
   "metadata": {},
   "outputs": [
    {
     "name": "stdout",
     "output_type": "stream",
     "text": [
      "Query: UPDATE expenses SET date = %s, category = %s WHERE id = %s\n",
      "Params: ['2024-09-15', 'Dining', 1]\n",
      "Query: UPDATE expenses SET amount = %s, description = %s WHERE id = %s\n",
      "Params: [75.5, 'Grocery shopping for the week', 2]\n",
      "Query: UPDATE expenses SET date = %s, category = %s, amount = %s, description = %s WHERE id = %s\n",
      "Params: ['2024-09-12', 'Transport', '25.00', 'Bus fare', 3]\n"
     ]
    }
   ],
   "source": [
    "# Update some values \n",
    "update_expenses(1, date='2024-09-15', category='Dining')\n",
    "update_expenses(2, amount=75.50, description='Grocery shopping for the week')\n",
    "update_expenses(3, date='2024-09-12', category='Transport', amount=\"25.00\", description='Bus fare')"
   ]
  },
  {
   "cell_type": "code",
   "execution_count": 29,
   "metadata": {},
   "outputs": [
    {
     "name": "stdout",
     "output_type": "stream",
     "text": [
      "(1, '2024-09-15', 'Dining', Decimal('50.75'), 'Weekly grocery shopping')\n",
      "(2, '2024-09-11', 'Transport', Decimal('75.50'), 'Grocery shopping for the week')\n",
      "(3, '2024-09-12', 'Transport', Decimal('25.00'), 'Bus fare')\n"
     ]
    }
   ],
   "source": [
    "view_expenses()"
   ]
  },
  {
   "cell_type": "code",
   "execution_count": 30,
   "metadata": {},
   "outputs": [],
   "source": [
    "# Create delete function for deleting the values of the table \n",
    "def delete_expenses(expense_id):\n",
    "    cursor.execute('DELETE FROM expenses WHERE id = %s', (expense_id,))\n",
    "    conn.commit()\n"
   ]
  },
  {
   "cell_type": "code",
   "execution_count": 31,
   "metadata": {},
   "outputs": [],
   "source": [
    "# Delete the expense with id = 4\n",
    "delete_expenses(4)\n"
   ]
  },
  {
   "cell_type": "code",
   "execution_count": 32,
   "metadata": {},
   "outputs": [
    {
     "name": "stdout",
     "output_type": "stream",
     "text": [
      "(1, '2024-09-15', 'Dining', Decimal('50.75'), 'Weekly grocery shopping')\n",
      "(2, '2024-09-11', 'Transport', Decimal('75.50'), 'Grocery shopping for the week')\n",
      "(3, '2024-09-12', 'Transport', Decimal('25.00'), 'Bus fare')\n"
     ]
    }
   ],
   "source": [
    "view_expenses()"
   ]
  }
 ],
 "metadata": {
  "kernelspec": {
   "display_name": ".venv",
   "language": "python",
   "name": "python3"
  },
  "language_info": {
   "codemirror_mode": {
    "name": "ipython",
    "version": 3
   },
   "file_extension": ".py",
   "mimetype": "text/x-python",
   "name": "python",
   "nbconvert_exporter": "python",
   "pygments_lexer": "ipython3",
   "version": "3.11.9"
  }
 },
 "nbformat": 4,
 "nbformat_minor": 2
}
