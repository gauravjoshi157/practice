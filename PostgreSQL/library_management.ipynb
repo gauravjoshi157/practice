{
 "cells": [
  {
   "cell_type": "code",
   "execution_count": 2,
   "metadata": {},
   "outputs": [],
   "source": [
    "# Import Library\n",
    "import psycopg2"
   ]
  },
  {
   "cell_type": "code",
   "execution_count": 3,
   "metadata": {},
   "outputs": [],
   "source": [
    "# Create connection with server and connect to a default database \n",
    "\n",
    "conn = psycopg2.connect(host = \"localhost\", user = \"postgres\", password = \"1507\", dbname = 'postgres')\n"
   ]
  },
  {
   "cell_type": "code",
   "execution_count": 4,
   "metadata": {},
   "outputs": [],
   "source": [
    "# Create a object to run queries\n",
    "cursor = conn.cursor()\n",
    "conn.commit()"
   ]
  },
  {
   "cell_type": "code",
   "execution_count": 5,
   "metadata": {},
   "outputs": [],
   "source": [
    "# Create table books\n",
    "cursor.execute('''\n",
    "            CREATE TABLE IF NOT EXISTS books (\n",
    "        id SERIAL PRIMARY KEY ,\n",
    "        title VARCHAR(50) NOT NULL,\n",
    "        author VARCHAR(50) NOT NULL,\n",
    "        published_date VARCHAR(50),\n",
    "        isbn VARCHAR(50) UNIQUE\n",
    "    )\n",
    "''')"
   ]
  },
  {
   "cell_type": "code",
   "execution_count": 6,
   "metadata": {},
   "outputs": [],
   "source": [
    "# Create function to add values into the table \n",
    "def add_book(title, author, published_date, isbn):\n",
    "    cursor.execute('''\n",
    "                   INSERT INTO books(title, author, published_date, isbn)\n",
    "                   VALUES (%s, %s, %s, %s)\n",
    "                   ''',(title, author, published_date, isbn))\n",
    "    conn.commit()"
   ]
  },
  {
   "cell_type": "code",
   "execution_count": 7,
   "metadata": {},
   "outputs": [],
   "source": [
    "# Example calls to the add_book function\n",
    "add_book(\"The Great Gatsby\", \"F. Scott Fitzgerald\", \"1925-04-10\", \"9780743273565\")\n",
    "add_book(\"To Kill a Mockingbird\", \"Harper Lee\", \"1960-07-11\", \"9780061120084\")\n",
    "add_book(\"1984\", \"George Orwell\", \"1949-06-08\", \"9780451524935\")\n"
   ]
  },
  {
   "cell_type": "code",
   "execution_count": 8,
   "metadata": {},
   "outputs": [],
   "source": [
    "# Create a function to view the values of the table \n",
    "def view_books():\n",
    "    cursor.execute('SELECT * FROM books')\n",
    "    rows = cursor.fetchall()\n",
    "    for row in rows:\n",
    "        print(row) "
   ]
  },
  {
   "cell_type": "code",
   "execution_count": 9,
   "metadata": {},
   "outputs": [
    {
     "name": "stdout",
     "output_type": "stream",
     "text": [
      "(1, 'The Great Gatsby', 'F. Scott Fitzgerald', '1925-04-10', '9780743273565')\n",
      "(2, 'To Kill a Mockingbird', 'Harper Lee', '1960-07-11', '9780061120084')\n",
      "(3, '1984', 'George Orwell', '1949-06-08', '9780451524935')\n"
     ]
    }
   ],
   "source": [
    "# View the values of the table \n",
    "view_books()"
   ]
  },
  {
   "cell_type": "code",
   "execution_count": 10,
   "metadata": {},
   "outputs": [],
   "source": [
    "# Update books\n",
    "def update_book(book_id, title=None, author=None, published_date=None, isbn=None):\n",
    "    query = 'UPDATE books SET'\n",
    "    params = []\n",
    "    if title:\n",
    "        query += ' title = %s,'\n",
    "        params.append(title)\n",
    "    if author:\n",
    "        query += ' author = %s,'\n",
    "        params.append(author)\n",
    "    if published_date:\n",
    "        query += ' published_date = %s,'\n",
    "        params.append(published_date)\n",
    "    if isbn:\n",
    "        query += ' isbn = %s,'\n",
    "        params.append(isbn)\n",
    "    query = query.rstrip(',') + ' WHERE id = %s'\n",
    "    params.append(book_id)\n",
    "    cursor.execute(query, params)\n",
    "    conn.commit()"
   ]
  },
  {
   "cell_type": "code",
   "execution_count": 11,
   "metadata": {},
   "outputs": [],
   "source": [
    "# Varify the update query works \n",
    "update_book(1, author=\"Francis Scott Fitzgerald\")"
   ]
  },
  {
   "cell_type": "code",
   "execution_count": 12,
   "metadata": {},
   "outputs": [
    {
     "name": "stdout",
     "output_type": "stream",
     "text": [
      "(2, 'To Kill a Mockingbird', 'Harper Lee', '1960-07-11', '9780061120084')\n",
      "(3, '1984', 'George Orwell', '1949-06-08', '9780451524935')\n",
      "(1, 'The Great Gatsby', 'Francis Scott Fitzgerald', '1925-04-10', '9780743273565')\n"
     ]
    }
   ],
   "source": [
    "view_books()"
   ]
  },
  {
   "cell_type": "code",
   "execution_count": 13,
   "metadata": {},
   "outputs": [],
   "source": [
    "# Delete Books \n",
    "def delete_book(book_id):\n",
    "    cursor.execute('DELETE FROM books WHERE id = %s', (book_id,))\n",
    "    conn.commit()"
   ]
  },
  {
   "cell_type": "code",
   "execution_count": 14,
   "metadata": {},
   "outputs": [],
   "source": [
    "\n",
    "# Varify that the delete query\n",
    "delete_book(3)"
   ]
  },
  {
   "cell_type": "code",
   "execution_count": 15,
   "metadata": {},
   "outputs": [
    {
     "name": "stdout",
     "output_type": "stream",
     "text": [
      "(2, 'To Kill a Mockingbird', 'Harper Lee', '1960-07-11', '9780061120084')\n",
      "(1, 'The Great Gatsby', 'Francis Scott Fitzgerald', '1925-04-10', '9780743273565')\n"
     ]
    }
   ],
   "source": [
    "\n",
    "view_books()"
   ]
  }
 ],
 "metadata": {
  "kernelspec": {
   "display_name": ".venv",
   "language": "python",
   "name": "python3"
  },
  "language_info": {
   "codemirror_mode": {
    "name": "ipython",
    "version": 3
   },
   "file_extension": ".py",
   "mimetype": "text/x-python",
   "name": "python",
   "nbconvert_exporter": "python",
   "pygments_lexer": "ipython3",
   "version": "3.11.9"
  }
 },
 "nbformat": 4,
 "nbformat_minor": 2
}
