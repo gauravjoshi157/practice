# Sales Performance Dashboard

Create a dashboard to visualize sales performance across different regions and product categories. 

__Include:__

- Bar charts showing total sales per region.

- Stacked bar charts to break down sales by product categories.

- A line plot for monthly sales trends over the past year.

__Hint:__ Use `plt.bar()` for bar charts,` plt.barh()` for horizontal bar charts, and `plt.plot()` for line plots. Utilize subplots for the dashboard layout.

__Expectation:__ A comprehensive dashboard with multiple plots showing regional sales, category breakdowns, and monthly trends.
