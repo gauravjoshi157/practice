{
 "cells": [
  {
   "cell_type": "markdown",
   "metadata": {},
   "source": [
    "# COVID-19 Data Visualization\n",
    "\n",
    "__Objective:__ Create an interactive dashboard to visualize the spread of COVID-19 across different countries. The data should include daily confirmed cases, recoveries, and deaths.\n",
    "\n",
    "__Data:__ You can use the COVID-19 Data Repository by the Center for Systems Science and Engineering (CSSE) at Johns Hopkins University.\n",
    "\n",
    "Expectations:\n",
    "\n",
    "- Use interactive plots to allow users to select and compare different countries.\n",
    "\n",
    "- Display trends for confirmed cases, recoveries, and deaths over time.\n",
    "\n",
    "- Include tools for zooming and panning.\n",
    " \n",
    "__Hint: __Use Plotly for creating interactive plots and Dash for building the interactive dashboard."
   ]
  },
  {
   "cell_type": "code",
   "execution_count": 1,
   "metadata": {},
   "outputs": [
    {
     "data": {
      "text/html": [
       "\n",
       "        <iframe\n",
       "            width=\"100%\"\n",
       "            height=\"650\"\n",
       "            src=\"http://127.0.0.1:8050/\"\n",
       "            frameborder=\"0\"\n",
       "            allowfullscreen\n",
       "            \n",
       "        ></iframe>\n",
       "        "
      ],
      "text/plain": [
       "<IPython.lib.display.IFrame at 0x29511996650>"
      ]
     },
     "metadata": {},
     "output_type": "display_data"
    }
   ],
   "source": [
    "import pandas as pd\n",
    "from dash import Dash, dcc, html, Input, Output\n",
    "import plotly.express as px\n",
    "import plotly.graph_objects as go\n",
    "\n",
    "# Load the data from the provided CSV file \n",
    "covid_data = pd.read_csv('datasets/merged_covid19_data.csv', low_memory=False)           # Update the path to your local file\n",
    "\n",
    "# Convert 'Date' column to datetime\n",
    "covid_data['Date'] = pd.to_datetime(covid_data['Date'])\n",
    "\n",
    "# Initialize the Dash app\n",
    "app = Dash(__name__)\n",
    "\n",
    "# Define the layout of the app\n",
    "app.layout = html.Div([\n",
    "    html.H1(\"COVID-19 Dashboard\"),\n",
    "    dcc.Dropdown(\n",
    "        id='country-dropdown',\n",
    "        options=[{'label': country, 'value': country} for country in covid_data['Country/Region'].unique()],\n",
    "        value=['Afghanistan'],\n",
    "        multi=True\n",
    "    ),\n",
    "    dcc.Graph(id='covid-time-series'),\n",
    "    dcc.Graph(id='covid-daily-stats')\n",
    "])\n",
    "\n",
    "# Define the callback to update the plots based on selected countries\n",
    "@app.callback(\n",
    "    [Output('covid-time-series', 'figure'),\n",
    "     Output('covid-daily-stats', 'figure')],\n",
    "    [Input('country-dropdown', 'value')]\n",
    ")\n",
    "def update_graph(selected_countries):\n",
    "    if not selected_countries:\n",
    "        return {}, {}\n",
    "\n",
    "    filtered_data = covid_data[covid_data['Country/Region'].isin(selected_countries)]\n",
    "    \n",
    "    # Cumulative data over time\n",
    "    fig_time_series = go.Figure()\n",
    "    for country in selected_countries:\n",
    "        country_data = filtered_data[filtered_data['Country/Region'] == country]\n",
    "        fig_time_series.add_trace(go.Scatter(x=country_data['Date'], y=country_data['Confirmed'],\n",
    "                                             mode='lines', name=f'{country} Confirmed'))\n",
    "        fig_time_series.add_trace(go.Scatter(x=country_data['Date'], y=country_data['Deaths'],\n",
    "                                             mode='lines', name=f'{country} Deaths'))\n",
    "        fig_time_series.add_trace(go.Scatter(x=country_data['Date'], y=country_data['Recovered'],\n",
    "                                             mode='lines', name=f'{country} Recovered'))\n",
    "    fig_time_series.update_layout(title='Cumulative COVID-19 Cases Over Time',\n",
    "                                  xaxis_title='Date',\n",
    "                                  yaxis_title='Count',\n",
    "                                  hovermode='x unified')\n",
    "\n",
    "    # Daily new data\n",
    "    fig_daily_stats = go.Figure()\n",
    "    for country in selected_countries:\n",
    "        country_data = filtered_data[filtered_data['Country/Region'] == country]\n",
    "        fig_daily_stats.add_trace(go.Scatter(x=country_data['Date'], y=country_data['Daily Confirmed'],\n",
    "                                             mode='lines', name=f'{country} Daily Confirmed'))\n",
    "        fig_daily_stats.add_trace(go.Scatter(x=country_data['Date'], y=country_data['Daily Deaths'],\n",
    "                                             mode='lines', name=f'{country} Daily Deaths'))\n",
    "        fig_daily_stats.add_trace(go.Scatter(x=country_data['Date'], y=country_data['Daily Recovered'],\n",
    "                                             mode='lines', name=f'{country} Daily Recovered'))\n",
    "    fig_daily_stats.update_layout(title='Daily COVID-19 Cases, Deaths, and Recoveries',\n",
    "                                  xaxis_title='Date',\n",
    "                                  yaxis_title='Count',\n",
    "                                  hovermode='x unified')\n",
    "    \n",
    "    # Enable zooming and panning\n",
    "    fig_time_series.update_xaxes(rangeslider_visible=True)\n",
    "    fig_daily_stats.update_xaxes(rangeslider_visible=True)\n",
    "\n",
    "    return fig_time_series, fig_daily_stats\n",
    "\n",
    "# Run the app\n",
    "if __name__ == '__main__':\n",
    "    app.run_server(debug=True)\n"
   ]
  }
 ],
 "metadata": {
  "kernelspec": {
   "display_name": ".venv",
   "language": "python",
   "name": "python3"
  },
  "language_info": {
   "codemirror_mode": {
    "name": "ipython",
    "version": 3
   },
   "file_extension": ".py",
   "mimetype": "text/x-python",
   "name": "python",
   "nbconvert_exporter": "python",
   "pygments_lexer": "ipython3",
   "version": "3.11.9"
  }
 },
 "nbformat": 4,
 "nbformat_minor": 2
}
