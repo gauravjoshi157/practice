{
 "cells": [
  {
   "cell_type": "code",
   "execution_count": 2,
   "metadata": {},
   "outputs": [],
   "source": [
    "\n",
    "import threading\n",
    "\n"
   ]
  },
  {
   "cell_type": "code",
   "execution_count": 5,
   "metadata": {},
   "outputs": [],
   "source": [
    "def print_cube(num):\n",
    "    print(\"cube: {}\".format(num * num * num))\n",
    "\n",
    "def print_square(num):\n",
    "    print(\"square: {}\".format(num * num))\n",
    "\n",
    "if __name__ == \"_main_\":\n",
    "    t1 = threading.Thread(target=print_square, args=(10,))\n",
    "    t2 = threading.Thread(target=print_cube, args=(10,))\n",
    "    \n",
    "    t1.start()\n",
    "    t2.start()\n",
    "    \n",
    "    t1.join()\n",
    "    t2.join()\n",
    "    \n",
    "    print(\"done\")"
   ]
  },
  {
   "cell_type": "code",
   "execution_count": 6,
   "metadata": {},
   "outputs": [
    {
     "name": "stdout",
     "output_type": "stream",
     "text": [
      "Worker thread running\n",
      "Worker thread running\n",
      "Main thread continuing to run\n"
     ]
    }
   ],
   "source": [
    "import concurrent.futures\n",
    "\n",
    "def worker():\n",
    "    print(\"Worker thread running\")\n",
    "\n",
    "pool = concurrent.futures.ThreadPoolExecutor(max_workers=2)\n",
    "\n",
    "pool.submit(worker)\n",
    "pool.submit(worker)\n",
    "\n",
    "pool.shutdown(wait=True)\n",
    "\n",
    "print(\"Main thread continuing to run\")"
   ]
  },
  {
   "cell_type": "code",
   "execution_count": null,
   "metadata": {},
   "outputs": [],
   "source": []
  }
 ],
 "metadata": {
  "kernelspec": {
   "display_name": "Python 3",
   "language": "python",
   "name": "python3"
  },
  "language_info": {
   "codemirror_mode": {
    "name": "ipython",
    "version": 3
   },
   "file_extension": ".py",
   "mimetype": "text/x-python",
   "name": "python",
   "nbconvert_exporter": "python",
   "pygments_lexer": "ipython3",
   "version": "3.11.9"
  }
 },
 "nbformat": 4,
 "nbformat_minor": 2
}
