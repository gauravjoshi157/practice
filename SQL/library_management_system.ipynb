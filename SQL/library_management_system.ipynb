{
 "cells": [
  {
   "cell_type": "markdown",
   "metadata": {},
   "source": [
    "# Project 2: Library Management System\n",
    "\n",
    "__Objective:__\n",
    "Develop a system to manage books in a library, including adding new books, updating information, viewing book details, and removing books.\n",
    "\n",
    " ### Setup and Requirements:\n",
    "\n",
    "- __Database:__ SQLite\n",
    "- __Technology:__ Python\n",
    "\n",
    "### Implementation Steps:\n",
    "\n",
    "1. Create Database and Table:"
   ]
  },
  {
   "cell_type": "code",
   "execution_count": 1,
   "metadata": {},
   "outputs": [],
   "source": [
    "# Import sqlite3\n",
    "import sqlite3"
   ]
  },
  {
   "cell_type": "code",
   "execution_count": 2,
   "metadata": {},
   "outputs": [],
   "source": [
    "# Create database 'library.db' if not exist \n",
    "conn = sqlite3.connect('library.db')\n"
   ]
  },
  {
   "cell_type": "code",
   "execution_count": 3,
   "metadata": {},
   "outputs": [],
   "source": [
    "# Make an object and create table 'books'\n",
    "cursor = conn.cursor()\n",
    "\n",
    "cursor.execute('''\n",
    "    CREATE TABLE IF NOT EXISTS books (\n",
    "        id INTEGER PRIMARY KEY AUTOINCREMENT,\n",
    "        title TEXT NOT NULL,\n",
    "        author TEXT NOT NULL,\n",
    "        published_date TEXT,\n",
    "        isbn TEXT UNIQUE\n",
    "    )\n",
    "''')\n",
    "conn.commit()"
   ]
  },
  {
   "cell_type": "code",
   "execution_count": 4,
   "metadata": {},
   "outputs": [],
   "source": [
    "# Add a book \n",
    "def add_book(title, author, published_date, isbn):\n",
    "    cursor.execute('''\n",
    "                   INSERT INTO books(title, author, published_date, isbn)\n",
    "                   VALUES (?, ?, ?, ?)\n",
    "                   ''',((title, author, published_date, isbn)))\n",
    "    conn.commit()"
   ]
  },
  {
   "cell_type": "code",
   "execution_count": 8,
   "metadata": {},
   "outputs": [],
   "source": [
    "# Varify by adding books into the table \n",
    "add_book(\"The Great Gatsby\", \"F. Scott Fitzgerald\", \"1925-04-10\", \"9780743273565\")\n",
    "add_book(\"To Kill a Mockingbird\", \"Harper Lee\", \"1960-07-11\", \"9780060935467\")\n",
    "add_book(\"1984\", \"George Orwell\", \"1949-06-08\", \"9780451524935\")\n"
   ]
  },
  {
   "cell_type": "code",
   "execution_count": 5,
   "metadata": {},
   "outputs": [],
   "source": [
    "# View Books \n",
    "def view_books():\n",
    "    cursor.execute('SELECT * FROM books')\n",
    "    rows = cursor.fetchall()\n",
    "    for row in rows:\n",
    "        print(row)"
   ]
  },
  {
   "cell_type": "code",
   "execution_count": 9,
   "metadata": {},
   "outputs": [
    {
     "name": "stdout",
     "output_type": "stream",
     "text": [
      "(1, 'The Great Gatsby', 'F. Scott Fitzgerald', '1925-04-10', '9780743273565')\n",
      "(2, 'To Kill a Mockingbird', 'Harper Lee', '1960-07-11', '9780060935467')\n",
      "(3, '1984', 'George Orwell', '1949-06-08', '9780451524935')\n"
     ]
    }
   ],
   "source": [
    "# View the table \n",
    "view_books()"
   ]
  },
  {
   "cell_type": "code",
   "execution_count": 6,
   "metadata": {},
   "outputs": [],
   "source": [
    "# Update books\n",
    "def update_book(book_id, title=None, author=None, published_date=None, isbn=None):\n",
    "    query = 'UPDATE books SET'\n",
    "    params = []\n",
    "    if title:\n",
    "        query += ' title = ?,'\n",
    "        params.append(title)\n",
    "    if author:\n",
    "        query += ' author = ?,'\n",
    "        params.append(author)\n",
    "    if published_date:\n",
    "        query += ' published_date = ?,'\n",
    "        params.append(published_date)\n",
    "    if isbn:\n",
    "        query += ' isbn = ?,'\n",
    "        params.append(isbn)\n",
    "    query = query.rstrip(',') + ' WHERE id = ?'\n",
    "    params.append(book_id)\n",
    "    cursor.execute(query, params)\n",
    "    conn.commit()\n"
   ]
  },
  {
   "cell_type": "code",
   "execution_count": 10,
   "metadata": {},
   "outputs": [],
   "source": [
    "# Varify the update query works \n",
    "update_book(1, author=\"Francis Scott Fitzgerald\")\n"
   ]
  },
  {
   "cell_type": "code",
   "execution_count": 11,
   "metadata": {},
   "outputs": [
    {
     "name": "stdout",
     "output_type": "stream",
     "text": [
      "(1, 'The Great Gatsby', 'Francis Scott Fitzgerald', '1925-04-10', '9780743273565')\n",
      "(2, 'To Kill a Mockingbird', 'Harper Lee', '1960-07-11', '9780060935467')\n",
      "(3, '1984', 'George Orwell', '1949-06-08', '9780451524935')\n"
     ]
    }
   ],
   "source": [
    "view_books()"
   ]
  },
  {
   "cell_type": "code",
   "execution_count": 7,
   "metadata": {},
   "outputs": [],
   "source": [
    "# Delete Books \n",
    "def delete_book(book_id):\n",
    "    cursor.execute('DELETE FROM books WHERE id = ?', (book_id,))\n",
    "    conn.commit()"
   ]
  },
  {
   "cell_type": "code",
   "execution_count": 12,
   "metadata": {},
   "outputs": [],
   "source": [
    "# Varify that the delete query\n",
    "delete_book(3)"
   ]
  },
  {
   "cell_type": "code",
   "execution_count": 13,
   "metadata": {},
   "outputs": [
    {
     "name": "stdout",
     "output_type": "stream",
     "text": [
      "(1, 'The Great Gatsby', 'Francis Scott Fitzgerald', '1925-04-10', '9780743273565')\n",
      "(2, 'To Kill a Mockingbird', 'Harper Lee', '1960-07-11', '9780060935467')\n"
     ]
    }
   ],
   "source": [
    "view_books()"
   ]
  }
 ],
 "metadata": {
  "kernelspec": {
   "display_name": ".venv",
   "language": "python",
   "name": "python3"
  },
  "language_info": {
   "codemirror_mode": {
    "name": "ipython",
    "version": 3
   },
   "file_extension": ".py",
   "mimetype": "text/x-python",
   "name": "python",
   "nbconvert_exporter": "python",
   "pygments_lexer": "ipython3",
   "version": "3.11.9"
  }
 },
 "nbformat": 4,
 "nbformat_minor": 2
}
