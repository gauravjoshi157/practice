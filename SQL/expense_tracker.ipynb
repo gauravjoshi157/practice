{
 "cells": [
  {
   "cell_type": "markdown",
   "metadata": {},
   "source": [
    "## Project 1: Personal Expense Tracker\n",
    "## Objective:\n",
    "Build an application to track personal expenses,allowing users to add,view,update and delete expense records.\n",
    "\n",
    "## Setup and Requirements:\n",
    "- **Database** : SQLite\n",
    "- **Technology** : Python"
   ]
  },
  {
   "cell_type": "code",
   "execution_count": 1,
   "metadata": {},
   "outputs": [],
   "source": [
    "# Import sqlite3 library\n",
    "import sqlite3"
   ]
  },
  {
   "cell_type": "code",
   "execution_count": 5,
   "metadata": {},
   "outputs": [],
   "source": [
    "# Connect the database or Create database if not exists\n",
    "conn=sqlite3.connect('expense_tracker.db')"
   ]
  },
  {
   "cell_type": "code",
   "execution_count": 6,
   "metadata": {},
   "outputs": [],
   "source": [
    "# Make an Object \n",
    "cursor=conn.cursor()"
   ]
  },
  {
   "cell_type": "code",
   "execution_count": 7,
   "metadata": {},
   "outputs": [],
   "source": [
    "# Create expenses table \n",
    "cursor.execute('''\n",
    "               CREATE TABLE IF NOT EXISTS expenses(\n",
    "                   id INTEGER PRIMARY KEY AUTOINCREMENT,\n",
    "                   date TEXT NOT NULL,\n",
    "                   category TEXT NOT NULL,\n",
    "                   amount REAL NOT NULL,\n",
    "                   description TEXT\n",
    "                   )\n",
    "               ''')\n",
    "conn.commit()"
   ]
  },
  {
   "cell_type": "code",
   "execution_count": 8,
   "metadata": {},
   "outputs": [],
   "source": [
    "## add expenses\n",
    "def add_expense(date,category,amount,description):\n",
    "    cursor.execute('''\n",
    "                   INSERT INTO expenses(date,category,amount,description)\n",
    "                   VALUES(?,?,?,?)\n",
    "                   ''',(date,category,amount,description))\n",
    "    conn.commit()"
   ]
  },
  {
   "cell_type": "code",
   "execution_count": 9,
   "metadata": {},
   "outputs": [],
   "source": [
    "add_expense('2024-09-10', 'Groceries', 50.75, 'Weekly grocery shopping')\n",
    "add_expense('2024-09-11', 'Transport', 15.00, 'Taxi fare')\n",
    "add_expense('2024-09-12', 'Utilities', 100.00, 'Electricity bill')"
   ]
  },
  {
   "cell_type": "code",
   "execution_count": 10,
   "metadata": {},
   "outputs": [],
   "source": [
    "# view expenses\n",
    "def view_expenses():\n",
    "    cursor.execute('SELECT*FROM expenses')\n",
    "    rows=cursor.fetchall()\n",
    "    for row in rows:\n",
    "        print(row)"
   ]
  },
  {
   "cell_type": "code",
   "execution_count": 11,
   "metadata": {},
   "outputs": [
    {
     "name": "stdout",
     "output_type": "stream",
     "text": [
      "(1, '2024-09-10', 'Groceries', 50.75, 'Weekly grocery shopping')\n",
      "(2, '2024-09-11', 'Transport', 15.0, 'Taxi fare')\n",
      "(3, '2024-09-12', 'Utilities', 100.0, 'Electricity bill')\n"
     ]
    }
   ],
   "source": [
    "view_expenses()"
   ]
  },
  {
   "cell_type": "code",
   "execution_count": 12,
   "metadata": {},
   "outputs": [],
   "source": [
    "#update and delete expenses\n",
    "def update_expense(expense_id,date=None,category=None,amount=None,description=None):\n",
    "    query='UPDATE expenses SET'\n",
    "    #Make a empty list\n",
    "    params=[]\n",
    "    if date:\n",
    "        query += ' date = ?,'\n",
    "        params.append(date)\n",
    "    if category:\n",
    "        query += ' category = ?,'\n",
    "        params.append(category)\n",
    "        \n",
    "    if amount:\n",
    "        query+= ' amount = ?,'\n",
    "        params.append(amount)\n",
    "    \n",
    "    if description:\n",
    "        query+= ' description = ?,'\n",
    "        params.append(description)\n",
    "        \n",
    "    query = query.rstrip(',') + ' WHERE id = ?'\n",
    "    params.append(expense_id)\n",
    "    cursor.execute(query,params)\n",
    "    conn.commit()\n",
    "    "
   ]
  },
  {
   "cell_type": "code",
   "execution_count": 13,
   "metadata": {},
   "outputs": [],
   "source": [
    "# Updating sample expenses\n",
    "update_expense(1, date='2024-09-11', amount=55.00)\n",
    "update_expense(2, category='Public Transport', description='Bus fare')\n",
    "update_expense(3, amount=105.00)"
   ]
  },
  {
   "cell_type": "code",
   "execution_count": 14,
   "metadata": {},
   "outputs": [
    {
     "name": "stdout",
     "output_type": "stream",
     "text": [
      "(1, '2024-09-11', 'Groceries', 55.0, 'Weekly grocery shopping')\n",
      "(2, '2024-09-11', 'Public Transport', 15.0, 'Bus fare')\n",
      "(3, '2024-09-12', 'Utilities', 105.0, 'Electricity bill')\n"
     ]
    }
   ],
   "source": [
    "view_expenses()"
   ]
  },
  {
   "cell_type": "code",
   "execution_count": 15,
   "metadata": {},
   "outputs": [],
   "source": [
    "# delete expense\n",
    "def delete_expense(expense_id):\n",
    "    cursor.execute('DELETE FROM expenses WHERE id = ?',(expense_id,))\n",
    "    conn.commit()"
   ]
  },
  {
   "cell_type": "code",
   "execution_count": 16,
   "metadata": {},
   "outputs": [],
   "source": [
    "delete_expense(3)"
   ]
  },
  {
   "cell_type": "code",
   "execution_count": 17,
   "metadata": {},
   "outputs": [
    {
     "name": "stdout",
     "output_type": "stream",
     "text": [
      "(1, '2024-09-11', 'Groceries', 55.0, 'Weekly grocery shopping')\n",
      "(2, '2024-09-11', 'Public Transport', 15.0, 'Bus fare')\n"
     ]
    }
   ],
   "source": [
    "view_expenses()"
   ]
  }
 ],
 "metadata": {
  "kernelspec": {
   "display_name": "Python 3",
   "language": "python",
   "name": "python3"
  },
  "language_info": {
   "codemirror_mode": {
    "name": "ipython",
    "version": 3
   },
   "file_extension": ".py",
   "mimetype": "text/x-python",
   "name": "python",
   "nbconvert_exporter": "python",
   "pygments_lexer": "ipython3",
   "version": "3.11.9"
  }
 },
 "nbformat": 4,
 "nbformat_minor": 2
}
