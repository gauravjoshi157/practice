{
 "cells": [
  {
   "cell_type": "markdown",
   "metadata": {},
   "source": [
    "# Python Context Manager:\n",
    "\n",
    "- Context manager in Python is a way to allocate and release resources precisely when you need to.\n",
    "\n",
    "- The most common use case for a context manager is file operations, but it can be used for many other tasks, like managing database connections, threading locks, etc.\n",
    "\n",
    "- Context managers are implemented using two methods: ```__enter__```() and ```__exit__```().\n",
    "\n",
    "- The with statement in Python is used to wrap the execution of a block of code. The context manager sets up a context for the block of code and takes care of the cleanup after the block of code has been executed, even if an exception occurs.\n"
   ]
  },
  {
   "cell_type": "markdown",
   "metadata": {},
   "source": [
    "## Implementation of a Context Manager\n",
    "\n",
    "##### Using Class"
   ]
  },
  {
   "cell_type": "code",
   "execution_count": 10,
   "metadata": {},
   "outputs": [],
   "source": [
    "\n",
    "class FileManager:\n",
    "    def __init__(self, filename, mode):\n",
    "        self.filename = filename\n",
    "        self.mode = mode\n",
    "    \n",
    "    def __enter__(self):\n",
    "        self.file = open(self.filename, self.mode)\n",
    "        return self.file\n",
    "    \n",
    "    def __exit__(self, exc_type, exc_val, exc_tb):\n",
    "        self.file.close()\n",
    "        if exc_type:\n",
    "            print(f\"An exception occurred: {exc_val}\")\n",
    "        return True  # Suppress the exception if needed\n",
    "\n",
    "# Usage\n",
    "with FileManager('test.txt', 'w') as f:\n",
    "    f.write('Hello, World!')\n",
    "            "
   ]
  },
  {
   "cell_type": "markdown",
   "metadata": {},
   "source": [
    "In this example, FileManager class handles the file operations. The ```__enter__```() method opens the file and returns it, while the ```__exit__```() method closes the file and optionally handles any exceptions."
   ]
  },
  {
   "cell_type": "markdown",
   "metadata": {},
   "source": [
    "##### Using a Decorator (contextlib module):"
   ]
  },
  {
   "cell_type": "code",
   "execution_count": 11,
   "metadata": {},
   "outputs": [],
   "source": [
    "\n",
    "from contextlib import contextmanager\n",
    "\n",
    "@contextmanager\n",
    "def file_manager(filename, mode):\n",
    "    f = open(filename, mode)\n",
    "    try:\n",
    "        yield f\n",
    "    finally:\n",
    "        f.close()\n",
    "\n",
    "# Usage\n",
    "with file_manager('test.txt', 'w') as f:\n",
    "    f.write('Hello, World!')\n",
    "            "
   ]
  },
  {
   "cell_type": "markdown",
   "metadata": {},
   "source": [
    "Here, the file_manager function is decorated with @contextmanager, which allows it to be used as a context manager. The code before the yield statement is executed when entering the context, and the code after the yield is executed when exiting the context."
   ]
  },
  {
   "cell_type": "markdown",
   "metadata": {},
   "source": [
    "#### Explanation\n",
    "\n",
    "1. Entering the Context (```__enter__```): When the with statement is executed, the ```__enter__```() method is called. It sets up the resource and returns it. The returned value is assigned to the variable after the as keyword.\n",
    "\n",
    "2. Executing the Block: The block of code under the with statement is executed.\n",
    "\n",
    "3. Exiting the Context (```__exit__```): After the block of code is executed, the ```__exit__```() method is called. This method takes care of any cleanup actions like closing a file or releasing a lock."
   ]
  },
  {
   "cell_type": "markdown",
   "metadata": {},
   "source": [
    "##### Example: Custom Context Manager"
   ]
  },
  {
   "cell_type": "code",
   "execution_count": 12,
   "metadata": {},
   "outputs": [
    {
     "name": "stdout",
     "output_type": "stream",
     "text": [
      "Connecting to my_database database\n",
      "Performing database operations\n",
      "Closing connection to my_database database\n",
      "Connection closed\n"
     ]
    }
   ],
   "source": [
    "\n",
    "class DatabaseConnection:\n",
    "    def __init__(self, db_name):\n",
    "        self.db_name = db_name\n",
    "    \n",
    "    def __enter__(self):\n",
    "        print(f\"Connecting to {self.db_name} database\")\n",
    "        self.connection = self._connect_to_db()\n",
    "        return self.connection\n",
    "    \n",
    "    def __exit__(self, exc_type, exc_val, exc_tb):\n",
    "        print(f\"Closing connection to {self.db_name} database\")\n",
    "        self.connection.close()\n",
    "        if exc_type:\n",
    "            print(f\"An exception occurred: {exc_val}\")\n",
    "        return True\n",
    "    \n",
    "    def _connect_to_db(self):\n",
    "        # Simulating database connection\n",
    "        class Connection:\n",
    "            def close(self):\n",
    "                print(\"Connection closed\")\n",
    "        return Connection()\n",
    "\n",
    "# Usage\n",
    "with DatabaseConnection('my_database') as conn:\n",
    "    print(\"Performing database operations\")\n",
    "            "
   ]
  },
  {
   "cell_type": "markdown",
   "metadata": {},
   "source": [
    "In this example, DatabaseConnection class manages a mock database connection. The ```__enter__```() method simulates opening the connection, and the ```__exit__```() method closes it, ensuring proper resource management.\n",
    "\n",
    "Using context managers ensures that resources are properly managed, reducing the risk of resource leaks and making the code more readable and maintainable."
   ]
  },
  {
   "cell_type": "markdown",
   "metadata": {},
   "source": []
  }
 ],
 "metadata": {
  "kernelspec": {
   "display_name": "Python 3",
   "language": "python",
   "name": "python3"
  },
  "language_info": {
   "codemirror_mode": {
    "name": "ipython",
    "version": 3
   },
   "file_extension": ".py",
   "mimetype": "text/x-python",
   "name": "python",
   "nbconvert_exporter": "python",
   "pygments_lexer": "ipython3",
   "version": "3.11.9"
  }
 },
 "nbformat": 4,
 "nbformat_minor": 2
}
