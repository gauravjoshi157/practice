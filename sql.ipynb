{
 "cells": [
  {
   "cell_type": "markdown",
   "metadata": {},
   "source": [
    "# What is SQL\n",
    "\n",
    "- SQL stands for Structured Query Language\n",
    "- SQL lets you access and manipulate database \n",
    "- SQL became a standard of the American National Standards Institute (ANSI) in 1986, and of the International Organization for Standardization (ISO) in 1987"
   ]
  },
  {
   "cell_type": "markdown",
   "metadata": {},
   "source": [
    "# What can SQL do?\n",
    "- SQL can execute queries against a database\n",
    "- SQL can retrieve data from a database\n",
    "- SQL can insert records in a database\n",
    "- SQL can update records in a database\n",
    "- SQL can delete records from a database\n",
    "- SQL can create new databases\n",
    "- SQL can create new tables in a database\n",
    "- SQL can create stored procedures in a database\n",
    "- SQL can create views in a database\n",
    "- SQL can set permissions on tables, procedures, and views"
   ]
  },
  {
   "cell_type": "markdown",
   "metadata": {},
   "source": [
    "# 1. Introduction to Databases\n",
    "\n",
    "A `database` is a structured collection of data stored electronically. It is managed by Database Management Systems (DBMS), which provide tools for data storage, retrieval, and manipulation. Databases are essential for applications that need to handle large volumes of data efficiently and securely.\n",
    "\n",
    "__Example:__ A company might use a database to store information about employees, including their names, positions, and salaries.\n",
    "\n",
    "|id |\tname   | position\t| salary |\n",
    "|---|----------|------------|--------|\n",
    "|1\t|John Doe  | Engineer\t| 70000  |\n",
    "|2\t|Jane Smith| Manager\t| 85000  |\n"
   ]
  },
  {
   "cell_type": "markdown",
   "metadata": {},
   "source": [
    "# Syntax of Create Database statement in SQL"
   ]
  },
  {
   "cell_type": "code",
   "execution_count": null,
   "metadata": {
    "vscode": {
     "languageId": "sql"
    }
   },
   "outputs": [],
   "source": [
    "CREATE DATABASE Database_Name;  "
   ]
  },
  {
   "cell_type": "markdown",
   "metadata": {},
   "source": []
  }
 ],
 "metadata": {
  "kernelspec": {
   "display_name": ".venv",
   "language": "python",
   "name": "python3"
  },
  "language_info": {
   "codemirror_mode": {
    "name": "ipython",
    "version": 3
   },
   "file_extension": ".py",
   "mimetype": "text/x-python",
   "name": "python",
   "nbconvert_exporter": "python",
   "pygments_lexer": "ipython3",
   "version": "3.11.9"
  }
 },
 "nbformat": 4,
 "nbformat_minor": 2
}
