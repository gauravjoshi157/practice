{
 "cells": [
  {
   "cell_type": "code",
   "execution_count": 15,
   "id": "931d8e0a-ec90-4401-8a98-6911a3ff80c0",
   "metadata": {},
   "outputs": [
    {
     "name": "stdout",
     "output_type": "stream",
     "text": [
      "Twinkle, twinkle, little star,\n",
      "\t How I wonder what you are! \n",
      "\t\t Up above the world so high,\n",
      "\t\t Like a diamond in the sky.\n",
      " Twinkle, twinkle, little star,\n",
      "\t How I wonder what you are\n"
     ]
    }
   ],
   "source": [
    "print( \"Twinkle, twinkle, little star,\\n\\t How I wonder what you are! \\n\\t\\t Up above the world so high,\\n\\t\\t Like a diamond in the sky.\\n Twinkle, twinkle, little star,\\n\\t How I wonder what you are\")"
   ]
  },
  {
   "cell_type": "code",
   "execution_count": 19,
   "id": "4d9faff6-7a42-4066-9d37-1b8c22274e7b",
   "metadata": {},
   "outputs": [
    {
     "name": "stdout",
     "output_type": "stream",
     "text": [
      "3.11.7\n"
     ]
    }
   ],
   "source": [
    "#program to fimd the python version\n",
    "import platform as plt\n",
    "print(plt.python_version())"
   ]
  },
  {
   "cell_type": "code",
   "execution_count": 23,
   "id": "3ff9f6f4-3d9e-48f2-8125-e23b5d57e7f2",
   "metadata": {},
   "outputs": [
    {
     "name": "stdout",
     "output_type": "stream",
     "text": [
      "2024-06-13 12:55:52.292144\n"
     ]
    }
   ],
   "source": [
    "#program to print current date and time\n",
    "import datetime as dt\n",
    "print(dt.datetime.now())"
   ]
  },
  {
   "cell_type": "code",
   "execution_count": 31,
   "id": "5a85025d-e17d-418d-8c53-3838e897beb6",
   "metadata": {},
   "outputs": [
    {
     "name": "stdin",
     "output_type": "stream",
     "text": [
      "enter the radius of the circle: 1.1\n"
     ]
    },
    {
     "name": "stdout",
     "output_type": "stream",
     "text": [
      "area of circle is: 3.8013271108436504\n"
     ]
    }
   ],
   "source": [
    "# program to find area of circle by taking the radius form user\n",
    "import math\n",
    "radius = float(input(\"enter the radius of the circle:\"))\n",
    "Area_of_circle = math.pi*radius*radius\n",
    "print(\"area of circle is:\",Area_of_circle)"
   ]
  },
  {
   "cell_type": "code",
   "execution_count": 47,
   "id": "b59dcd18-f0a6-40ce-aea5-960177cca201",
   "metadata": {},
   "outputs": [
    {
     "name": "stdin",
     "output_type": "stream",
     "text": [
      "enter your first name: gaurav\n",
      "enter your last  name: joshi\n"
     ]
    },
    {
     "name": "stdout",
     "output_type": "stream",
     "text": [
      "joshi   gaurav\n"
     ]
    }
   ],
   "source": [
    "# program that accepts the user's first and last name and prints them in reverse order with a space between them.\n",
    "fname = input(\"enter your first name:\")\n",
    "lname = input(\"enter your last  name:\")\n",
    "print(lname,\" \",fname)"
   ]
  },
  {
   "cell_type": "code",
   "execution_count": 46,
   "id": "70b69451-7115-421a-a7e9-5e3d757c60ff",
   "metadata": {},
   "outputs": [
    {
     "name": "stdin",
     "output_type": "stream",
     "text": [
      "enter the numbers 2,3,4,5\n"
     ]
    },
    {
     "name": "stdout",
     "output_type": "stream",
     "text": [
      "list: ['2', '3', '4', '5']\n",
      "tuple: ('2', '3', '4', '5')\n"
     ]
    }
   ],
   "source": [
    "#Python program that accepts a sequence of comma-separated numbers from the user and generates a list and a tuple of those numbers.\n",
    "enter_the_sequence = input(\"enter the numbers\")\n",
    "list = enter_the_sequence.split(\",\")\n",
    "print('list:',list)\n",
    "tuple_of_numbers = tuple(list)\n",
    "print('tuple:',tuple_of_numbers)\n"
   ]
  },
  {
   "cell_type": "code",
   "execution_count": 48,
   "id": "e5eb1732-f0a8-4e39-ab99-7f5b12543daa",
   "metadata": {},
   "outputs": [
    {
     "name": "stdin",
     "output_type": "stream",
     "text": [
      "enter the file name: abc.java\n"
     ]
    },
    {
     "name": "stdout",
     "output_type": "stream",
     "text": [
      "the file extension is:'java'\n"
     ]
    }
   ],
   "source": [
    "# Python program that accepts a filename from the user and prints the extension of the file.\n",
    "fileName = input(\"enter the file name:\")\n",
    "split_fileName = fileName.split(\".\")\n",
    "print(\"the file extension is:\"+repr(split_fileName[-1]))\n"
   ]
  },
  {
   "cell_type": "code",
   "execution_count": 50,
   "id": "d0ca9d83-7494-4c99-8b4d-17df3a5aa491",
   "metadata": {},
   "outputs": [
    {
     "name": "stdout",
     "output_type": "stream",
     "text": [
      "Red Black\n"
     ]
    }
   ],
   "source": [
    "# Python program to display the first and last colors from the following list.\n",
    "# color_list = [\"Red\",\"Green\",\"White\" ,\"Black\"]\n",
    "color_list = [\"Red\",\"Green\",\"White\" ,\"Black\"]\n",
    "print(color_list[0],color_list[3])\n"
   ]
  },
  {
   "cell_type": "code",
   "execution_count": 63,
   "id": "df51799b-bc90-4ba3-8a09-22748d2840a9",
   "metadata": {},
   "outputs": [
    {
     "name": "stdout",
     "output_type": "stream",
     "text": [
      "The examination will start form : 11/12/2014 \n"
     ]
    }
   ],
   "source": [
    "# Python program to display the examination schedule. (extract the date from exam_st_date).exam_st_date = (11, 12, 2014)\n",
    "exam_st_date = (11, 12, 2014)\n",
    "print(\"The examination will start form : %i/%i/%i \"%exam_st_date)"
   ]
  },
  {
   "cell_type": "code",
   "execution_count": 75,
   "id": "ebb6d134-94ff-4063-9247-fa35ffb4a8a7",
   "metadata": {},
   "outputs": [
    {
     "name": "stdin",
     "output_type": "stream",
     "text": [
      "enter the value of n = 5\n"
     ]
    },
    {
     "name": "stdout",
     "output_type": "stream",
     "text": [
      "615\n"
     ]
    }
   ],
   "source": [
    "## Python program that accepts an integer (n) and computes the value of n+nn+nnn.\n",
    "a = int(input(\"enter the value of n =\"))\n",
    "n1 = int(\"%s\" % a)          # Convert 'a' to an integer\n",
    "n2 = int(\"%s%s\" % (a, a))   # Concatenate 'a' with itself and convert to an integer\n",
    "n3 = int(\"%s%s%s\" % (a, a, a))\n",
    "# x =n+n*n+n*n*n\n",
    "\n",
    "print(n1+n2+n3)"
   ]
  },
  {
   "cell_type": "code",
   "execution_count": 81,
   "id": "338a4137-7179-4b19-b134-5e475ab821c1",
   "metadata": {},
   "outputs": [
    {
     "name": "stdout",
     "output_type": "stream",
     "text": [
      "Return the absolute value of the argument.\n"
     ]
    }
   ],
   "source": [
    "print(abs.__doc__)"
   ]
  },
  {
   "cell_type": "code",
   "execution_count": 98,
   "id": "01074549-6a19-4749-89f2-6c6511ebd9ec",
   "metadata": {},
   "outputs": [
    {
     "name": "stdin",
     "output_type": "stream",
     "text": [
      "Enter the desired year : 2024\n",
      "Enter the desired month : 06\n"
     ]
    },
    {
     "name": "stdout",
     "output_type": "stream",
     "text": [
      "     June 2024\n",
      "Mo Tu We Th Fr Sa Su\n",
      "                1  2\n",
      " 3  4  5  6  7  8  9\n",
      "10 11 12 13 14 15 16\n",
      "17 18 19 20 21 22 23\n",
      "24 25 26 27 28 29 30\n",
      "\n"
     ]
    }
   ],
   "source": [
    "# Python program that prints the calendar for a given month and year by using calendar module.\n",
    "import calendar as cl\n",
    "year = int(input(\"Enter the desired year :\"))\n",
    "month = int(input(\"Enter the desired month :\"))\n",
    "x = cl.month(year,month)\n",
    "print(x)\n"
   ]
  },
  {
   "cell_type": "code",
   "execution_count": 103,
   "id": "bd3fb27b-0ad2-4898-bc0a-e269d83b0525",
   "metadata": {},
   "outputs": [
    {
     "name": "stdin",
     "output_type": "stream",
     "text": [
      "enter the first number: 3\n",
      "enter the second number: 5\n"
     ]
    },
    {
     "name": "stdout",
     "output_type": "stream",
     "text": [
      "sum of two numbers : 8\n"
     ]
    }
   ],
   "source": [
    "#program to add two numbers \n",
    "x= int(input(\"enter the first number:\"))\n",
    "y= int(input(\"enter the second number:\"))\n",
    "print(\"sum of two numbers :\",x+y)\n"
   ]
  },
  {
   "cell_type": "code",
   "execution_count": 106,
   "id": "eb640e58-5d36-4edf-ae44-29531a701340",
   "metadata": {},
   "outputs": [
    {
     "name": "stdin",
     "output_type": "stream",
     "text": [
      "enter the first number: -1\n",
      "enter the second number: 3\n"
     ]
    },
    {
     "name": "stdout",
     "output_type": "stream",
     "text": [
      "3\n"
     ]
    }
   ],
   "source": [
    "#maximum of two numubers\n",
    "x= int(input(\"enter the first number:\"))\n",
    "y= int(input(\"enter the second number:\"))\n",
    "if x>y:\n",
    "    print(x)\n",
    "else:\n",
    "    print(y)"
   ]
  },
  {
   "cell_type": "code",
   "execution_count": 120,
   "id": "83e5711a-7620-438b-9e1f-1f7233837210",
   "metadata": {},
   "outputs": [
    {
     "name": "stdin",
     "output_type": "stream",
     "text": [
      "enter the first number: 6\n"
     ]
    },
    {
     "name": "stdout",
     "output_type": "stream",
     "text": [
      "the factorial of the 6 is 720\n"
     ]
    }
   ],
   "source": [
    "#program to find factorial of a number\n",
    "\n",
    "def factorial(n):\n",
    "    if (n==0 or n==1):\n",
    "        return 1\n",
    "    else:\n",
    "         return n * factorial(n-1)\n",
    "        \n",
    "x= int(input(\"enter the first number:\"))\n",
    "print(\"the factorial of the\", x ,\"is\" ,factorial(x))\n",
    "\n",
    "        \n",
    "    "
   ]
  },
  {
   "cell_type": "code",
   "execution_count": 124,
   "id": "bf9633ed-6673-454f-82ad-5d3573ed7757",
   "metadata": {},
   "outputs": [
    {
     "name": "stdin",
     "output_type": "stream",
     "text": [
      "enter the principle amount: 100\n",
      "enter the intrest rate: 5\n",
      "enter the period of time in year : 1\n"
     ]
    },
    {
     "name": "stdout",
     "output_type": "stream",
     "text": [
      "Your total amount is : 105.0\n",
      "Your total intrest is : 5.0\n"
     ]
    }
   ],
   "source": [
    "# program for simple intrest \n",
    "principle = int(input(\"enter the principle amount:\"))\n",
    "rate = int(input(\"enter the intrest rate:\"))\n",
    "time = int(input(\"enter the period of time in year :\"))\n",
    "simple_intrest = principle*rate*time/100\n",
    "total_amount = principle +simple_intrest\n",
    "print(\"Your total amount is :\",total_amount)\n",
    "print(\"Your total intrest is :\",simple_intrest) \n"
   ]
  },
  {
   "cell_type": "code",
   "execution_count": 10,
   "id": "5093adbd-5555-4f6f-8e12-b4144d740426",
   "metadata": {},
   "outputs": [
    {
     "name": "stdin",
     "output_type": "stream",
     "text": [
      "enter the principal amount: 3000\n",
      "enter the intrest rate: 5\n",
      "enter the period of time in year : 3\n"
     ]
    },
    {
     "name": "stdout",
     "output_type": "stream",
     "text": [
      "Your total intrest is : 3472.8750000000005\n"
     ]
    }
   ],
   "source": [
    "#program for calculate compound intrest\n",
    "principal = int(input(\"enter the principal amount:\"))\n",
    "rate = float(input(\"enter the intrest rate:\"))\n",
    "time = int(input(\"enter the period of time in year :\"))\n",
    "compound_intrest = principal * (pow((1 + rate / 100), time))\n",
    "total_amount = principal+compound_intrest\n",
    "print(\"Your total amount is :\",total_amount)\n",
    "print(\"Your total intrest is :\",compound_intrest) \n"
   ]
  },
  {
   "cell_type": "code",
   "execution_count": 18,
   "id": "83fe98fb-af93-4e30-a7ac-1c87babf9f5f",
   "metadata": {},
   "outputs": [
    {
     "name": "stdout",
     "output_type": "stream",
     "text": [
      "11 is a prime number\n"
     ]
    }
   ],
   "source": [
    "# porgram tpo find a number is prime number or not\n",
    "num = 11\n",
    "if num > 1:\n",
    "    for i in range(2, (num//2)+1):\n",
    "        if (num % i) == 0:\n",
    "            print(num, \"is not a prime number\")\n",
    "            break\n",
    "    else:\n",
    "        print(num, \"is a prime number\")\n",
    "else:\n",
    "    print(num, \"is not a prime number\")"
   ]
  },
  {
   "cell_type": "code",
   "execution_count": null,
   "id": "a133f76b-a56c-4720-9156-ac591be784e2",
   "metadata": {},
   "outputs": [],
   "source": []
  }
 ],
 "metadata": {
  "kernelspec": {
   "display_name": "Python 3 (ipykernel)",
   "language": "python",
   "name": "python3"
  },
  "language_info": {
   "codemirror_mode": {
    "name": "ipython",
    "version": 3
   },
   "file_extension": ".py",
   "mimetype": "text/x-python",
   "name": "python",
   "nbconvert_exporter": "python",
   "pygments_lexer": "ipython3",
   "version": "3.11.7"
  }
 },
 "nbformat": 4,
 "nbformat_minor": 5
}
