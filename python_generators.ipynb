{
 "cells": [
  {
   "cell_type": "markdown",
   "metadata": {},
   "source": [
    "# Python Generators:\n",
    "\n",
    "#### In Python, a generator is a function that returns an iterator that produces a sequence of values when iterated over.\n",
    "\n",
    "#### Generators are useful when we want to produce a large sequence of values, but we don't want to store all of them in memory at once.\n",
    "\n",
    "\n",
    "\n",
    "### Use of Python Generators:\n",
    "1. Easy to Implement - Generators can be implemented in a clear and concise way as compared to their iterator class counterpart.\n",
    "\n",
    "</br>\n",
    "\n",
    "2. Memory Efficient - A normal function to return a sequence will create the entire sequence in memory before returning the result. This is an overkill, if the number of items in the sequence is very large.\n",
    "\n",
    "</br>\n",
    "\n",
    "3. Represent Infinite Stream - Generators are excellent mediums to represent an infinite stream of data. Infinite streams cannot be stored in memory, and since generators produce only one item at a time, they can represent an infinite stream of data.\n",
    "\n",
    "</br>\n",
    "\n",
    "4. Pipelining Generators - Multiple generators can be used to pipeline a series of operations. "
   ]
  },
  {
   "cell_type": "code",
   "execution_count": 4,
   "metadata": {},
   "outputs": [
    {
     "name": "stdout",
     "output_type": "stream",
     "text": [
      "abcd\n",
      "2\n",
      "3\n"
     ]
    }
   ],
   "source": [
    "#  Generators in python :\n",
    "#      A Generator in python is a function that returns an iterator using the 'yeild' keyword.\n",
    "        \n",
    "#  Generator Function in Python:\n",
    "#      A generator function in Python is defined like a normal function, but whenever it needs to generate a value, it does so with the yield keyword rather than return.\n",
    "#      If the body of a def contains yield, the function automatically becomes a Python generator function\n",
    "\n",
    "\n",
    "# Create a Generator in Python\n",
    "#      In Python, we can create a generator function by simply using the def keyword and the yield keyword.\n",
    "#      The generator has the following syntax in Python:\n",
    "\n",
    "# A generator function that yields \"abcd\" for first time, \n",
    "# 2 second time and 3 third time \n",
    "\n",
    "\n",
    "def simpleGeneratorFun(): \n",
    "    yield \"abcd\"            \n",
    "    yield 2            \n",
    "    yield 3            \n",
    "   \n",
    "\n",
    "\n",
    "# Driver code to check above generator function \n",
    "for value in simpleGeneratorFun():  \n",
    "    print(value)"
   ]
  },
  {
   "cell_type": "code",
   "execution_count": 5,
   "metadata": {},
   "outputs": [
    {
     "name": "stdout",
     "output_type": "stream",
     "text": [
      "1\n",
      "2\n",
      "3\n"
     ]
    }
   ],
   "source": [
    "# Generator Object :\n",
    "# Python Generators returns a generator object that is iterable,i.e., can be used as an iterator. \n",
    "# Generator objes=cts are used either by calling the next methode of the genrator object or using the generator object in a \"for in\" loop.\n",
    "\n",
    "## Example:In this example, we will create a simple generator function in Python to generate objects using the next() function.\n",
    "\n",
    "def simpleGeneratorFun():\n",
    "    yield 1\n",
    "    yield 2\n",
    "    yield 3\n",
    "x = simpleGeneratorFun()\n",
    "\n",
    "print(next(x))\n",
    "print(next(x))\n",
    "print(next(x))"
   ]
  },
  {
   "cell_type": "code",
   "execution_count": 6,
   "metadata": {},
   "outputs": [
    {
     "name": "stdout",
     "output_type": "stream",
     "text": [
      "0\n",
      "1\n",
      "1\n",
      "2\n",
      "3\n",
      "\n",
      "Using for in loop\n",
      "0\n",
      "1\n",
      "1\n",
      "2\n",
      "3\n"
     ]
    }
   ],
   "source": [
    "# Example :In this example, we will create two generators for Fibonacci Numbers, first a simple generator and second generator using a for loop.\n",
    "def fib(limit):\n",
    "    # initialize the first two Fibonnaci Numbers\n",
    "    a = 0\n",
    "    b = 1\n",
    "    # one by one yield next Fibonnaci Numbers \n",
    "    while a < limit:\n",
    "        yield a \n",
    "        a , b = b, a+b\n",
    "\n",
    "# create a generator object \n",
    "x = fib(5)\n",
    "# Iterating over the genrator object using next\n",
    "\n",
    "print(next(x))  \n",
    "print(next(x)) \n",
    "print(next(x)) \n",
    "print(next(x)) \n",
    "print(next(x)) \n",
    "\n",
    "# Iterating over the generator oobject using fro loop \n",
    "print(\"\\nUsing for in loop\") \n",
    "for value in fib(5):\n",
    "    print(value)"
   ]
  },
  {
   "cell_type": "code",
   "execution_count": 13,
   "metadata": {},
   "outputs": [
    {
     "name": "stdout",
     "output_type": "stream",
     "text": [
      "0\n",
      "10\n",
      "20\n"
     ]
    }
   ],
   "source": [
    "# Python Generator Expressioin:\n",
    "#   It is the anpother way of writing the generator function.\n",
    "#   it uses python list comprehension technique but instead of storing the element ins a list in memory, it creates generator objects.\n",
    "\n",
    "# The generator expression in Python has the following Syntax:\n",
    "# (expression for item in iterable)\n",
    "\n",
    "# Example:\n",
    "#   In this example, we will create a generator object that will print the multiples of 5 between the range of 0 to 5 which area also divisible by 2\n",
    "generator_exp = (i * 5 for i in range(5) if i % 2==0)\n",
    "for i in generator_exp:\n",
    "    print(i)\n",
    "\n",
    "\n",
    "\n",
    "\n",
    "\n",
    "\n",
    " "
   ]
  },
  {
   "cell_type": "code",
   "execution_count": null,
   "metadata": {},
   "outputs": [],
   "source": []
  }
 ],
 "metadata": {
  "kernelspec": {
   "display_name": "Python 3",
   "language": "python",
   "name": "python3"
  },
  "language_info": {
   "codemirror_mode": {
    "name": "ipython",
    "version": 3
   },
   "file_extension": ".py",
   "mimetype": "text/x-python",
   "name": "python",
   "nbconvert_exporter": "python",
   "pygments_lexer": "ipython3",
   "version": "3.11.9"
  }
 },
 "nbformat": 4,
 "nbformat_minor": 2
}
