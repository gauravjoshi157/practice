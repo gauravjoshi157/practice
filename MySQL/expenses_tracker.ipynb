{
 "cells": [
  {
   "cell_type": "code",
   "execution_count": 6,
   "metadata": {},
   "outputs": [],
   "source": [
    "# Import Library\n",
    "import mysql.connector"
   ]
  },
  {
   "cell_type": "code",
   "execution_count": 7,
   "metadata": {},
   "outputs": [],
   "source": [
    "# Create connection with server \n",
    "conn = mysql.connector.connect(host = \"localhost\", user = \"root\", password = \"1507\")\n"
   ]
  },
  {
   "cell_type": "code",
   "execution_count": 8,
   "metadata": {},
   "outputs": [],
   "source": [
    "# Create a object to run queries\n",
    "cursor = conn.cursor()"
   ]
  },
  {
   "cell_type": "code",
   "execution_count": 9,
   "metadata": {},
   "outputs": [],
   "source": [
    "# Use the database \n",
    "cursor.execute('USE expense_tracker')"
   ]
  },
  {
   "cell_type": "code",
   "execution_count": 10,
   "metadata": {},
   "outputs": [],
   "source": [
    "# Create table expenses\n",
    "cursor.execute('''\n",
    "            CREATE TABLE IF NOT EXISTS expenses(\n",
    "                id INTEGER PRIMARY KEY AUTO_INCREMENT,\n",
    "                date VARCHAR(50) NOT NULL,\n",
    "                category VARCHAR(50) NOT NULL,\n",
    "                amount DECIMAL(20) NOT NULL,\n",
    "                description VARCHAR(50)\n",
    "            )\n",
    "''')"
   ]
  },
  {
   "cell_type": "code",
   "execution_count": 11,
   "metadata": {},
   "outputs": [],
   "source": [
    "# Create function to add values into the table \n",
    "def add_expenses(date, category, amount, description):\n",
    "    cursor.execute('''\n",
    "                   INSERT INTO expenses(date, category, amount, description )\n",
    "                   VALUES(%s,%s,%s,%s)\n",
    "                   ''', (date, category, amount, description))\n",
    "    conn.commit()"
   ]
  },
  {
   "cell_type": "code",
   "execution_count": 12,
   "metadata": {},
   "outputs": [],
   "source": [
    "# Add sample values  \n",
    "add_expenses('2024-09-10', 'Groceries', 50.75, 'Weekly grocery shopping')\n",
    "add_expenses('2024-09-11', 'Transport', 15.00, 'Taxi fare')\n",
    "add_expenses('2024-09-12', 'Utilities', 100.00, 'Electricity bill')"
   ]
  },
  {
   "cell_type": "code",
   "execution_count": 13,
   "metadata": {},
   "outputs": [],
   "source": [
    "# Create a function to view the values of the table \n",
    "def view_expenses():\n",
    "    cursor.execute('SELECT * FROM expenses')\n",
    "    rows = cursor.fetchall()\n",
    "    for row in rows:\n",
    "        print(row) "
   ]
  },
  {
   "cell_type": "code",
   "execution_count": 14,
   "metadata": {},
   "outputs": [
    {
     "name": "stdout",
     "output_type": "stream",
     "text": [
      "(1, '2024-09-15', 'Dining', Decimal('51'), 'Weekly grocery shopping')\n",
      "(2, '2024-09-10', 'Groceries', Decimal('76'), 'Grocery shopping for the week')\n",
      "(3, '2024-09-12', 'Transport', Decimal('25'), 'Bus fare')\n",
      "(5, '2024-09-10', 'Groceries', Decimal('51'), 'Weekly grocery shopping')\n",
      "(6, '2024-09-11', 'Transport', Decimal('15'), 'Taxi fare')\n",
      "(7, '2024-09-12', 'Utilities', Decimal('100'), 'Electricity bill')\n"
     ]
    }
   ],
   "source": [
    "# View the values of the table \n",
    "view_expenses()"
   ]
  },
  {
   "cell_type": "code",
   "execution_count": 15,
   "metadata": {},
   "outputs": [],
   "source": [
    "def update_expenses(expense_id, date=None, category=None, amount=None, description=None):\n",
    "    query = \"UPDATE expenses SET \"\n",
    "    params = []\n",
    "    \n",
    "    if date:\n",
    "        query += \"date = %s, \"\n",
    "        params.append(date)\n",
    "    \n",
    "    if category:\n",
    "        query += \"category = %s, \"\n",
    "        params.append(category)\n",
    "        \n",
    "    if amount:\n",
    "        query += \"amount = %s, \"\n",
    "        params.append(amount)\n",
    "        \n",
    "    if description:\n",
    "        query += \"description = %s, \"\n",
    "        params.append(description)\n",
    "        \n",
    "    # Remove the trailing comma and space, and add WHERE clause\n",
    "    query = query.rstrip(', ') + \" WHERE id = %s\"\n",
    "    params.append(expense_id)\n",
    "    \n",
    "    # Execute the query\n",
    "    cursor.execute(query, tuple(params))\n",
    "    conn.commit()\n",
    "    \n",
    "    # Print the query and params for debugging\n",
    "    print(\"Query:\", query)\n",
    "    print(\"Params:\", params)\n"
   ]
  },
  {
   "cell_type": "code",
   "execution_count": 16,
   "metadata": {},
   "outputs": [
    {
     "name": "stdout",
     "output_type": "stream",
     "text": [
      "Query: UPDATE expenses SET date = %s, category = %s WHERE id = %s\n",
      "Params: ['2024-09-15', 'Dining', 1]\n",
      "Query: UPDATE expenses SET amount = %s, description = %s WHERE id = %s\n",
      "Params: [75.5, 'Grocery shopping for the week', 2]\n",
      "Query: UPDATE expenses SET date = %s, category = %s, amount = %s, description = %s WHERE id = %s\n",
      "Params: ['2024-09-12', 'Transport', '25.00', 'Bus fare', 3]\n"
     ]
    }
   ],
   "source": [
    "# Update some values \n",
    "update_expenses(1, date='2024-09-15', category='Dining')\n",
    "update_expenses(2, amount=75.50, description='Grocery shopping for the week')\n",
    "update_expenses(3, date='2024-09-12', category='Transport', amount=\"25.00\", description='Bus fare')"
   ]
  },
  {
   "cell_type": "code",
   "execution_count": 17,
   "metadata": {},
   "outputs": [
    {
     "name": "stdout",
     "output_type": "stream",
     "text": [
      "(1, '2024-09-15', 'Dining', Decimal('51'), 'Weekly grocery shopping')\n",
      "(2, '2024-09-10', 'Groceries', Decimal('76'), 'Grocery shopping for the week')\n",
      "(3, '2024-09-12', 'Transport', Decimal('25'), 'Bus fare')\n",
      "(5, '2024-09-10', 'Groceries', Decimal('51'), 'Weekly grocery shopping')\n",
      "(6, '2024-09-11', 'Transport', Decimal('15'), 'Taxi fare')\n",
      "(7, '2024-09-12', 'Utilities', Decimal('100'), 'Electricity bill')\n"
     ]
    }
   ],
   "source": [
    "view_expenses()"
   ]
  },
  {
   "cell_type": "code",
   "execution_count": 18,
   "metadata": {},
   "outputs": [],
   "source": [
    "# Create delete function for deleting the values of the table \n",
    "def delete_expenses(expense_id):\n",
    "    cursor.execute('DELETE FROM expenses WHERE id = %s', (expense_id,))\n",
    "    conn.commit()\n"
   ]
  },
  {
   "cell_type": "code",
   "execution_count": 19,
   "metadata": {},
   "outputs": [],
   "source": [
    "# Delete the expense with id = 4\n",
    "delete_expenses(4)\n"
   ]
  },
  {
   "cell_type": "code",
   "execution_count": 20,
   "metadata": {},
   "outputs": [
    {
     "name": "stdout",
     "output_type": "stream",
     "text": [
      "(1, '2024-09-15', 'Dining', Decimal('51'), 'Weekly grocery shopping')\n",
      "(2, '2024-09-10', 'Groceries', Decimal('76'), 'Grocery shopping for the week')\n",
      "(3, '2024-09-12', 'Transport', Decimal('25'), 'Bus fare')\n",
      "(5, '2024-09-10', 'Groceries', Decimal('51'), 'Weekly grocery shopping')\n",
      "(6, '2024-09-11', 'Transport', Decimal('15'), 'Taxi fare')\n",
      "(7, '2024-09-12', 'Utilities', Decimal('100'), 'Electricity bill')\n"
     ]
    }
   ],
   "source": [
    "view_expenses()"
   ]
  }
 ],
 "metadata": {
  "kernelspec": {
   "display_name": ".venv",
   "language": "python",
   "name": "python3"
  },
  "language_info": {
   "codemirror_mode": {
    "name": "ipython",
    "version": 3
   },
   "file_extension": ".py",
   "mimetype": "text/x-python",
   "name": "python",
   "nbconvert_exporter": "python",
   "pygments_lexer": "ipython3",
   "version": "3.11.9"
  }
 },
 "nbformat": 4,
 "nbformat_minor": 2
}
