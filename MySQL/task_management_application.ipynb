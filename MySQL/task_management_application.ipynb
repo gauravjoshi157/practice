{
 "cells": [
  {
   "cell_type": "code",
   "execution_count": 1,
   "metadata": {},
   "outputs": [],
   "source": [
    "# Import Library\n",
    "import mysql.connector"
   ]
  },
  {
   "cell_type": "code",
   "execution_count": 2,
   "metadata": {},
   "outputs": [],
   "source": [
    "# Create connection with server \n",
    "conn = mysql.connector.connect(host = \"localhost\", user = \"root\", password = \"1507\")\n"
   ]
  },
  {
   "cell_type": "code",
   "execution_count": 3,
   "metadata": {},
   "outputs": [],
   "source": [
    "# Create a object to run queries\n",
    "cursor = conn.cursor()"
   ]
  },
  {
   "cell_type": "code",
   "execution_count": 4,
   "metadata": {},
   "outputs": [],
   "source": [
    "# Create database 'task'\n",
    "cursor.execute('CREATE DATABASE task')"
   ]
  },
  {
   "cell_type": "code",
   "execution_count": 5,
   "metadata": {},
   "outputs": [],
   "source": [
    "# Use the database \n",
    "cursor.execute('USE task')"
   ]
  },
  {
   "cell_type": "code",
   "execution_count": 6,
   "metadata": {},
   "outputs": [],
   "source": [
    "# Create Table \n",
    "cursor.execute('''\n",
    "               CREATE TABLE IF NOT EXISTS tasks(\n",
    "                   id INTEGER PRIMARY KEY AUTO_INCREMENT,\n",
    "                   task_name VARCHAR(50) NOT NULL,\n",
    "                   due_date VARCHAR(50),\n",
    "                   status VARCHAR(50)\n",
    "               )\n",
    "               ''')\n",
    "conn.commit()"
   ]
  },
  {
   "cell_type": "code",
   "execution_count": 9,
   "metadata": {},
   "outputs": [],
   "source": [
    "# add a task\n",
    "def add_task(task_name,due_date,status):\n",
    "    cursor.execute('''\n",
    "                   INSERT INTO tasks(task_name,due_date,status)\n",
    "                   VALUES(%s,%s,%s)\n",
    "                   ''',(task_name,due_date,status))\n",
    "    conn.commit()"
   ]
  },
  {
   "cell_type": "code",
   "execution_count": 10,
   "metadata": {},
   "outputs": [],
   "source": [
    "\n",
    "add_task('Buy groceries', '2024-09-18', 'Pending')\n",
    "add_task('Finish coding assignment', '2024-09-19', 'In Progress')\n",
    "add_task('Attend conference', '2024-09-30', 'Completed')"
   ]
  },
  {
   "cell_type": "code",
   "execution_count": 11,
   "metadata": {},
   "outputs": [],
   "source": [
    "# view task\n",
    "def view_tasks():\n",
    "    cursor.execute('SELECT*FROM tasks')\n",
    "    rows=cursor.fetchall()\n",
    "    for row in rows:\n",
    "        print(row)"
   ]
  },
  {
   "cell_type": "code",
   "execution_count": 12,
   "metadata": {},
   "outputs": [
    {
     "name": "stdout",
     "output_type": "stream",
     "text": [
      "(1, 'Buy groceries', '2024-09-18', 'Pending')\n",
      "(2, 'Finish coding assignment', '2024-09-19', 'In Progress')\n",
      "(3, 'Attend conference', '2024-09-30', 'Completed')\n"
     ]
    }
   ],
   "source": [
    "view_tasks()"
   ]
  },
  {
   "cell_type": "code",
   "execution_count": 13,
   "metadata": {},
   "outputs": [],
   "source": [
    "def update_task(task_id, task_name=None, due_date=None, status=None):\n",
    "    query = 'UPDATE tasks SET'\n",
    "    params = []\n",
    "    \n",
    "    if task_name:\n",
    "        query += ' task_name = %s,'\n",
    "        params.append(task_name)\n",
    "        \n",
    "    if due_date:\n",
    "        query += ' due_date = %s,'\n",
    "        params.append(due_date)\n",
    "        \n",
    "    if status:\n",
    "        query += ' status = %s,'\n",
    "        params.append(status)\n",
    "        \n",
    "    # Remove the trailing comma and add the WHERE clause\n",
    "    query = query.rstrip(',') + ' WHERE id = %s'\n",
    "    params.append(task_id)\n",
    "    \n",
    "    cursor.execute(query, params)\n",
    "    conn.commit()"
   ]
  },
  {
   "cell_type": "code",
   "execution_count": 14,
   "metadata": {},
   "outputs": [],
   "source": [
    "# Updating the tasks\n",
    "update_task(1, task_name='Buy weekly groceries', status='Completed')\n",
    "update_task(2, due_date='2024-09-20', status='Completed')\n",
    "update_task(3, task_name='Attend virtual conference')"
   ]
  },
  {
   "cell_type": "code",
   "execution_count": 15,
   "metadata": {},
   "outputs": [
    {
     "name": "stdout",
     "output_type": "stream",
     "text": [
      "(1, 'Buy weekly groceries', '2024-09-18', 'Completed')\n",
      "(2, 'Finish coding assignment', '2024-09-20', 'Completed')\n",
      "(3, 'Attend virtual conference', '2024-09-30', 'Completed')\n"
     ]
    }
   ],
   "source": [
    "\n",
    "view_tasks()"
   ]
  },
  {
   "cell_type": "code",
   "execution_count": 18,
   "metadata": {},
   "outputs": [],
   "source": [
    "\n",
    "# delete task\n",
    "def delete_task(task_id):\n",
    "    cursor.execute('DELETE FROM tasks WHERE id=%s',(task_id,))\n",
    "    conn.commit()"
   ]
  },
  {
   "cell_type": "code",
   "execution_count": 19,
   "metadata": {},
   "outputs": [],
   "source": [
    "delete_task(3)"
   ]
  },
  {
   "cell_type": "code",
   "execution_count": 20,
   "metadata": {},
   "outputs": [
    {
     "name": "stdout",
     "output_type": "stream",
     "text": [
      "(1, 'Buy weekly groceries', '2024-09-18', 'Completed')\n",
      "(2, 'Finish coding assignment', '2024-09-20', 'Completed')\n"
     ]
    }
   ],
   "source": [
    "view_tasks()"
   ]
  }
 ],
 "metadata": {
  "kernelspec": {
   "display_name": ".venv",
   "language": "python",
   "name": "python3"
  },
  "language_info": {
   "codemirror_mode": {
    "name": "ipython",
    "version": 3
   },
   "file_extension": ".py",
   "mimetype": "text/x-python",
   "name": "python",
   "nbconvert_exporter": "python",
   "pygments_lexer": "ipython3",
   "version": "3.11.9"
  }
 },
 "nbformat": 4,
 "nbformat_minor": 2
}
