{
 "cells": [
  {
   "cell_type": "code",
   "execution_count": 1,
   "metadata": {},
   "outputs": [],
   "source": [
    "# Import Library\n",
    "import mysql.connector"
   ]
  },
  {
   "cell_type": "code",
   "execution_count": 2,
   "metadata": {},
   "outputs": [],
   "source": [
    "# Create connection with server \n",
    "conn = mysql.connector.connect(host = \"localhost\", user = \"root\", password = \"1507\")\n"
   ]
  },
  {
   "cell_type": "code",
   "execution_count": 4,
   "metadata": {},
   "outputs": [],
   "source": [
    "# Create a object to run queries\n",
    "cursor = conn.cursor()"
   ]
  },
  {
   "cell_type": "code",
   "execution_count": 6,
   "metadata": {},
   "outputs": [],
   "source": [
    "# Create database 'contacts'\n",
    "cursor.execute('CREATE DATABASE contacts')"
   ]
  },
  {
   "cell_type": "code",
   "execution_count": 7,
   "metadata": {},
   "outputs": [],
   "source": [
    "# Use the database \n",
    "cursor.execute('USE contacts')"
   ]
  },
  {
   "cell_type": "code",
   "execution_count": 9,
   "metadata": {},
   "outputs": [],
   "source": [
    "# Create table for contacts\n",
    "cursor.execute('''\n",
    "               CREATE TABLE IF NOT EXISTS contacts(\n",
    "                   id INTEGER PRIMARY KEY AUTO_INCREMENT,\n",
    "                   first_name VARCHAR(50) NOT NULL,\n",
    "                   last_name VARCHAR(50) NOT NULL,\n",
    "                   phone_number VARCHAR(50),\n",
    "                   email VARCHAR(50))\n",
    "                   '''\n",
    "               )\n",
    "conn.commit()"
   ]
  },
  {
   "cell_type": "code",
   "execution_count": 10,
   "metadata": {},
   "outputs": [],
   "source": [
    "\n",
    "# Add a contact\n",
    "def add_contact(first_name,last_name,phone_number,email):\n",
    "    cursor.execute('''\n",
    "                   INSERT INTO contacts(first_name,last_name,phone_number,email)\n",
    "                   VALUES(%s,%s,%s,%s)\n",
    "                   ''',(first_name,last_name,phone_number,email))\n",
    "    conn.commit()"
   ]
  },
  {
   "cell_type": "code",
   "execution_count": 11,
   "metadata": {},
   "outputs": [],
   "source": [
    "# Add contacts\n",
    "add_contact('David', 'Miller', '555-6543', 'david.miller@example.com')\n",
    "add_contact('Laura', 'Wilson', '555-7890', 'laura.wilson@example.com')\n",
    "add_contact('James', 'Taylor', '555-0987', 'james.taylor@example.com')"
   ]
  },
  {
   "cell_type": "code",
   "execution_count": 12,
   "metadata": {},
   "outputs": [],
   "source": [
    "# View contacts\n",
    "def view_contacts():\n",
    "    cursor.execute('SELECT*FROM contacts')\n",
    "    rows=cursor.fetchall()\n",
    "    if rows:\n",
    "        for row in rows:\n",
    "            print(f\"ID: {row[0]}, First Name: {row[1]}, Last Name: {row[2]}, Phone: {row[3]}, Email: {row[4]}\")\n",
    "    else:\n",
    "        print('No contact found.')"
   ]
  },
  {
   "cell_type": "code",
   "execution_count": 13,
   "metadata": {},
   "outputs": [
    {
     "name": "stdout",
     "output_type": "stream",
     "text": [
      "ID: 1, First Name: David, Last Name: Miller, Phone: 555-6543, Email: david.miller@example.com\n",
      "ID: 2, First Name: Laura, Last Name: Wilson, Phone: 555-7890, Email: laura.wilson@example.com\n",
      "ID: 3, First Name: James, Last Name: Taylor, Phone: 555-0987, Email: james.taylor@example.com\n"
     ]
    }
   ],
   "source": [
    "\n",
    "view_contacts()"
   ]
  },
  {
   "cell_type": "code",
   "execution_count": 14,
   "metadata": {},
   "outputs": [],
   "source": [
    "# Update a contact\n",
    "def update_contact(contact_id,first_name=None,last_name=None,phone_number=None,email=None):\n",
    "    query='UPDATE contacts SET'\n",
    "    params=[]\n",
    "\n",
    "    if first_name:\n",
    "        query+= ' first_name = %s,'\n",
    "        params.append(first_name)\n",
    "    if last_name:\n",
    "        query+= ' last_name = %s,'\n",
    "        params.append(last_name)\n",
    "    if phone_number:\n",
    "        query+=' phone_number = %s,'\n",
    "        params.append(phone_number)\n",
    "    if email:\n",
    "        query+= ' email = %s,'\n",
    "        params.append(email)\n",
    "    query=query.rstrip(',')  + ' WHERE id = %s'\n",
    "    params.append(contact_id)\n",
    "    \n",
    "    cursor.execute(query,params)\n",
    "    conn.commit()"
   ]
  },
  {
   "cell_type": "code",
   "execution_count": 15,
   "metadata": {},
   "outputs": [],
   "source": [
    "update_contact(1, phone_number='555-7777', email='david.miller@newdomain.com')\n",
    "update_contact(2, last_name='Anderson', email='laura.anderson@example.com')\n",
    "update_contact(3, first_name='Jim', phone_number='555-1111')"
   ]
  },
  {
   "cell_type": "code",
   "execution_count": 16,
   "metadata": {},
   "outputs": [],
   "source": [
    "# Delete a contact\n",
    "def delete_contact(contact_id):\n",
    "    cursor.execute('DELETE FROM contacts WHERE id = %s', (contact_id,))\n",
    "    conn.commit()"
   ]
  },
  {
   "cell_type": "code",
   "execution_count": 17,
   "metadata": {},
   "outputs": [],
   "source": [
    "delete_contact(3)"
   ]
  },
  {
   "cell_type": "code",
   "execution_count": 18,
   "metadata": {},
   "outputs": [
    {
     "name": "stdout",
     "output_type": "stream",
     "text": [
      "ID: 1, First Name: David, Last Name: Miller, Phone: 555-7777, Email: david.miller@newdomain.com\n",
      "ID: 2, First Name: Laura, Last Name: Anderson, Phone: 555-7890, Email: laura.anderson@example.com\n"
     ]
    }
   ],
   "source": [
    "view_contacts()"
   ]
  }
 ],
 "metadata": {
  "kernelspec": {
   "display_name": ".venv",
   "language": "python",
   "name": "python3"
  },
  "language_info": {
   "codemirror_mode": {
    "name": "ipython",
    "version": 3
   },
   "file_extension": ".py",
   "mimetype": "text/x-python",
   "name": "python",
   "nbconvert_exporter": "python",
   "pygments_lexer": "ipython3",
   "version": "3.11.9"
  }
 },
 "nbformat": 4,
 "nbformat_minor": 2
}
