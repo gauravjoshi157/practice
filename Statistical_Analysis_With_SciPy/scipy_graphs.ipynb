{
 "cells": [
  {
   "cell_type": "markdown",
   "metadata": {},
   "source": [
    "# SciPy Graphs"
   ]
  },
  {
   "cell_type": "markdown",
   "metadata": {},
   "source": [
    "## Working with Graphs\n",
    "Graphs are an essential data structure.\n",
    "\n",
    "SciPy provides us with the module `scipy.sparse.csgraph` for working with such data structures.\n",
    "\n",
    "## Adjacency Matrix\n",
    "Adjacency matrix is a nxn matrix where n is the number of elements in a graph.\n",
    "\n",
    "And the values represents the connection between the elements.\n",
    "\n",
    "Example:\n",
    "\n",
    "\n",
    "![alt text](https://www.w3schools.com/python/scipy_graph.png)\n",
    "\n",
    "\n",
    "\n",
    "For a graph like this, with elements A, B and C, the connections are:\n",
    "\n",
    "A & B are connected with weight 1.\n",
    "\n",
    "A & C are connected with weight 2.\n",
    "\n",
    "C & B is not connected.\n",
    "\n",
    "The Adjency Matrix would look like this:\n",
    "\n",
    "      A B C\n",
    "   A:[0 1 2]  \n",
    "   B:[1 0 0]<br/>\n",
    "   C:[2 0 0]\n",
    "\n",
    "\n",
    "Below follows some of the most used methods for working with adjacency matrices.\n",
    "\n",
    "## Connected Components\n",
    "Find all of the connected components with the connected_components() method.\n"
   ]
  },
  {
   "cell_type": "code",
   "execution_count": 7,
   "metadata": {},
   "outputs": [],
   "source": [
    "import numpy as np\n",
    "from scipy.sparse.csgraph import connected_components\n",
    "from scipy.sparse import csr_matrix\n",
    "\n",
    "arr = np.array([\n",
    "  [0, 1, 2],\n",
    "  [1, 0, 0],\n",
    "  [2, 0, 0]\n",
    "])\n",
    "\n",
    "newarr = csr_matrix(arr)\n"
   ]
  },
  {
   "cell_type": "markdown",
   "metadata": {},
   "source": [
    "## Dijkstra\n",
    "Use the `dijkstra` method to find the shortest path in a graph from one element to another.\n",
    "\n",
    "It takes following arguments:\n",
    "\n",
    "1. __return_predecessors:__ boolean (True to return whole path of traversal otherwise False).\n",
    "\n",
    "2.  __indices:__ index of the element to return all paths from that element only.\n",
    "\n",
    "3. __limit:__ max weight of path."
   ]
  },
  {
   "cell_type": "code",
   "execution_count": 8,
   "metadata": {},
   "outputs": [
    {
     "name": "stdout",
     "output_type": "stream",
     "text": [
      "(array([0., 1., 2.]), array([-9999,     0,     0]))\n"
     ]
    }
   ],
   "source": [
    "import numpy as np\n",
    "from scipy.sparse.csgraph import dijkstra\n",
    "from scipy.sparse import csr_matrix\n",
    "\n",
    "arr = np.array([\n",
    "  [0, 1, 2],\n",
    "  [1, 0, 0],\n",
    "  [2, 0, 0]\n",
    "])\n",
    "\n",
    "newarr = csr_matrix(arr)\n",
    "\n",
    "print(dijkstra(newarr, return_predecessors=True, indices=0))"
   ]
  },
  {
   "cell_type": "markdown",
   "metadata": {},
   "source": [
    "# Floyd Warshall\n",
    "Use the `floyd_warshall()` method to find shortest path between all pairs of elements."
   ]
  },
  {
   "cell_type": "code",
   "execution_count": 9,
   "metadata": {},
   "outputs": [
    {
     "name": "stdout",
     "output_type": "stream",
     "text": [
      "(array([[0., 1., 2.],\n",
      "       [1., 0., 3.],\n",
      "       [2., 3., 0.]]), array([[-9999,     0,     0],\n",
      "       [    1, -9999,     0],\n",
      "       [    2,     0, -9999]]))\n"
     ]
    }
   ],
   "source": [
    "import numpy as np\n",
    "from scipy.sparse.csgraph import floyd_warshall\n",
    "from scipy.sparse import csr_matrix\n",
    "\n",
    "arr = np.array([\n",
    "  [0, 1, 2],\n",
    "  [1, 0, 0],\n",
    "  [2, 0, 0]\n",
    "])\n",
    "\n",
    "newarr = csr_matrix(arr)\n",
    "\n",
    "print(floyd_warshall(newarr, return_predecessors=True))"
   ]
  },
  {
   "cell_type": "markdown",
   "metadata": {},
   "source": [
    "# Bellman Ford\n",
    "The `bellman_ford()` method can also find the shortest path between all pairs of elements, but this method can handle negative weights as well."
   ]
  },
  {
   "cell_type": "code",
   "execution_count": 10,
   "metadata": {},
   "outputs": [
    {
     "name": "stdout",
     "output_type": "stream",
     "text": [
      "(array([ 0., -1.,  2.]), array([-9999,     0,     0]))\n"
     ]
    }
   ],
   "source": [
    "import numpy as np\n",
    "from scipy.sparse.csgraph import bellman_ford\n",
    "from scipy.sparse import csr_matrix\n",
    "\n",
    "arr = np.array([\n",
    "  [0, -1, 2],\n",
    "  [1, 0, 0],\n",
    "  [2, 0, 0]\n",
    "])\n",
    "\n",
    "newarr = csr_matrix(arr)\n",
    "\n",
    "print(bellman_ford(newarr, return_predecessors=True, indices=0))"
   ]
  },
  {
   "cell_type": "markdown",
   "metadata": {},
   "source": [
    "## Depth First Order\n",
    "The `depth_first_order()` method returns a depth first traversal from a node.\n",
    "\n",
    "This function takes following arguments:\n",
    "\n",
    "1. the graph.\n",
    "2. the starting element to traverse graph from."
   ]
  },
  {
   "cell_type": "markdown",
   "metadata": {},
   "source": [
    "# Breadth First Order\n",
    "The `breadth_first_order()` method returns a breadth first traversal from a node.\n",
    "\n",
    "This function takes following arguments:\n",
    "\n",
    "1. the graph.\n",
    "2. the starting element to traverse graph from."
   ]
  },
  {
   "cell_type": "code",
   "execution_count": 11,
   "metadata": {},
   "outputs": [
    {
     "name": "stdout",
     "output_type": "stream",
     "text": [
      "(array([1, 0, 2, 3]), array([    1, -9999,     1,     1]))\n"
     ]
    }
   ],
   "source": [
    "import numpy as np\n",
    "from scipy.sparse.csgraph import breadth_first_order\n",
    "from scipy.sparse import csr_matrix\n",
    "\n",
    "arr = np.array([\n",
    "  [0, 1, 0, 1],\n",
    "  [1, 1, 1, 1],\n",
    "  [2, 1, 1, 0],\n",
    "  [0, 1, 0, 1]\n",
    "])\n",
    "\n",
    "newarr = csr_matrix(arr)\n",
    "\n",
    "print(breadth_first_order(newarr, 1))"
   ]
  }
 ],
 "metadata": {
  "kernelspec": {
   "display_name": ".venv",
   "language": "python",
   "name": "python3"
  },
  "language_info": {
   "codemirror_mode": {
    "name": "ipython",
    "version": 3
   },
   "file_extension": ".py",
   "mimetype": "text/x-python",
   "name": "python",
   "nbconvert_exporter": "python",
   "pygments_lexer": "ipython3",
   "version": "3.11.9"
  }
 },
 "nbformat": 4,
 "nbformat_minor": 2
}
