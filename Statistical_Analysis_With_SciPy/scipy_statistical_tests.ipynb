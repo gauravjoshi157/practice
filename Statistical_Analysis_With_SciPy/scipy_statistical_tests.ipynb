{
 "cells": [
  {
   "cell_type": "markdown",
   "metadata": {},
   "source": [
    "## SciPy Statistical Significance Tests"
   ]
  },
  {
   "cell_type": "markdown",
   "metadata": {},
   "source": [
    "## What is Statistical Significance Test?\n",
    "In statistics, statistical significance means that the result that was produced has a reason behind it, it was not produced randomly, or by chance.\n",
    "\n",
    "SciPy provides us with a module called `scipy.stats`, which has functions for performing statistical significance tests.\n",
    "\n",
    "Here are some techniques and keywords that are important when performing such tests:\n",
    "\n",
    "### Hypothesis in Statistics\n",
    "Hypothesis is an assumption about a parameter in population.\n",
    "\n",
    "### Null Hypothesis\n",
    "It assumes that the observation is not statistically significant.\n",
    "\n",
    "### Alternate Hypothesis\n",
    "It assumes that the observations are due to some reason.\n",
    "\n",
    "It's alternate to Null Hypothesis.\n",
    "\n",
    "__Example:__\n",
    "For an assessment of a student we would take:\n",
    "\n",
    "\"student is worse than average\" - as a null hypothesis, and:\n",
    "\n",
    "\"student is better than average\" - as an alternate hypothesis.\n",
    "\n",
    "### One tailed test\n",
    "When our hypothesis is testing for one side of the value only, it is called \"one tailed test\".\n",
    "\n",
    "Example:\n",
    "\n",
    "For the null hypothesis:\n",
    "\n",
    "\"the mean is equal to k\", we can have alternate hypothesis:\n",
    "\n",
    "\"the mean is less than k\", or:\n",
    "\n",
    "\"the mean is greater than k\"\n",
    "\n",
    "### Two tailed test\n",
    "When our hypothesis is testing for both side of the values.\n",
    "\n",
    "Example:\n",
    "\n",
    "For the null hypothesis:\n",
    "\n",
    "\"the mean is equal to k\", we can have alternate hypothesis:\n",
    "\n",
    "\"the mean is not equal to k\"\n",
    "\n",
    "In this case the mean is less than, or greater than k, and both sides are to be checked.\n",
    "\n",
    "### Alpha value\n",
    "Alpha value is the level of significance.\n",
    "\n",
    "Example:\n",
    "\n",
    "How close to extremes the data must be for null hypothesis to be rejected.\n",
    "\n",
    "It is usually taken as 0.01, 0.05, or 0.1.\n",
    "\n",
    "### P value\n",
    "P value tells how close to extreme the data actually is.\n",
    "\n",
    "P value and alpha values are compared to establish the statistical significance.\n",
    "\n",
    "If p value <= alpha we reject the null hypothesis and say that the data is statistically significant. otherwise we accept the null hypothesis.\n",
    "\n",
    "## T-Test\n",
    "T-tests are used to determine if there is significant deference between means of two variables and lets us know if they belong to the same distribution.\n",
    "\n",
    "It is a two tailed test.\n",
    "\n",
    "The function `ttest_ind()` takes two samples of same size and produces a tuple of t-statistic and p-value."
   ]
  },
  {
   "cell_type": "code",
   "execution_count": 1,
   "metadata": {},
   "outputs": [
    {
     "name": "stdout",
     "output_type": "stream",
     "text": [
      "TtestResult(statistic=-2.0503984829775224, pvalue=0.04164315556244663, df=198.0)\n"
     ]
    }
   ],
   "source": [
    "import numpy as np\n",
    "from scipy.stats import ttest_ind\n",
    "\n",
    "v1 = np.random.normal(size=100)\n",
    "v2 = np.random.normal(size=100)\n",
    "\n",
    "res = ttest_ind(v1, v2)\n",
    "\n",
    "print(res)"
   ]
  },
  {
   "cell_type": "markdown",
   "metadata": {},
   "source": [
    "If you want to return only the p-value, use the pvalue property:"
   ]
  },
  {
   "cell_type": "code",
   "execution_count": 2,
   "metadata": {},
   "outputs": [
    {
     "name": "stdout",
     "output_type": "stream",
     "text": [
      "0.04164315556244663\n"
     ]
    }
   ],
   "source": [
    "...\n",
    "res = ttest_ind(v1, v2).pvalue\n",
    "\n",
    "print(res)"
   ]
  },
  {
   "cell_type": "markdown",
   "metadata": {},
   "source": [
    "## KS-Test\n",
    "KS test is used to check if given values follow a distribution.\n",
    "\n",
    "The function takes the value to be tested, and the CDF as two parameters.\n",
    "\n",
    "```A CDF can be either a string or a callable function that returns the probability.```\n",
    "\n",
    "It can be used as a one tailed or two tailed test.\n",
    "\n",
    "By default it is two tailed. We can pass parameter alternative as a string of one of two-sided, less, or greater."
   ]
  },
  {
   "cell_type": "code",
   "execution_count": 3,
   "metadata": {},
   "outputs": [
    {
     "name": "stdout",
     "output_type": "stream",
     "text": [
      "KstestResult(statistic=0.08669190829982165, pvalue=0.4164285423552505, statistic_location=-0.8298631113225209, statistic_sign=1)\n"
     ]
    }
   ],
   "source": [
    "import numpy as np\n",
    "from scipy.stats import kstest\n",
    "\n",
    "v = np.random.normal(size=100)\n",
    "\n",
    "res = kstest(v, 'norm')\n",
    "\n",
    "print(res)"
   ]
  },
  {
   "cell_type": "markdown",
   "metadata": {},
   "source": [
    "## Statistical Description of Data\n",
    "In order to see a summary of values in an array, we can use the `describe()` function.\n",
    "\n",
    "It returns the following description:\n",
    "\n",
    "1. number of observations (nobs)\n",
    "2. minimum and maximum values = minmax\n",
    "3. mean\n",
    "4. variance\n",
    "5. skewness\n",
    "6. kurtosis"
   ]
  },
  {
   "cell_type": "code",
   "execution_count": 4,
   "metadata": {},
   "outputs": [
    {
     "name": "stdout",
     "output_type": "stream",
     "text": [
      "DescribeResult(nobs=100, minmax=(-2.796914052785483, 2.8401879764188203), mean=0.010716999661946343, variance=1.0112179546202111, skewness=-0.11596057827414442, kurtosis=0.6853533681383572)\n"
     ]
    }
   ],
   "source": [
    "import numpy as np\n",
    "from scipy.stats import describe\n",
    "\n",
    "v = np.random.normal(size=100)\n",
    "res = describe(v)\n",
    "\n",
    "print(res)"
   ]
  },
  {
   "cell_type": "markdown",
   "metadata": {},
   "source": [
    "## Normality Tests (Skewness and Kurtosis)\n",
    "Normality tests are based on the skewness and kurtosis.\n",
    "\n",
    "The `normaltest()` function returns p value for the null hypothesis:\n",
    "\n",
    "\"x comes from a normal distribution\".\n",
    "\n",
    "### Skewness:\n",
    "A measure of symmetry in data.\n",
    "\n",
    "For normal distributions it is 0.\n",
    "\n",
    "If it is negative, it means the data is skewed left.\n",
    "\n",
    "If it is positive it means the data is skewed right.\n",
    "\n",
    "### Kurtosis:\n",
    "A measure of whether the data is heavy or lightly tailed to a normal distribution.\n",
    "\n",
    "Positive kurtosis means heavy tailed.\n",
    "\n",
    "Negative kurtosis means lightly tailed."
   ]
  },
  {
   "cell_type": "code",
   "execution_count": 5,
   "metadata": {},
   "outputs": [
    {
     "name": "stdout",
     "output_type": "stream",
     "text": [
      "0.004899959299923242\n",
      "0.4345522710593315\n"
     ]
    }
   ],
   "source": [
    "import numpy as np\n",
    "from scipy.stats import skew, kurtosis\n",
    "\n",
    "v = np.random.normal(size=100)\n",
    "\n",
    "print(skew(v))\n",
    "print(kurtosis(v))"
   ]
  },
  {
   "cell_type": "code",
   "execution_count": 6,
   "metadata": {},
   "outputs": [
    {
     "name": "stdout",
     "output_type": "stream",
     "text": [
      "NormaltestResult(statistic=2.7792153002795157, pvalue=0.24917304846626623)\n"
     ]
    }
   ],
   "source": [
    "import numpy as np\n",
    "from scipy.stats import normaltest\n",
    "\n",
    "v = np.random.normal(size=100)\n",
    "\n",
    "print(normaltest(v))"
   ]
  }
 ],
 "metadata": {
  "kernelspec": {
   "display_name": ".venv",
   "language": "python",
   "name": "python3"
  },
  "language_info": {
   "codemirror_mode": {
    "name": "ipython",
    "version": 3
   },
   "file_extension": ".py",
   "mimetype": "text/x-python",
   "name": "python",
   "nbconvert_exporter": "python",
   "pygments_lexer": "ipython3",
   "version": "3.11.9"
  }
 },
 "nbformat": 4,
 "nbformat_minor": 2
}
