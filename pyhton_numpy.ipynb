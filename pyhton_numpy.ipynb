{
 "cells": [
  {
   "cell_type": "markdown",
   "metadata": {},
   "source": [
    "# **NumPy**\n",
    "- NumPy is a powerful library for numerical computing in Python. It provides support for arrays, matrices, and many mathematical functions.\n",
    "\n",
    "- Here’s a detailed guide from basics to advanced topics in NumPy, along with examples, best practices, and standard coding structures.\n",
    "\n",
    "## **Basics of NumPy**\n",
    "### 1. **Installation:**\n",
    "To use NumPy, you need to install it first. You can install it using pip:\n"
   ]
  },
  {
   "cell_type": "code",
   "execution_count": null,
   "metadata": {},
   "outputs": [],
   "source": [
    "# pip install numpy"
   ]
  },
  {
   "cell_type": "markdown",
   "metadata": {},
   "source": [
    "**Importing NumPy**\n",
    "\n",
    "Import NumPy as follows:"
   ]
  },
  {
   "cell_type": "code",
   "execution_count": null,
   "metadata": {},
   "outputs": [],
   "source": [
    "import numpy as np"
   ]
  },
  {
   "cell_type": "markdown",
   "metadata": {},
   "source": [
    "### 2. **NumPy Arrays** \n",
    "\n",
    "**Creating Arrayd**\n",
    "\n",
    "You can create a NumPy arry using the array function :"
   ]
  },
  {
   "cell_type": "code",
   "execution_count": 19,
   "metadata": {},
   "outputs": [
    {
     "name": "stdout",
     "output_type": "stream",
     "text": [
      "1D Array: [1 2 3 4 5]\n",
      "2D Array:\n",
      " [[1 2 3]\n",
      " [4 5 6]]\n"
     ]
    }
   ],
   "source": [
    "import numpy as np\n",
    "\n",
    "# Creating a 1D array\n",
    "\n",
    "arr1 = np.array([1,2,3,4,5])\n",
    "\n",
    "# Creating a 2D array \n",
    "\n",
    "arr2 = np.array([[1,2,3],[4,5,6]])\n",
    "\n",
    "print(\"1D Array:\",arr1)\n",
    "print(\"2D Array:\\n\",arr2)"
   ]
  },
  {
   "cell_type": "code",
   "execution_count": 2,
   "metadata": {},
   "outputs": [
    {
     "name": "stdout",
     "output_type": "stream",
     "text": [
      "Integer Datatype: \n",
      "int64\n",
      "\n",
      "Float Datatype: \n",
      "float64\n",
      "\n",
      "Forcing a Datatype: \n",
      "int64\n"
     ]
    }
   ],
   "source": [
    "# Python Program to create\n",
    "# a data type object\n",
    "import numpy as np\n",
    " \n",
    "# Integer datatype\n",
    "# guessed by Numpy\n",
    "x = np.array([1, 2])  \n",
    "print(\"Integer Datatype: \")\n",
    "print(x.dtype)         \n",
    " \n",
    "# Float datatype\n",
    "# guessed by Numpy\n",
    "x = np.array([1.0, 2.0]) \n",
    "print(\"\\nFloat Datatype: \")\n",
    "print(x.dtype)  \n",
    " \n",
    "# Forced Datatype\n",
    "x = np.array([1, 2], dtype = np.int64)   \n",
    "print(\"\\nForcing a Datatype: \")\n",
    "print(x.dtype)"
   ]
  },
  {
   "cell_type": "code",
   "execution_count": 3,
   "metadata": {},
   "outputs": [
    {
     "name": "stdout",
     "output_type": "stream",
     "text": [
      "Addition of Two Arrays: \n",
      "[[ 7. 13.]\n",
      " [ 4. 14.]]\n",
      "\n",
      "Addition of Array elements: \n",
      "19.0\n",
      "\n",
      "Square root of Array1 elements: \n",
      "[[2.         2.64575131]\n",
      " [1.41421356 2.44948974]]\n",
      "\n",
      "Transpose of Array: \n",
      "[[4. 2.]\n",
      " [7. 6.]]\n"
     ]
    }
   ],
   "source": [
    "# Python Program to create\n",
    "# a data type object\n",
    "import numpy as np\n",
    " \n",
    "# First Array\n",
    "arr1 = np.array([[4, 7], [2, 6]], \n",
    "                 dtype = np.float64)\n",
    "                  \n",
    "# Second Array\n",
    "arr2 = np.array([[3, 6], [2, 8]], \n",
    "                 dtype = np.float64) \n",
    " \n",
    "# Addition of two Arrays\n",
    "Sum = np.add(arr1, arr2)\n",
    "print(\"Addition of Two Arrays: \")\n",
    "print(Sum)\n",
    " \n",
    "# Addition of all Array elements\n",
    "# using predefined sum method\n",
    "Sum1 = np.sum(arr1)\n",
    "print(\"\\nAddition of Array elements: \")\n",
    "print(Sum1)\n",
    " \n",
    "# Square root of Array\n",
    "Sqrt = np.sqrt(arr1)\n",
    "print(\"\\nSquare root of Array1 elements: \")\n",
    "print(Sqrt)\n",
    " \n",
    "# Transpose of Array\n",
    "# using In-built function 'T'\n",
    "Trans_arr = arr1.T\n",
    "print(\"\\nTranspose of Array: \")\n",
    "print(Trans_arr)\n"
   ]
  },
  {
   "cell_type": "markdown",
   "metadata": {},
   "source": [
    "**Array Attribute**\n",
    "NumPy arrays have several attributes that give information about the array."
   ]
  },
  {
   "cell_type": "code",
   "execution_count": 10,
   "metadata": {},
   "outputs": [
    {
     "name": "stdout",
     "output_type": "stream",
     "text": [
      "Shape of arr1: (5,)\n",
      "Shape of arr2 (2, 3)\n",
      "Number pf dimension of arr2: 2\n",
      "Data type of arr2: int64\n",
      "Size of arr2: 6\n"
     ]
    }
   ],
   "source": [
    "print(\"Shape of arr1:\",arr1.shape)\n",
    "print(\"Shape of arr2\",arr2.shape)\n",
    "print(\"Number pf dimension of arr2:\", arr2.ndim)\n",
    "print(\"Data type of arr2:\", arr2.dtype)\n",
    "print(\"Size of arr2:\",arr2.size)"
   ]
  },
  {
   "cell_type": "markdown",
   "metadata": {},
   "source": [
    "### 3. **Array Initialization**\n",
    "\n",
    "NumPy porvides several functions to create arrays:\n"
   ]
  },
  {
   "cell_type": "code",
   "execution_count": 13,
   "metadata": {},
   "outputs": [
    {
     "name": "stdout",
     "output_type": "stream",
     "text": [
      "Zeros:\n",
      " [[0. 0. 0.]\n",
      " [0. 0. 0.]]\n",
      "Ones:\n",
      " [[1. 1. 1.]\n",
      " [1. 1. 1.]]\n",
      "Random values:\n",
      " [[0.16310407 0.59399339 0.82706512]\n",
      " [0.45602004 0.06969008 0.91394119]]\n",
      "Range array:\n",
      " [0 1 2 3 4 5 6 7 8 9]\n",
      "Logspace array:\n",
      " [ 10.          12.91549665  16.68100537  21.5443469   27.82559402\n",
      "  35.93813664  46.41588834  59.94842503  77.42636827 100.        ]\n"
     ]
    }
   ],
   "source": [
    "# Array of zeros \n",
    "zeros = np.zeros((2,3))\n",
    "\n",
    "# Array of ones\n",
    "ones = np.ones((2,3))\n",
    "\n",
    "# Array with random values\n",
    "rand = np.random.rand(2,3)\n",
    "\n",
    "# Array with range of values\n",
    "range_arr = np.arange(10)\n",
    "\n",
    "# Array with values spaced evenly on log scale \n",
    "logspace_arr = np.logspace(1,2,10) \n",
    "\n",
    "print(\"Zeros:\\n\", zeros)\n",
    "print(\"Ones:\\n\", ones)\n",
    "print(\"Random values:\\n\", rand)\n",
    "print(\"Range array:\\n\", range_arr)\n",
    "print(\"Logspace array:\\n\", logspace_arr)"
   ]
  },
  {
   "cell_type": "markdown",
   "metadata": {},
   "source": [
    "### 4. **Basic Operatioin**\n",
    "\n",
    "**Arithmetic Operation**\n",
    "\n",
    "Arithmetic operation can be performed on NumPy arrays element-wise"
   ]
  },
  {
   "cell_type": "code",
   "execution_count": 14,
   "metadata": {},
   "outputs": [
    {
     "name": "stdout",
     "output_type": "stream",
     "text": [
      "Addition: [11 22 33 44 55]\n",
      "Subtraction: [ -9 -18 -27 -36 -45]\n",
      "Multiplication: [ 10  40  90 160 250]\n",
      "Division: [0.1 0.1 0.1 0.1 0.1]\n"
     ]
    }
   ],
   "source": [
    "arr1 = np.array([1,2,3,4,5])\n",
    "arr2 = np.array([10,20,30,40,50])\n",
    "\n",
    "# Addition \n",
    "add = arr1 + arr2\n",
    "\n",
    "# Subtraction \n",
    "sub = arr1- arr2\n",
    "\n",
    "# Multiplication \n",
    "mul = arr1 * arr2\n",
    "\n",
    "# Division \n",
    "div = arr1 / arr2\n",
    "\n",
    "print(\"Addition:\", add)\n",
    "print(\"Subtraction:\", sub)\n",
    "print(\"Multiplication:\", mul)\n",
    "print(\"Division:\", div)"
   ]
  },
  {
   "cell_type": "markdown",
   "metadata": {},
   "source": [
    "**Statistical operation**\n",
    "\n",
    "NumPy provides various function to perform statistical operation."
   ]
  },
  {
   "cell_type": "code",
   "execution_count": 15,
   "metadata": {},
   "outputs": [
    {
     "name": "stdout",
     "output_type": "stream",
     "text": [
      "Min: 1\n",
      "Max: 10\n",
      "Mean: 5.5\n",
      "Standard Deviation: 2.8722813232690143\n",
      "Sum: 55\n"
     ]
    }
   ],
   "source": [
    "arr = np.array([1,2,3,4,5,6,7,8,9,10])\n",
    "\n",
    "# Minimum and Maximum\n",
    "min_val = np.min(arr)\n",
    "max_val = np.max(arr)\n",
    "\n",
    "# Mean \n",
    "mean_val = np.mean(arr)\n",
    "\n",
    "# Standard Daviation \n",
    "std_val = np.std(arr)\n",
    "\n",
    "# Sum \n",
    "sum_val = np.sum(arr)\n",
    "\n",
    "print(\"Min:\", min_val)\n",
    "print(\"Max:\", max_val)\n",
    "print(\"Mean:\", mean_val)\n",
    "print(\"Standard Deviation:\", std_val)\n",
    "print(\"Sum:\", sum_val)"
   ]
  },
  {
   "cell_type": "markdown",
   "metadata": {},
   "source": [
    "## **Advanced NumPy**\n",
    "\n",
    "### 1. **Broradcasting**\n",
    "\n",
    "Broadcasting allows NumPy to perform element-wise operations on arrays of different shapes."
   ]
  },
  {
   "cell_type": "code",
   "execution_count": 16,
   "metadata": {},
   "outputs": [
    {
     "name": "stdout",
     "output_type": "stream",
     "text": [
      "Broadcasting Result:\n",
      " [[2 3 4]\n",
      " [3 4 5]\n",
      " [4 5 6]]\n"
     ]
    }
   ],
   "source": [
    "arr1 = np.array([1, 2, 3])\n",
    "arr2 = np.array([[1], [2], [3]])\n",
    "\n",
    "# Broadcasting example\n",
    "result = arr1 + arr2\n",
    "\n",
    "print(\"Broadcasting Result:\\n\", result)"
   ]
  },
  {
   "cell_type": "markdown",
   "metadata": {},
   "source": [
    "### 2. **Reshaping Arrays**\n",
    "\n",
    "You can change the shape of an array using the reshape function."
   ]
  },
  {
   "cell_type": "code",
   "execution_count": 18,
   "metadata": {},
   "outputs": [
    {
     "name": "stdout",
     "output_type": "stream",
     "text": [
      "Original Array : [ 1  2  3  4  5  6  7  8  9 10 11 12]\n",
      "Reshaped Array :\n",
      " [[ 1  2  3  4]\n",
      " [ 5  6  7  8]\n",
      " [ 9 10 11 12]]\n"
     ]
    }
   ],
   "source": [
    "arr = np.arange(1,13)\n",
    "\n",
    "# Reshape ot 3x4 array \n",
    "reshaped_arr = arr.reshape((3,4))\n",
    "\n",
    "print(\"Original Array :\",arr)\n",
    "print(\"Reshaped Array :\\n\",reshaped_arr)"
   ]
  },
  {
   "cell_type": "markdown",
   "metadata": {},
   "source": [
    "### 3.**Stacking and Splitting Arrays**\n",
    "You can stack and split arrays using various functions.\n",
    "\n"
   ]
  },
  {
   "cell_type": "code",
   "execution_count": 23,
   "metadata": {},
   "outputs": [
    {
     "name": "stdout",
     "output_type": "stream",
     "text": [
      "Horizontally Stacked:\n",
      " [[1 2 5 6]\n",
      " [3 4 7 8]]\n",
      "Vertically Stacked:\n",
      " [[1 2]\n",
      " [3 4]\n",
      " [5 6]\n",
      " [7 8]]\n",
      "Horizontally Split:\n",
      " [array([[1, 2],\n",
      "       [3, 4]]), array([[5, 6],\n",
      "       [7, 8]])]\n",
      "Vertically Split:\n",
      " [array([[1, 2],\n",
      "       [3, 4]]), array([[5, 6],\n",
      "       [7, 8]])]\n"
     ]
    }
   ],
   "source": [
    "arr1 = np.array([[1, 2], [3, 4]])\n",
    "arr2 = np.array([[5, 6], [7, 8]])\n",
    "\n",
    "# Horizontal Stack \n",
    "hstacked = np.hstack((arr1, arr2))\n",
    "\n",
    "# vertical Stack \n",
    "vstacked = np.vstack((arr1, arr2))\n",
    "\n",
    "# Split Arrays \n",
    "hsplit_arr = np.hsplit(hstacked, 2)\n",
    "vsplit_arr = np.vsplit(vstacked, 2)\n",
    "\n",
    "print(\"Horizontally Stacked:\\n\", hstacked)\n",
    "print(\"Vertically Stacked:\\n\", vstacked)\n",
    "print(\"Horizontally Split:\\n\", hsplit_arr)\n",
    "print(\"Vertically Split:\\n\", vsplit_arr)"
   ]
  },
  {
   "cell_type": "markdown",
   "metadata": {},
   "source": [
    "### 4. **Linear Algebra Operation**\n",
    "NumPy provides support for linear algebra operations."
   ]
  },
  {
   "cell_type": "code",
   "execution_count": 32,
   "metadata": {},
   "outputs": [
    {
     "name": "stdout",
     "output_type": "stream",
     "text": [
      "Original Matrix:\n",
      " [[1 2]\n",
      " [3 4]]\n",
      "Inverse Matrix:\n",
      " [[-2.   1. ]\n",
      " [ 1.5 -0.5]]\n",
      "Eigenvalues: [-0.37228132  5.37228132]\n",
      "Eigenvectors:\n",
      " [[-0.82456484 -0.41597356]\n",
      " [ 0.56576746 -0.90937671]]\n"
     ]
    }
   ],
   "source": [
    "from numpy.linalg import inv, eig\n",
    "\n",
    "matrix = np.array([[1, 2], [3, 4]])\n",
    "\n",
    "# Matrix Inverse \n",
    "inv_matrix = inv(matrix)\n",
    "\n",
    "# Eigenvalues and Eigenvectors\n",
    "\n",
    "eigenvalues, eigenvectors = eig(matrix)\n",
    "\n",
    "print(\"Original Matrix:\\n\", matrix)\n",
    "print(\"Inverse Matrix:\\n\", inv_matrix)\n",
    "print(\"Eigenvalues:\", eigenvalues)\n",
    "print(\"Eigenvectors:\\n\", eigenvectors)"
   ]
  },
  {
   "cell_type": "markdown",
   "metadata": {},
   "source": [
    "### **Best Practices**\n",
    "\n",
    "1. **Use Vectorized Operations:** Avoid loops; use NumPy’s built-in functions and vectorized operations for better performance.\n",
    "\n",
    "2. **Memory Management:** Be mindful of array sizes and data types to optimize memory usage.\n",
    "\n",
    "3. **Avoid Copying Data:** Use views instead of copies whenever possible to save memory and improve performance.\n",
    "\n",
    "4. **Use Broadcasting:** Leverage broadcasting to perform operations on arrays of different shapes without needing to replicate data.Follow PEP 8: Write clean and readable code by following the Python PEP 8 style guide."
   ]
  },
  {
   "cell_type": "markdown",
   "metadata": {},
   "source": [
    "### **Example Explanation**\n",
    "Let’s walk through a complete example that utilizes various NumPy features to solve a problem:\n",
    "\n",
    "Problem: Calculate the pairwise distances between points in a 2D space."
   ]
  },
  {
   "cell_type": "code",
   "execution_count": 1,
   "metadata": {},
   "outputs": [
    {
     "name": "stdout",
     "output_type": "stream",
     "text": [
      "Points: \n",
      " [[1 2]\n",
      " [3 4]\n",
      " [5 6]]\n",
      "Pairwise Distance :\n",
      " [[0.         2.82842712 5.65685425]\n",
      " [2.82842712 0.         2.82842712]\n",
      " [5.65685425 2.82842712 0.        ]]\n"
     ]
    }
   ],
   "source": [
    "import numpy as np\n",
    "\n",
    "# Define points in 2d space \n",
    "points = np.array([[1, 2], [3, 4], [5, 6]])\n",
    "\n",
    "# Calculate pairwise distances\n",
    "# (x2 - x1)^2 + (y2 - y1)^2\n",
    "\n",
    "diff = points[:, np.newaxis, :] - points[np.newaxis, :, :]\n",
    "squared_diff = diff ** 2\n",
    "distance = np.sqrt(squared_diff.sum(axis = 2))\n",
    "\n",
    "print(\"Points: \\n\", points)\n",
    "print(\"Pairwise Distance :\\n\", distance)\n"
   ]
  },
  {
   "cell_type": "markdown",
   "metadata": {},
   "source": [
    "### **Explaiation**\n",
    "\n",
    "1. **Define Points:** We define a 2D array points where each row is a point in 2D space.\n",
    "\n",
    "2. **Calculate Differences:** We calculate the differences between each pair of points using broadcasting.\n",
    "\n",
    "3. **Square Differences:** We square the differences to prepare for distance calculation.\n",
    "\n",
    "4. **Sum and Square Root:** We sum the squared differences along the appropriate axis and take the square root to get the distances.\n",
    "\n",
    "This example demonstrates the power and efficiency of NumPy in handling numerical computations."
   ]
  }
 ],
 "metadata": {
  "kernelspec": {
   "display_name": "Python 3",
   "language": "python",
   "name": "python3"
  },
  "language_info": {
   "codemirror_mode": {
    "name": "ipython",
    "version": 3
   },
   "file_extension": ".py",
   "mimetype": "text/x-python",
   "name": "python",
   "nbconvert_exporter": "python",
   "pygments_lexer": "ipython3",
   "version": "3.10.13"
  }
 },
 "nbformat": 4,
 "nbformat_minor": 2
}
