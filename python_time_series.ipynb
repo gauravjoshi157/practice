{
 "cells": [
  {
   "cell_type": "markdown",
   "metadata": {},
   "source": [
    "# Table of Contents\n",
    "1. [Introduction](#Introduction)\n",
    "   - [Time Series Data](#time-series-data)\n",
    "   - [Application Of Time Series Analysis](#application-of-time-series-analysis)\n",
    "2. [Getting Started](#getting-started)\n",
    "   - [Setting Up the Environment](#setting-up-th-environment)\n",
    "   - [Installing Required Libraries](#installing-required-libraries)\n",
    "   - [Loading Time Series Data](#loading-time-series-data)\n",
    "4. [Date/Time Indexing](#datetime-indexing)\n",
    "   - [Introduction to Date/Time Indexing](#introduction-to-datetime-indexing)\n",
    "   - [Converting Columns to DateTime](#converting-columns-to-datetime)\n",
    "   - [Setting Date/Time as Index](#setting-datetime-as-index)\n",
    "   - [Handling Multiple Time Zones](#handling-multiple-time-zones)\n",
    "   - [Generating Custom Date/Time Frequencies](#generating-custom-datetime-frequencies)\n",
    "   \n",
    "5. [Resampling](#resampling)\n",
    "      - [What is Resampling?](#what-is-resampling)\n",
    "      - [Downsampling: Aggregating Data](#downsampling-aggregating-data)\n",
    "      - [Upsampling: Increasing Frequency](#upsampling-increasing-frequency)\n",
    "      - [Custom Resampling Intervals](#custom-resampling-intervals)\n",
    "6. [Rolling Windows](#rolling-windows)\n",
    "    - [Introduction to Rolling Windows](#introduction-to-rolling-windows)\n",
    "    -  [Calculating Rolling Mean](#2-calculate-rolling-mean)\n",
    "    -  [Calculating Rolling Standard Deviation](#3-calculate-rolling-standard-deviation)\n",
    "    -  [Additional Rolling Window Operations](#additional-rolling-window-operations)\n",
    "    \n",
    "7. [Seasonal Decomposition](#seasonal-decomposition)\n",
    "    -  [What is Seasonal Decomposition?](#what-is-seasonal-decomposition)\n",
    "    -  [Additive vs. Multiplicative Models](#additive-vs-multiplicative-models)\n",
    "    -  [Performing Seasonal Decomposition](#performing-seasonal-decomposition)\n",
    "    -  [Interpreting Decomposition Results](#interpreting-decomposition-results)\n",
    "    -  [Handling Missing Values in Decomposition](#handling-missing-values-in-decomposition)\n"
   ]
  },
  {
   "cell_type": "markdown",
   "metadata": {},
   "source": [
    "\n",
    "# __Introduction__\n",
    "\n",
    "# Time Series Data\n",
    "\n",
    "Time series data refers to a sequence of data points collected or recorded at successive points in time, often at regular intervals. This type of data is unique because it inherently includes a temporal ordering, where the position of each data point in time is crucial for understanding the dynamics of the dataset. Unlike cross-sectional data, which captures a snapshot at a single point in time, time series data allows for the analysis of trends, patterns, and changes over time.\n",
    "\n",
    "# Application Of Time Series Analysis\n",
    "\n",
    "Time series analysis has a wide range of applications across various domains. Here are detailed explanations of some key applications:\n",
    "\n",
    "1. **Financial Markets:**\n",
    "    * **Stock Price Prediction**\n",
    "    * **Risk Management**\n",
    "2. **Healthcare:**\n",
    "    * **Healthcare**\n",
    "    * **Disease Outbreak Prediction**\n",
    "3. **Climate Science:**\n",
    "    * **Weather Forecasting**\n",
    "    * **Climate Change Analysis**\n",
    "4. **Retail and E-commerce**\n",
    "    * **Sales Forecasting**\n",
    "    * **Customer Demand Prediction**\n",
    "5. **Manufacturing:**\n",
    "    * **Predictive Maintenance**\n",
    "    * **Production Planning**\n",
    "6. **Social Media and Web Analytics:**\n",
    "    * **Trend Analysis**\n",
    "    * **Anomaly Detection**\n",
    "\n",
    "# Getting Started\n",
    "\n",
    "Getting started with time series analysis involves installing the necessary libraries and loading your time series data. This foundational setup is crucial for efficiently handling and analyzing time series data.\n",
    "\n",
    "### Setting Up th Environment:\n",
    "\n",
    "As a developer, you likely already have Python and Jupyter Notebook set up. The next step is to ensure that you have all the necessary libraries for time series analysis installed.\n",
    "\n",
    "### Installing Required Libraries:\n",
    "\n",
    "For comprehensive time series analysis, you’ll need several Python libraries that facilitate data manipulation, visualization, and modeling. The key libraries include:\n",
    "\n",
    "1. **pandas:** For data manipulation and analysis.\n",
    "2. **numpy:** For numerical computations.\n",
    "3. **matplotlib and seaborn:** For creating visualizations.\n",
    "4. **statsmodels:** For statistical modeling.\n",
    "5. **scikit-learn:** For machine learning algorithms.\n",
    "6. **fbprophet:** For time series forecasting.\n",
    "7. **tensorflow:** For advanced forecasting with neural networks like LSTM.\n",
    "\n",
    "To install these libraries, use the following pip commands in your terminal or Jupyter Notebook:\n",
    "```pip install pandas numpy matplotlib seaborn statsmodels scikit-learn fbprophet tensorflow ```\n",
    "\n",
    "### Loading Time Series Data:\n",
    "\n",
    "Loading time series data into your environment is the first step in any analysis. Here, we’ll demonstrate how to read a CSV file containing time series data using ```pandas```.\n",
    "\n",
    "1. __Create a Sample CSV File:__\n",
    "- For illustration, let’s assume we have a CSV file named __detailed_time_series_data.csv__ with the following structure:\n",
    "```\n",
    "date,sales,temperature,holiday,promotion\n",
    "2021-01-01,100,30,0,0\n",
    "2021-01-02,105,31,0,1\n",
    "2021-01-03,102,32,0,0\n",
    "2021-01-04,110,29,0,0\n",
    "2021-01-05,108,28,0,1\n",
    "2021-01-06,107,30,0,0\n",
    "2021-01-07,115,31,0,1\n",
    "2021-01-08,120,32,1,0\n",
    "2021-01-09,125,33,1,0\n",
    "2021-01-10,123,30,0,0\n",
    "\n",
    "```\n",
    "2. __Load the CSV file:__\n",
    "- Use pandas to read the CSV file, parse the dates, and set the date column as the index.\n",
    "- Here’s how you can do it in Python:"
   ]
  },
  {
   "cell_type": "code",
   "execution_count": 26,
   "metadata": {},
   "outputs": [
    {
     "name": "stdout",
     "output_type": "stream",
     "text": [
      "            sales  temperature  holiday  promotion\n",
      "date                                              \n",
      "2021-01-01    100           30        0          0\n",
      "2021-01-02    105           31        0          1\n",
      "2021-01-03    102           32        0          0\n",
      "2021-01-04    110           29        0          0\n",
      "2021-01-05    108           28        0          1\n",
      "<class 'pandas.core.frame.DataFrame'>\n",
      "DatetimeIndex: 10 entries, 2021-01-01 to 2021-01-10\n",
      "Data columns (total 4 columns):\n",
      " #   Column       Non-Null Count  Dtype\n",
      "---  ------       --------------  -----\n",
      " 0   sales        10 non-null     int64\n",
      " 1   temperature  10 non-null     int64\n",
      " 2   holiday      10 non-null     int64\n",
      " 3   promotion    10 non-null     int64\n",
      "dtypes: int64(4)\n",
      "memory usage: 400.0 bytes\n",
      "None\n",
      "            sales  temperature    holiday  promotion\n",
      "count   10.000000    10.000000  10.000000  10.000000\n",
      "mean   111.500000    30.600000   0.200000   0.300000\n",
      "std      8.809717     1.505545   0.421637   0.483046\n",
      "min    100.000000    28.000000   0.000000   0.000000\n",
      "25%    105.500000    30.000000   0.000000   0.000000\n",
      "50%    109.000000    30.500000   0.000000   0.000000\n",
      "75%    118.750000    31.750000   0.000000   0.750000\n",
      "max    125.000000    33.000000   1.000000   1.000000\n"
     ]
    }
   ],
   "source": [
    "import pandas as pd \n",
    "import numpy as np\n",
    "import matplotlib.pylab as plt\n",
    "from statsmodels.tsa.seasonal import seasonal_decompose\n",
    "\n",
    "# Reading the CSV file with time series data\n",
    "data = pd.read_csv(r'D:\\internship\\vs code\\projects\\datasets\\detailed_time_series_data.csv', parse_dates=['date'], index_col='date')\n",
    "\n",
    "# Display the first few rows of the dataframe\n",
    "print(data.head())\n",
    "\n",
    "# Basic information about the dataset\n",
    "print(data.info())\n",
    "\n",
    "# Display basic statistics of the dataset\n",
    "print(data.describe())"
   ]
  },
  {
   "cell_type": "markdown",
   "metadata": {},
   "source": [
    "3. __Verify Data Loading:__\n",
    "\n",
    "- Ensure that the data is loaded correctly by inspecting the first few rows and checking the data types and summary statistics.\n",
    "- This initial inspection helps confirm that the data is correctly formatted and ready for analysis."
   ]
  },
  {
   "cell_type": "markdown",
   "metadata": {},
   "source": [
    "# Date/Time Indexing\n",
    "\n",
    "# Introduction to Date/Time Indexing\n",
    "Date/time indexing involving using date and time values as the index for your data. This is essential for time series analysis as it provides several key advantages:\n",
    "\n",
    "- __Efficient Time-Based Operations:__ Enables Slicing, resampling, and aggregation of data based on specific time periods.\n",
    "- __Chronological Order:__ Ensures that the data is in the correct chronological order, which is vital for time-dependent analysis. \n",
    "- __Simplified Time Manipulation:__ Facilitates the use of time-aware functions and methods provided by pandas.\n",
    "Proper date/time indexing is the foundation for any time series analysis, allowing for accurate and efficient data manipulation and analysis.\n",
    "\n",
    "#  Converting Columns to DateTime\n",
    "To perform date/time indexing, the date and time columns in your dataset must be in a `datetime` format. Pandas provides a convenient method to convert these columns.\n"
   ]
  },
  {
   "cell_type": "code",
   "execution_count": 27,
   "metadata": {},
   "outputs": [
    {
     "name": "stdout",
     "output_type": "stream",
     "text": [
      "        date  sales\n",
      "0 2021-01-01    100\n",
      "1 2021-01-02    105\n",
      "2 2021-01-03    102\n"
     ]
    }
   ],
   "source": [
    "import pandas as pd\n",
    "\n",
    "# Sample Data\n",
    "data = {\n",
    "    'date': ['2021-01-01', '2021-01-02', '2021-01-03'],\n",
    "    'sales': [100, 105, 102]\n",
    "}\n",
    "\n",
    "df = pd.DataFrame(data)\n",
    "\n",
    "# Convert 'date' Column to datetime \n",
    "df['date'] = pd.to_datetime(df['date'])\n",
    "\n",
    "# Print dataframe\n",
    "print(df)"
   ]
  },
  {
   "cell_type": "markdown",
   "metadata": {},
   "source": [
    "__Explanation:__\n",
    "\n",
    "The ``pd.to_datetime()`` function converts the ‘date’ column to datetime format, ensuring that dates are recognized as datetime objects, which is essential for time series operations.\n",
    "\n",
    "# Setting Date/Time as Index\n",
    "\n",
    "Once your date/time column is in `datetime` format, you can set it as the index of your DataFrame. This is crucial for enabling time-based operations.\n",
    "\n",
    "__Example:__ Setting Date/Time as Index"
   ]
  },
  {
   "cell_type": "code",
   "execution_count": 28,
   "metadata": {},
   "outputs": [
    {
     "name": "stdout",
     "output_type": "stream",
     "text": [
      "            sales\n",
      "date             \n",
      "2021-01-01    100\n",
      "2021-01-02    105\n",
      "2021-01-03    102\n"
     ]
    }
   ],
   "source": [
    "# Set 'date' column as index \n",
    "df.set_index('date', inplace = True)\n",
    "\n",
    "print(df)"
   ]
  },
  {
   "cell_type": "markdown",
   "metadata": {},
   "source": [
    "__Explanation:__\n",
    "\n",
    "The __set_index()__ method is used to set the ‘date’ column as the index, allowing for efficient time-based slicing, querying, and manipulation of the data."
   ]
  },
  {
   "cell_type": "markdown",
   "metadata": {},
   "source": [
    "# Handling Multiple Time Zones\n",
    " \n",
    "Time series data may come from different time zones. Handling multiple time zones correctly ensures accurate analysis and comparison.\n",
    "\n",
    "__Example:__ Localizing and Converting Time Zones"
   ]
  },
  {
   "cell_type": "code",
   "execution_count": 29,
   "metadata": {},
   "outputs": [
    {
     "name": "stdout",
     "output_type": "stream",
     "text": [
      "                           sales\n",
      "date                            \n",
      "2021-01-01 05:00:00-05:00    100\n",
      "2021-01-02 06:00:00-05:00    105\n",
      "2021-01-03 07:00:00-05:00    102\n"
     ]
    }
   ],
   "source": [
    "# Sample data with datetime index \n",
    "\n",
    "data = {\n",
    "    'date': ['2021-01-01 10:00', '2021-01-02 11:00', '2021-01-03 12:00'],\n",
    "    'sales': [100, 105, 102]\n",
    "}\n",
    "\n",
    "df = pd.DataFrame(data)\n",
    "df['date'] = pd.to_datetime(df['date'])\n",
    "df.set_index('date', inplace = True)\n",
    "\n",
    "# Localize ro a specific time zone (UTC)\n",
    "df = df.tz_localize('UTC')\n",
    "\n",
    "# Convert to another time zone (US/Eastern)\n",
    "\n",
    "df = df.tz_convert('US/Eastern')\n",
    "\n",
    "print(df)"
   ]
  },
  {
   "cell_type": "markdown",
   "metadata": {},
   "source": [
    "__Explaination:__\n",
    "\n",
    "- The tz_localize() method assigns a time zone to the datetime index.\n",
    "\n",
    "- The tz_convert() method converts the datetime index to a different time zone, ensuring time series data is correctly aligned across time zones.\n",
    "\n",
    "# Generating Custom Date/Time Frequencies\n",
    "Generating custom date/time frequencies is useful for creating new time series data or resampling existing data to a different frequency.\n",
    "\n",
    "__Example:__ Creating a Custom Date Range"
   ]
  },
  {
   "cell_type": "code",
   "execution_count": 30,
   "metadata": {},
   "outputs": [
    {
     "name": "stdout",
     "output_type": "stream",
     "text": [
      "DatetimeIndex(['2021-01-01', '2021-01-02', '2021-01-03', '2021-01-04',\n",
      "               '2021-01-05', '2021-01-06', '2021-01-07', '2021-01-08',\n",
      "               '2021-01-09', '2021-01-10'],\n",
      "              dtype='datetime64[ns]', freq='D')\n",
      "DatetimeIndex(['2021-01-01', '2021-01-03', '2021-01-05', '2021-01-07',\n",
      "               '2021-01-09'],\n",
      "              dtype='datetime64[ns]', freq='2D')\n"
     ]
    }
   ],
   "source": [
    "# Generate a range of dates with daily frequency \n",
    "date_range = pd.date_range(start = '2021-01-01', end = '2021-01-10', freq='D')\n",
    "print(date_range)\n",
    "\n",
    "# Generating a range of dates with custom frequency (every 2 days)\n",
    "custom_date_range = pd.date_range(start = '2021-01-01', end = '2021-01-10', freq='2D')\n",
    "print(custom_date_range)"
   ]
  },
  {
   "cell_type": "markdown",
   "metadata": {},
   "source": [
    "__Explanation:__\n",
    "\n",
    "- The `pd.date_range()` function generates a range of dates with a specified frequency.\n",
    "- Common frequencies include `D` (daily), `H` (hourly), `M` (monthly), `Q` (quarterly), and `A` (annually).\n",
    "- Custom frequencies can be specified using offset aliases, such as 2D for every 2 days.\n",
    "\n",
    "## Summary\n",
    "\n",
    "Mastering date/time indexing is essential for managing and analyzing time series data. Here’s a recap of the steps involved:\n",
    "\n",
    "1. __Introduction to Date/Time Indexing:__ Understand the importance and benefits of using date/time indexing in time series analysis.\n",
    "2. __Converting Columns to DateTime:__ Use `pd.to_datetime() `to convert columns to datetime format.\n",
    "3. __Setting Date/Time as Index:__ Use `set_index()` to set the date/time column as the index.\n",
    "Handling Multiple Time Zones: Use `tz_localize()` and `tz_convert()` to handle different time zones.\n",
    "4. __Generating Custom Date/Time Frequencies:__ Use `pd.date_range()` to create custom date ranges with specified frequencies.\n",
    "\n",
    "These techniques form the foundation for more advanced time series analysis, enabling you to handle and manipulate time-based data with precision and efficiency.\n",
    "\n",
    "# Resampling \n",
    "Resampling is a powerful technique in time series analysis that involves changing the frequency of your time series data. This technique is essential for summarizing data, detecting trends, and aligning data to common time intervals. Resampling can be performed in two main ways: downsampling and upsampling. Additionally, you can create custom resampling intervals to suit specific analysis needs.\n",
    "\n",
    "## What is Resampling?\n",
    "\n",
    "`Resampling` in time series data refers to changing the frequency of observations, either by aggregating or summarizing data over a longer period (downsampling) or by filling in or interpolating missing data points to a higher frequency (upsampling). It’s a powerful technique to manage and analyze time series data, depending on the specific needs of the analysis. \n",
    "\n",
    "### Key Concepts\n",
    "1. __Downsampling:__ Reduces the frequency of the time series data by aggregating data over a longer time period.\n",
    "2. __Upsampling:__ Increases the frequency of the time series data by introducing additional time points and interpolating missing values.\n",
    "\n",
    "__Detailed Example__\n",
    "\n",
    "Let’s walk through a detailed example of resampling with Python’s `pandas` library. In this example, we’ll use hourly temperature data and demonstrate both downsampling and upsampling.\n",
    "\n",
    "1. __Setup and Sample Data Creation__"
   ]
  },
  {
   "cell_type": "code",
   "execution_count": 41,
   "metadata": {},
   "outputs": [
    {
     "name": "stdout",
     "output_type": "stream",
     "text": [
      "Original Hourly Data:\n",
      "                     temperature\n",
      "date                            \n",
      "2023-01-01 00:00:00    18.745401\n",
      "2023-01-01 01:00:00    24.507143\n",
      "2023-01-01 02:00:00    22.319939\n",
      "2023-01-01 03:00:00    20.986585\n",
      "2023-01-01 04:00:00    16.560186\n",
      "2023-01-01 05:00:00    16.559945\n",
      "2023-01-01 06:00:00    15.580836\n",
      "2023-01-01 07:00:00    23.661761\n",
      "2023-01-01 08:00:00    21.011150\n",
      "2023-01-01 09:00:00    22.080726\n",
      "2023-01-01 10:00:00    15.205845\n",
      "2023-01-01 11:00:00    24.699099\n",
      "2023-01-01 12:00:00    23.324426\n",
      "2023-01-01 13:00:00    17.123391\n",
      "2023-01-01 14:00:00    16.818250\n",
      "2023-01-01 15:00:00    16.834045\n",
      "2023-01-01 16:00:00    18.042422\n",
      "2023-01-01 17:00:00    20.247564\n",
      "2023-01-01 18:00:00    19.319450\n",
      "2023-01-01 19:00:00    17.912291\n",
      "2023-01-01 20:00:00    21.118529\n",
      "2023-01-01 21:00:00    16.394939\n",
      "2023-01-01 22:00:00    17.921446\n",
      "2023-01-01 23:00:00    18.663618\n",
      "2023-01-02 00:00:00    19.560700\n",
      "2023-01-02 01:00:00    22.851760\n",
      "2023-01-02 02:00:00    16.996738\n",
      "2023-01-02 03:00:00    20.142344\n",
      "2023-01-02 04:00:00    20.924146\n",
      "2023-01-02 05:00:00    15.464504\n",
      "2023-01-02 06:00:00    21.075449\n",
      "2023-01-02 07:00:00    16.705241\n",
      "2023-01-02 08:00:00    15.650516\n",
      "2023-01-02 09:00:00    24.488855\n",
      "2023-01-02 10:00:00    24.656320\n",
      "2023-01-02 11:00:00    23.083973\n",
      "2023-01-02 12:00:00    18.046138\n",
      "2023-01-02 13:00:00    15.976721\n",
      "2023-01-02 14:00:00    21.842330\n",
      "2023-01-02 15:00:00    19.401525\n",
      "2023-01-02 16:00:00    16.220382\n",
      "2023-01-02 17:00:00    19.951769\n",
      "2023-01-02 18:00:00    15.343885\n",
      "2023-01-02 19:00:00    24.093204\n",
      "2023-01-02 20:00:00    17.587800\n",
      "2023-01-02 21:00:00    21.625223\n",
      "2023-01-02 22:00:00    18.117111\n",
      "2023-01-02 23:00:00    20.200680\n",
      "2023-01-03 00:00:00    20.467103\n",
      "2023-01-03 01:00:00    16.848545\n",
      "2023-01-03 02:00:00    24.695846\n",
      "2023-01-03 03:00:00    22.751328\n",
      "2023-01-03 04:00:00    24.394989\n",
      "2023-01-03 05:00:00    23.948274\n",
      "2023-01-03 06:00:00    20.979000\n",
      "2023-01-03 07:00:00    24.218742\n",
      "2023-01-03 08:00:00    15.884925\n",
      "2023-01-03 09:00:00    16.959829\n",
      "2023-01-03 10:00:00    15.452273\n",
      "2023-01-03 11:00:00    18.253303\n",
      "2023-01-03 12:00:00    18.886773\n",
      "2023-01-03 13:00:00    17.713490\n",
      "2023-01-03 14:00:00    23.287375\n",
      "2023-01-03 15:00:00    18.567533\n",
      "2023-01-03 16:00:00    17.809345\n",
      "2023-01-03 17:00:00    20.426961\n",
      "2023-01-03 18:00:00    16.409242\n",
      "2023-01-03 19:00:00    23.021970\n",
      "2023-01-03 20:00:00    15.745506\n",
      "2023-01-03 21:00:00    24.868869\n",
      "2023-01-03 22:00:00    22.722448\n",
      "2023-01-03 23:00:00    16.987157\n",
      "2023-01-04 00:00:00    15.055221\n",
      "2023-01-04 01:00:00    23.154614\n",
      "2023-01-04 02:00:00    22.068573\n",
      "2023-01-04 03:00:00    22.290072\n",
      "2023-01-04 04:00:00    22.712703\n",
      "2023-01-04 05:00:00    15.740447\n",
      "2023-01-04 06:00:00    18.584657\n",
      "2023-01-04 07:00:00    16.158691\n",
      "2023-01-04 08:00:00    23.631034\n",
      "2023-01-04 09:00:00    21.232981\n",
      "2023-01-04 10:00:00    18.308980\n",
      "2023-01-04 11:00:00    15.635584\n",
      "2023-01-04 12:00:00    18.109823\n",
      "2023-01-04 13:00:00    18.251833\n",
      "2023-01-04 14:00:00    22.296062\n",
      "2023-01-04 15:00:00    21.375575\n",
      "2023-01-04 16:00:00    23.872127\n",
      "2023-01-04 17:00:00    19.722149\n",
      "2023-01-04 18:00:00    16.195942\n",
      "2023-01-04 19:00:00    22.132448\n",
      "2023-01-04 20:00:00    22.607850\n",
      "2023-01-04 21:00:00    20.612772\n",
      "2023-01-04 22:00:00    22.709672\n",
      "2023-01-04 23:00:00    19.937956\n",
      "2023-01-05 00:00:00    20.227328\n",
      "2023-01-05 01:00:00    19.275410\n",
      "2023-01-05 02:00:00    15.254191\n",
      "2023-01-05 03:00:00    16.078914\n",
      "2023-01-05 04:00:00    15.314292\n",
      "2023-01-05 05:00:00    21.364104\n",
      "2023-01-05 06:00:00    18.143560\n",
      "2023-01-05 07:00:00    20.085707\n",
      "2023-01-05 08:00:00    24.075665\n",
      "2023-01-05 09:00:00    17.492922\n",
      "2023-01-05 10:00:00    19.103829\n",
      "2023-01-05 11:00:00    22.555511\n",
      "2023-01-05 12:00:00    17.287982\n",
      "2023-01-05 13:00:00    15.769799\n",
      "2023-01-05 14:00:00    17.897515\n",
      "2023-01-05 15:00:00    16.612213\n",
      "2023-01-05 16:00:00    24.296977\n",
      "2023-01-05 17:00:00    23.081204\n",
      "2023-01-05 18:00:00    21.334038\n",
      "2023-01-05 19:00:00    23.714606\n",
      "2023-01-05 20:00:00    23.036721\n",
      "2023-01-05 21:00:00    16.865701\n",
      "2023-01-05 22:00:00    23.925590\n",
      "2023-01-05 23:00:00    20.393422\n",
      "2023-01-06 00:00:00    23.074402\n",
      "2023-01-06 01:00:00    23.960913\n",
      "2023-01-06 02:00:00    18.180035\n",
      "2023-01-06 03:00:00    16.100519\n",
      "2023-01-06 04:00:00    17.279352\n",
      "2023-01-06 05:00:00    19.271078\n",
      "2023-01-06 06:00:00    23.180148\n",
      "2023-01-06 07:00:00    23.607306\n",
      "2023-01-06 08:00:00    15.069521\n",
      "2023-01-06 09:00:00    20.107473\n",
      "2023-01-06 10:00:00    19.174110\n",
      "2023-01-06 11:00:00    17.221078\n",
      "2023-01-06 12:00:00    16.198654\n",
      "2023-01-06 13:00:00    18.376152\n",
      "2023-01-06 14:00:00    24.429097\n",
      "2023-01-06 15:00:00    18.232029\n",
      "2023-01-06 16:00:00    20.187906\n",
      "2023-01-06 17:00:00    22.030190\n",
      "2023-01-06 18:00:00    18.636296\n",
      "2023-01-06 19:00:00    24.717821\n",
      "2023-01-06 20:00:00    24.624473\n",
      "2023-01-06 21:00:00    17.517823\n",
      "2023-01-06 22:00:00    19.972485\n",
      "2023-01-06 23:00:00    18.008783\n",
      "2023-01-07 00:00:00    17.848405\n",
      "2023-01-07 01:00:00    15.368869\n",
      "2023-01-07 02:00:00    21.095643\n",
      "2023-01-07 03:00:00    20.026790\n",
      "2023-01-07 04:00:00    15.514788\n",
      "2023-01-07 05:00:00    17.786465\n",
      "2023-01-07 06:00:00    24.082659\n",
      "2023-01-07 07:00:00    17.395619\n",
      "2023-01-07 08:00:00    16.448949\n",
      "2023-01-07 09:00:00    19.894528\n",
      "2023-01-07 10:00:00    24.856505\n",
      "2023-01-07 11:00:00    17.420553\n",
      "2023-01-07 12:00:00    21.721355\n",
      "2023-01-07 13:00:00    22.616196\n",
      "2023-01-07 14:00:00    17.376375\n",
      "2023-01-07 15:00:00    22.282163\n",
      "2023-01-07 16:00:00    18.677831\n",
      "2023-01-07 17:00:00    21.323058\n",
      "2023-01-07 18:00:00    21.335297\n",
      "2023-01-07 19:00:00    20.357747\n",
      "2023-01-07 20:00:00    15.902898\n",
      "2023-01-07 21:00:00    23.353025\n",
      "2023-01-07 22:00:00    18.207801\n",
      "2023-01-07 23:00:00    16.865185\n",
      "2023-01-08 00:00:00    15.407751\n",
      "\n",
      "\n"
     ]
    }
   ],
   "source": [
    "import pandas as pd\n",
    "import numpy as np\n",
    "# Create a date range with hourly reqfuency \n",
    "date_rng = pd.date_range(start = '2023-01-01', end = '2023-01-08', freq = 'h')\n",
    "\n",
    "\n",
    "# Generate random temperature data between 15 and 25 degree Celcius\n",
    "np.random.seed(42) # For reproducibility\n",
    "temperature  = np.random.uniform(low = 15, high = 25, size = (len(date_rng)))\n",
    "\n",
    "# Create a DataFrame with the generated data\n",
    "df = pd.DataFrame(date_rng, columns = ['date'])\n",
    "df['temperature'] = temperature\n",
    "df.set_index('date', inplace = True)\n",
    "\n",
    "# Display the first few rows of the DataFrame\n",
    "print(\"Original Hourly Data:\")\n",
    "print(df.to_string())\n",
    "print(\"\\n\")\n"
   ]
  },
  {
   "cell_type": "markdown",
   "metadata": {},
   "source": [
    "__Explanation:__\n",
    "\n",
    "- __Date Range Creation:__ `pd.date_range(start='2023-01-01', end='2023-01-08', freq='H')` generates a time series index with hourly frequency.\n",
    "\n",
    "- __Data Generation:__ Random temperatures are created to simulate hourly readings.\n",
    "\n",
    "- __DataFrame Creation:__ The data is organized into a DataFrame, with the date column set as the index.\n",
    "\n",
    "\n",
    "## Downsampling: Aggregating Data\n",
    "\n",
    "__Downsampling__ is a technique used to reduce the frequency of observations in a time series by aggregating data over longer periods. This process is valuable for summarizing data, reducing noise, and simplifying analysis.\n",
    "\n",
    "__Key Concepts of Downsampling__\n",
    "\n",
    "- __Frequency Change:__ Downsampling involves converting a time series from a higher frequency (e.g., hourly) to a lower frequency (e.g., daily).\n",
    "\n",
    "- __Aggregation Methods:__ Data points within the new time interval are combined using aggregation functions such as mean, sum, min, max, etc.\n",
    "\n",
    "\n",
    "### Example of Downsampling\n",
    "\n",
    "Let’s consider a time series dataset of hourly sales data and demonstrate how to downsample it to daily data, aggregating the total sales for each day.\n",
    "\n",
    "### __Step-by-Step Guide__\n",
    "\n",
    "### Create Sample Data\n",
    "\n",
    "We’ll generate a DataFrame with hourly sales data for a week."
   ]
  },
  {
   "cell_type": "code",
   "execution_count": 30,
   "metadata": {},
   "outputs": [
    {
     "name": "stdout",
     "output_type": "stream",
     "text": [
      "Original Hourly Sales Data:\n",
      "                     sales\n",
      "date                      \n",
      "2023-01-01 00:00:00    202\n",
      "2023-01-01 01:00:00    448\n",
      "2023-01-01 02:00:00    370\n",
      "2023-01-01 03:00:00    206\n",
      "2023-01-01 04:00:00    171\n"
     ]
    }
   ],
   "source": [
    "# Import Libraries\n",
    "import numpy as np\n",
    "import pandas as pd \n",
    "\n",
    "# Create a data range with hourly frequency \n",
    "date_rng = pd.date_range(start='2023-01-01', end='2023-01-08', freq='h')\n",
    "\n",
    "# Generate random sales data\n",
    "np.random.seed(42)\n",
    "sales = np.random.randint(100, 500, size = (len(date_rng)))\n",
    "\n",
    "# Create a DataFrame\n",
    "df = pd.DataFrame(date_rng, columns = ['date'])\n",
    "df['sales'] = sales\n",
    "df.set_index('date', inplace = True)\n",
    "\n",
    "# Display the First few rows of the DataFrame\n",
    "print(\"Original Hourly Sales Data:\")\n",
    "print(df.head())\n"
   ]
  },
  {
   "cell_type": "markdown",
   "metadata": {},
   "source": [
    "__Explaination:__ \n",
    "\n",
    "- __Date Range Creation:__ `pd.date_range(start='2023-01-01', end='2023-01-08', freq='H')` generates hourly timestamps.\n",
    "\n",
    "- __Sales Data Generation:__ Random integers between 100 and 500 represent hourly sales.\n",
    "\n",
    "- __DataFrame Creation:__ The DataFrame contains hourly sales data, with the date column set as the index.\n",
    "\n",
    "\n",
    "2. __Downsampling to Daily Data__\n",
    "\n",
    "We will aggregate the hourly sales data to daily sales by calculating the total sales for each day."
   ]
  },
  {
   "cell_type": "code",
   "execution_count": 31,
   "metadata": {},
   "outputs": [
    {
     "name": "stdout",
     "output_type": "stream",
     "text": [
      "Downsample Daily Sales Date(Total Sales):\n",
      "            sales\n",
      "date             \n",
      "2023-01-01   7396\n",
      "2023-01-02   7043\n",
      "2023-01-03   7545\n",
      "2023-01-04   7931\n",
      "2023-01-05   7104\n",
      "2023-01-06   6819\n",
      "2023-01-07   6886\n",
      "2023-01-08    426\n"
     ]
    }
   ],
   "source": [
    "# Downsampling to daily frequency, calculating the total salse for each day\n",
    "daily_sales = df.resample('D').sum()\n",
    "\n",
    "# Display the daily sales data\n",
    "print(\"Downsample Daily Sales Date(Total Sales):\")\n",
    "print(daily_sales)"
   ]
  },
  {
   "cell_type": "markdown",
   "metadata": {},
   "source": [
    "__Explanation:__\n",
    "\n",
    "- __Resampling to Daily Frequency:__` df.resample('D').sum()` aggregates hourly sales into daily total sales.\n",
    "\n",
    "- __Aggregation Function:__ The `sum()` function computes the total sales for each day. \n",
    "\n",
    "\n",
    "### Detailed Breakdown\n",
    "\n",
    "1. __Original Data Creation:__\n",
    "- __Hourly Frequency:__ Data is collected every hour.\n",
    "- __Random Sales Data:__ Simulates real-world sales data with variability.\n",
    "2. __Resampling:__\n",
    "- __Frequency Code 'D':__ Specifies daily frequency for aggregation.\n",
    "- __Aggregation Function sum():__ Adds up all sales within each day to get the total daily sales.\n",
    "3. __Result Analysis:__\n",
    "- __Downsampled Data:__ Provides daily totals which are easier to analyze for trends or reporting purposes.\n",
    "\n",
    "\n",
    "### Additional Aggregation Methods\n",
    "\n",
    "You can use various aggregation functions depending on your needs:\n",
    "\n",
    "__Mean Sales:__\n",
    " "
   ]
  },
  {
   "cell_type": "code",
   "execution_count": 32,
   "metadata": {},
   "outputs": [
    {
     "name": "stdout",
     "output_type": "stream",
     "text": [
      "Downsampled Daily Sales Data (Mean Sales):\n",
      "                 sales\n",
      "date                  \n",
      "2023-01-01  308.166667\n",
      "2023-01-02  293.458333\n",
      "2023-01-03  314.375000\n",
      "2023-01-04  330.458333\n",
      "2023-01-05  296.000000\n",
      "2023-01-06  284.125000\n",
      "2023-01-07  286.916667\n",
      "2023-01-08  426.000000\n"
     ]
    }
   ],
   "source": [
    "daily_mean_sales = df.resample('D').mean()\n",
    "print(\"Downsampled Daily Sales Data (Mean Sales):\")\n",
    "print(daily_mean_sales)"
   ]
  },
  {
   "cell_type": "markdown",
   "metadata": {},
   "source": [
    "- __Minimum Sales:__"
   ]
  },
  {
   "cell_type": "code",
   "execution_count": 33,
   "metadata": {},
   "outputs": [
    {
     "name": "stdout",
     "output_type": "stream",
     "text": [
      "Downsampled Daily Sales Data (Minimum Sales):\n",
      "            sales\n",
      "date             \n",
      "2023-01-01    120\n",
      "2023-01-02    120\n",
      "2023-01-03    101\n",
      "2023-01-04    143\n",
      "2023-01-05    108\n",
      "2023-01-06    104\n",
      "2023-01-07    112\n",
      "2023-01-08    426\n"
     ]
    }
   ],
   "source": [
    "daily_minimum_sales = df.resample('D').min()\n",
    "print(\"Downsampled Daily Sales Data (Minimum Sales):\")\n",
    "print(daily_minimum_sales)"
   ]
  },
  {
   "cell_type": "markdown",
   "metadata": {},
   "source": [
    "- __Maximum Sales:__"
   ]
  },
  {
   "cell_type": "code",
   "execution_count": 34,
   "metadata": {},
   "outputs": [
    {
     "name": "stdout",
     "output_type": "stream",
     "text": [
      "Downsampled Daily Sales Data (Maximum Sales):\n",
      "            sales\n",
      "date             \n",
      "2023-01-01    485\n",
      "2023-01-02    463\n",
      "2023-01-03    489\n",
      "2023-01-04    466\n",
      "2023-01-05    491\n",
      "2023-01-06    497\n",
      "2023-01-07    492\n",
      "2023-01-08    426\n"
     ]
    }
   ],
   "source": [
    "daily_maximum_sales = df.resample('D').max()\n",
    "print(\"Downsampled Daily Sales Data (Maximum Sales):\")\n",
    "print(daily_maximum_sales)"
   ]
  },
  {
   "cell_type": "markdown",
   "metadata": {},
   "source": [
    "### Summary\n",
    "\n",
    "- `Downsampling` involves reducing the data frequency by aggregating values over longer time intervals.\n",
    "- __Aggregation Methods:__ Common methods include sum, mean, min, and max, depending on the analysis requirements.\n",
    "- __Use Cases:__ Simplifying data for trend analysis, reducing noise, and summarizing large datasets.\n",
    "\n",
    "\n",
    "## Upsampling: Increasing Frequency\n",
    "\n",
    "`Upsampling` is a technique used to increase the frequency of observations in a time series. This involves introducing additional time points and filling in or interpolating values to create a more detailed dataset. Upsampling is particularly useful for applications requiring high-resolution data or when integrating data from different sources.\n",
    "\n",
    "__Key Concepts of Upsampling__\n",
    "\n",
    "1. __Frequency Increase:__ Upsampling changes the time series from a lower frequency to a higher frequency (e.g., daily to hourly).\n",
    "2. __Interpolation Methods:__ Missing values created by upsampling are filled in using methods such as linear interpolation, forward filling, or backward filling.\n",
    "\n",
    "## Detailed Example of Upsampling\n",
    "\n",
    "Let’s walk through an example of upsampling using Python’s `pandas` library. We’ll start with daily sales data and increase its frequency to hourly data, filling in missing values through interpolation.\n",
    "\n",
    "## Step-by-Step Guide\n",
    "1. __Create Sample Data__\n",
    "\n",
    "We’ll start by creating a DataFrame with daily sales data."
   ]
  },
  {
   "cell_type": "code",
   "execution_count": 35,
   "metadata": {},
   "outputs": [
    {
     "name": "stdout",
     "output_type": "stream",
     "text": [
      "Original Daily Sales Data:\n",
      "            sales\n",
      "date             \n",
      "2023-01-01   4174\n",
      "2023-01-02   4507\n",
      "2023-01-03   1860\n",
      "2023-01-04   2294\n",
      "2023-01-05   2130\n",
      "2023-01-06   2095\n",
      "2023-01-07   4772\n"
     ]
    }
   ],
   "source": [
    "# Import required libraries \n",
    "import pandas as pd\n",
    "import numpy as np\n",
    "\n",
    "# create a data range with daily frequency \n",
    "date_rng = pd.date_range(start = '2023-01-01', end = '2023-01-07', freq='D')\n",
    "\n",
    "# Generate random salse data \n",
    "np.random.seed(42)\n",
    "sales = np.random.randint(1000, 5000, size = (len(date_rng)))\n",
    "\n",
    "# Create Dataframe \n",
    "df = pd.DataFrame(date_rng, columns = ['date'])\n",
    "df['sales'] = sales\n",
    "df.set_index('date', inplace = True)\n",
    "\n",
    "# Display The first feew rows of the DataFrame\n",
    "print(\"Original Daily Sales Data:\")\n",
    "print(df)\n",
    "# print(\"\\n\")"
   ]
  },
  {
   "cell_type": "markdown",
   "metadata": {},
   "source": [
    "__Explanation:__\n",
    "\n",
    "- __Date Range Creation:__ `pd.date_range(start='2023-01-01', end='2023-01-07', freq='D')` generates daily timestamps.\n",
    " \n",
    "- __Sales Data Generation:__ Random integers between 1000 and 5000 represent daily sales.\n",
    "- __DataFrame Creation:__ The DataFrame contains daily sales data, with the date column set as the index.\n",
    "\n",
    "__Upsampling to Hourly Data__\n",
    "\n",
    "We will increase the frequency to hourly and fill in missing values using linear interpolation."
   ]
  },
  {
   "cell_type": "code",
   "execution_count": 36,
   "metadata": {},
   "outputs": [
    {
     "name": "stdout",
     "output_type": "stream",
     "text": [
      "            sales\n",
      "date             \n",
      "2023-01-01   4174\n",
      "2023-01-02   4507\n",
      "2023-01-03   1860\n",
      "2023-01-04   2294\n",
      "2023-01-05   2130\n",
      "2023-01-06   2095\n",
      "2023-01-07   4772\n",
      "Upsampled Data (Hourly Intervals with Interpolation):\n",
      "                        sales\n",
      "date                         \n",
      "2023-01-01 00:00:00  4174.000\n",
      "2023-01-01 01:00:00  4187.875\n",
      "2023-01-01 02:00:00  4201.750\n",
      "2023-01-01 03:00:00  4215.625\n",
      "2023-01-01 04:00:00  4229.500\n",
      "2023-01-01 05:00:00  4243.375\n",
      "2023-01-01 06:00:00  4257.250\n",
      "2023-01-01 07:00:00  4271.125\n",
      "2023-01-01 08:00:00  4285.000\n",
      "2023-01-01 09:00:00  4298.875\n",
      "\n",
      "\n",
      "Upsampled Data - Last Few Rows:\n",
      "                           sales\n",
      "date                            \n",
      "2023-01-06 15:00:00  3768.125000\n",
      "2023-01-06 16:00:00  3879.666667\n",
      "2023-01-06 17:00:00  3991.208333\n",
      "2023-01-06 18:00:00  4102.750000\n",
      "2023-01-06 19:00:00  4214.291667\n",
      "2023-01-06 20:00:00  4325.833333\n",
      "2023-01-06 21:00:00  4437.375000\n",
      "2023-01-06 22:00:00  4548.916667\n",
      "2023-01-06 23:00:00  4660.458333\n",
      "2023-01-07 00:00:00  4772.000000\n"
     ]
    }
   ],
   "source": [
    "# Upsample to hourly frequency\n",
    "hourly_sales = df.resample('h').mean()\n",
    "print(df.to_string())\n",
    "# Interpolate missing values for upsampling\n",
    "hourly_sales_interpolated = hourly_sales.interpolate(method = 'linear')\n",
    "\n",
    "# Display the first few rows of the interpolated hourly sales data\n",
    "print(\"Upsampled Data (Hourly Intervals with Interpolation):\")\n",
    "print(hourly_sales_interpolated.head(10))\n",
    "print(\"\\n\")\n",
    "\n",
    "# Display the last few rows to see interpolation at the end of the period\n",
    "print(\"Upsampled Data - Last Few Rows:\")\n",
    "print(hourly_sales_interpolated.tail(10))\n",
    "\n"
   ]
  },
  {
   "cell_type": "markdown",
   "metadata": {},
   "source": [
    "__Explanation:__\n",
    "\n",
    "- __Resampling to Hourly Frequency:__ `df.resample('H').mean()` creates new hourly time points between existing daily data points.\n",
    "- __Interpolation:__ `interpolate(method='linear')` fills in missing values by linearly interpolating between existing data points. \n",
    "\n",
    "\n",
    "## Detailed Breakdown\n",
    "1. __Original Data Creation:__\n",
    "- __Daily Frequency:__ The data is collected once per day.\n",
    "- __Random Sales Data:__ Simulates daily sales figures with variability.\n",
    "\n",
    "2. __Upsampling:__\n",
    "- __Frequency Code 'H':__ Specifies hourly frequency for upsampling.\n",
    "- __Interpolation Method:__ linear method estimates values between existing data points, creating a smooth transition between them.\n",
    "\n",
    "3. __Result Analysis:__\n",
    "Upsampled Data: Provides detailed hourly sales data, with values interpolated between daily observations.\n",
    "\n",
    "## Additional Interpolation Methods\n",
    "Depending on your needs, you can use various interpolation methods:\n",
    "\n",
    "- __Forward Fill:__"
   ]
  },
  {
   "cell_type": "code",
   "execution_count": 37,
   "metadata": {},
   "outputs": [
    {
     "name": "stdout",
     "output_type": "stream",
     "text": [
      "Upsampled Data (Hourly Intervals with Forward Fill):\n",
      "                     sales\n",
      "date                      \n",
      "2023-01-01 00:00:00   4174\n",
      "2023-01-01 01:00:00   4174\n",
      "2023-01-01 02:00:00   4174\n",
      "2023-01-01 03:00:00   4174\n",
      "2023-01-01 04:00:00   4174\n"
     ]
    }
   ],
   "source": [
    "hourly_sales_ffill = df.resample('h').ffill()\n",
    "print(\"Upsampled Data (Hourly Intervals with Forward Fill):\")\n",
    "print(hourly_sales_ffill.head())"
   ]
  },
  {
   "cell_type": "markdown",
   "metadata": {},
   "source": [
    "- __Backward Fill__"
   ]
  },
  {
   "cell_type": "code",
   "execution_count": 38,
   "metadata": {},
   "outputs": [
    {
     "name": "stdout",
     "output_type": "stream",
     "text": [
      "Upsampled Data (Hourly Intervals with Backward Fill):\n",
      "                     sales\n",
      "date                      \n",
      "2023-01-01 00:00:00   4174\n",
      "2023-01-01 01:00:00   4507\n",
      "2023-01-01 02:00:00   4507\n",
      "2023-01-01 03:00:00   4507\n",
      "2023-01-01 04:00:00   4507\n",
      "2023-01-01 05:00:00   4507\n",
      "2023-01-01 06:00:00   4507\n",
      "2023-01-01 07:00:00   4507\n",
      "2023-01-01 08:00:00   4507\n",
      "2023-01-01 09:00:00   4507\n"
     ]
    }
   ],
   "source": [
    "hourly_sales_bfill = df.resample('h').bfill()\n",
    "print(\"Upsampled Data (Hourly Intervals with Backward Fill):\")\n",
    "print(hourly_sales_bfill.head(10))"
   ]
  },
  {
   "cell_type": "markdown",
   "metadata": {},
   "source": [
    "## Summary\n",
    "\n",
    "- `Upsampling` increases the frequency of data points by introducing new time intervals and filling in the missing values.\n",
    "\n",
    "- __Interpolation Methods:__ Common methods include linear interpolation, forward fill, and backward fill, depending on the required smoothness and data characteristics.\n",
    "\n",
    "- __Applications:__ Useful for enhancing data resolution, integrating data sources, and creating more detailed analyses.\n",
    "\n",
    "## Custom Resampling Intervals\n",
    "\n",
    "Custom resampling intervals allow you to specify non-standard time frequencies for aggregating or interpolating time series data. This flexibility can be useful for applications requiring specific time intervals that are not directly supported by built-in resampling options.\n",
    "\n",
    "__Key Concepts__\n",
    "1. __Custom Intervals:__ Define intervals such as every 2 hours, every 15 minutes, or any other specific period not available in default options.\n",
    "2. __Aggregation and Interpolation:__ Depending on the interval, you may aggregate data (e.g., summing or averaging) or interpolate missing values.\n",
    "\n",
    "### Example of Custom Resampling Intervals\n",
    "\n",
    "Let’s use a time series dataset with hourly sales data and demonstrate how to apply custom resampling intervals.\n",
    "\n",
    "### Step-by-Step Guide\n",
    "1. __Create Sample Data__\n",
    "\n",
    "We’ll generate hourly sales data and then resample it using custom intervals."
   ]
  },
  {
   "cell_type": "code",
   "execution_count": 2,
   "metadata": {},
   "outputs": [
    {
     "name": "stdout",
     "output_type": "stream",
     "text": [
      "Original Hourly Sales Data:\n",
      "                     sales\n",
      "date                      \n",
      "2023-01-01 00:00:00    202\n",
      "2023-01-01 01:00:00    448\n",
      "2023-01-01 02:00:00    370\n",
      "2023-01-01 03:00:00    206\n",
      "2023-01-01 04:00:00    171\n",
      "2023-01-01 05:00:00    288\n",
      "2023-01-01 06:00:00    120\n",
      "2023-01-01 07:00:00    202\n",
      "2023-01-01 08:00:00    221\n",
      "2023-01-01 09:00:00    314\n"
     ]
    }
   ],
   "source": [
    "import pandas as pd\n",
    "import numpy as np\n",
    "\n",
    "# Create a date range with hourly frequency\n",
    "date_rng = pd.date_range(start='2023-01-01', end='2023-01-07', freq='h')\n",
    "\n",
    "# Generate random sales data\n",
    "np.random.seed(42)\n",
    "sales = np.random.randint(100, 500, size=(len(date_rng)))\n",
    "\n",
    "# Create a DataFrame\n",
    "df = pd.DataFrame(date_rng, columns=['date'])\n",
    "df['sales'] = sales\n",
    "df.set_index('date', inplace=True)\n",
    "\n",
    "# Display the first few rows of the DataFrame\n",
    "print(\"Original Hourly Sales Data:\")\n",
    "print(df.head(10))\n"
   ]
  },
  {
   "cell_type": "markdown",
   "metadata": {},
   "source": [
    "__Explanation:__\n",
    "\n",
    "-  __Date Range Creation:__ Generates hourly timestamps.\n",
    "- __Sales Data Generation:__ Random integers simulate hourly sales figures.\n",
    "- __DataFrame Creation:__ Organizes data with hourly frequency."
   ]
  },
  {
   "cell_type": "markdown",
   "metadata": {},
   "source": [
    "2. __Custom Resampling Intervals__\n",
    "\n",
    "Let’s resample the data to every 3 hours and every 15 minutes using custom intervals."
   ]
  },
  {
   "cell_type": "code",
   "execution_count": 9,
   "metadata": {},
   "outputs": [
    {
     "name": "stdout",
     "output_type": "stream",
     "text": [
      "Resampled Data (Every 3 Hours):\n",
      "                          sales\n",
      "date                           \n",
      "2023-01-01 00:00:00  340.000000\n",
      "2023-01-01 03:00:00  221.666667\n",
      "2023-01-01 06:00:00  181.000000\n",
      "2023-01-01 09:00:00  310.333333\n",
      "2023-01-01 12:00:00  376.666667\n",
      "2023-01-01 15:00:00  243.333333\n",
      "2023-01-01 18:00:00  402.666667\n",
      "2023-01-01 21:00:00  389.666667\n",
      "2023-01-02 00:00:00  349.666667\n",
      "2023-01-02 03:00:00  269.333333\n",
      "\n",
      "\n",
      "Resampled Data (Every 15 Minutes with Forward Fill):\n",
      "                     sales\n",
      "date                      \n",
      "2023-01-01 00:00:00    202\n",
      "2023-01-01 00:15:00    202\n",
      "2023-01-01 00:30:00    202\n",
      "2023-01-01 00:45:00    202\n",
      "2023-01-01 01:00:00    448\n",
      "2023-01-01 01:15:00    448\n",
      "2023-01-01 01:30:00    448\n",
      "2023-01-01 01:45:00    448\n",
      "2023-01-01 02:00:00    370\n",
      "2023-01-01 02:15:00    370\n"
     ]
    }
   ],
   "source": [
    "# Resample to every 3 hours and calculate the mean sales\n",
    "sales_3h = df.resample('3h').mean()\n",
    "\n",
    "# Resample to enery 15 minutes and forward fill missing values \n",
    "sales_15m = df.resample('15min').ffill()\n",
    "\n",
    "# Dislpay the resampled data\n",
    "print(\"Resampled Data (Every 3 Hours):\")\n",
    "print(sales_3h.head(10))\n",
    "print(\"\\n\")\n",
    "\n",
    "print(\"Resampled Data (Every 15 Minutes with Forward Fill):\")\n",
    "print(sales_15m.head(10))\n"
   ]
  },
  {
   "cell_type": "markdown",
   "metadata": {},
   "source": [
    "__Explanation:__\n",
    "\n",
    "- __3-Hour Interval:__ `df.resample('3H').mean()` aggregates data every 3 hours, calculating the mean sales for each interval.\n",
    "- __15-Minute Interval:__ `df.resample('15T').ffill()` resamples data every 15 minutes and uses forward fill to handle missing values.\n"
   ]
  },
  {
   "cell_type": "markdown",
   "metadata": {},
   "source": [
    "## Detailed Breakdown\n",
    "\n",
    "1. __Original Data Creation:__\n",
    "\n",
    "- __Hourly Frequency:__ Data is collected hourly.\n",
    "- __Random Sales Data:__ Simulates variability in hourly sales.\n",
    "2. __Custom Resampling:__\n",
    "- __3-Hour Interval:__ Aggregates data over 3-hour periods, averaging sales within each period.\n",
    "- __15-Minute Interval:__ Increases frequency to every 15 minutes and fills missing values with the previous value (forward fill).\n",
    "3. __Result Analysis:__\n",
    "- __3-Hour Data:__ Provides summarized data at a less granular level, useful for observing longer-term trends.\n",
    "- __15-Minute Data:__ Provides more detailed data, filling in gaps between hourly observations.\n",
    "\n",
    "### Additional Considerations\n",
    "\n",
    "- __Custom Intervals:__ You can specify custom intervals using codes like ‘2h’ (2 hours), ’10min’ (10 minutes), or any other period.\n",
    "\n",
    "- __Interpolation Methods:__ Besides forward fill, other methods like backward fill and linear interpolation can be used depending on the data and analysis needs.\n",
    "### Summary\n",
    "- __Applications:__ Useful for detailed analysis, integrating datasets, and managing time series data with specific needs.\n",
    "\n",
    "- __Custom Resampling Intervals:__ allow for flexible time aggregation or interpolation tailored to specific requirements.\n",
    "\n",
    "- __Aggregation:__ Summarize data over custom intervals (e.g., every 3 hours).\n",
    "\n",
    "- __Interpolation:__ Fill in missing data for higher frequency intervals (e.g., every 15 minutes).\n",
    "\n",
    "\n",
    "\n",
    "# Rolling Windows\n",
    "\n",
    "### Introduction to Rolling Windows\n",
    "\n",
    "Rolling windows are used in time series analysis to apply statistical functions over a moving window of data points. This technique helps in smoothing data, calculating moving averages, and detecting trends or anomalies by evaluating data within a specified window size that “rolls” over the series.\n",
    "\n",
    "\n",
    "### Key Concepts of Rolling Windows\n",
    "\n",
    "1. __Window Size:__ The number of data points used for each calculation. For example, a window size of 3 means that calculations are based on the current data point and the previous two data points.\n",
    "2. __Rolling Operations:__ Statistical functions like mean, sum, min, max, standard deviation, etc., are applied over each window.\n",
    "3.__Window Alignment:__ Determines where the window is aligned relative to the data points (e.g., center, right, or left).\n",
    "\n",
    "### Detailed Example of Rolling Windows\n",
    "\n",
    "Let’s demonstrate rolling windows using Python’s pandas library. We’ll use a time series dataset to calculate a rolling mean and rolling standard deviation.\n",
    "\n",
    "\n",
    "## Step-by-Step Guide\n",
    "#### 1. Create Sample Data\n",
    "\n",
    "We’ll generate a DataFrame with daily sales data\n",
    "\n"
   ]
  },
  {
   "cell_type": "code",
   "execution_count": 12,
   "metadata": {},
   "outputs": [
    {
     "name": "stdout",
     "output_type": "stream",
     "text": [
      "Original Daily Sales Data:\n",
      "            sales\n",
      "date             \n",
      "2023-01-01    202\n",
      "2023-01-02    448\n",
      "2023-01-03    370\n",
      "2023-01-04    206\n",
      "2023-01-05    171\n",
      "2023-01-06    288\n",
      "2023-01-07    120\n",
      "2023-01-08    202\n",
      "2023-01-09    221\n",
      "2023-01-10    314\n"
     ]
    }
   ],
   "source": [
    "# Import libraries \n",
    "import numpy as np \n",
    "import pandas as pd\n",
    "\n",
    "# Create a data range with daily frequency \n",
    "date_rng = pd.date_range(start='2023-01-01', end='2023-01-10', freq='D')\n",
    "\n",
    "# Generate Random salses data\n",
    "np.random.seed(42)\n",
    "sales = np.random.randint(100,500, size = (len(date_rng)))\n",
    "\n",
    "# Create DatFrame\n",
    "df = pd.DataFrame(date_rng, columns = ['date'])\n",
    "df['sales'] = sales\n",
    "df.set_index('date', inplace = True)\n",
    "\n",
    "# Display the original data\n",
    "print(\"Original Daily Sales Data:\")\n",
    "print(df)\n",
    "\n",
    "\n"
   ]
  },
  {
   "cell_type": "markdown",
   "metadata": {},
   "source": [
    "### 2. Calculate Rolling Mean\n",
    " \n",
    "We will compute a rolling mean with a window size of 3 days."
   ]
  },
  {
   "cell_type": "code",
   "execution_count": 13,
   "metadata": {},
   "outputs": [
    {
     "name": "stdout",
     "output_type": "stream",
     "text": [
      "Rolling Mean (3-Day Window): date\n",
      "2023-01-01           NaN\n",
      "2023-01-02           NaN\n",
      "2023-01-03    340.000000\n",
      "2023-01-04    341.333333\n",
      "2023-01-05    249.000000\n",
      "2023-01-06    221.666667\n",
      "2023-01-07    193.000000\n",
      "2023-01-08    203.333333\n",
      "2023-01-09    181.000000\n",
      "2023-01-10    245.666667\n",
      "Name: sales, dtype: float64\n"
     ]
    }
   ],
   "source": [
    "# Calculate rolling mean with a window of 3 days \n",
    "rolling_mean = df['sales'].rolling(window = 3).mean()\n",
    "\n",
    "# Display the rolling mean\n",
    "print(\"Rolling Mean (3-Day Window):\", rolling_mean)"
   ]
  },
  {
   "cell_type": "markdown",
   "metadata": {},
   "source": [
    "__Explanation:__\n",
    "\n",
    "- __Rolling Mean Calculation:__ `df['sales'].rolling(window=3).mean()` calculates the mean of the current and previous two days.\n",
    "\n",
    "- The rolling mean is calculated over a 3-day window. The first two days have NaN values because there aren’t enough data points to compute the mean."
   ]
  },
  {
   "cell_type": "markdown",
   "metadata": {},
   "source": [
    "### 3. Calculate Rolling Standard Deviation\n",
    "\n",
    "We will compute a rolling standard deviation with the same window size of 3 days."
   ]
  },
  {
   "cell_type": "code",
   "execution_count": 14,
   "metadata": {},
   "outputs": [
    {
     "name": "stdout",
     "output_type": "stream",
     "text": [
      "Rolling Standard Deviation (3-Day Window): date\n",
      "2023-01-01           NaN\n",
      "2023-01-02           NaN\n",
      "2023-01-03    125.713961\n",
      "2023-01-04    123.520579\n",
      "2023-01-05    106.240294\n",
      "2023-01-06     60.052755\n",
      "2023-01-07     86.133617\n",
      "2023-01-08     84.007936\n",
      "2023-01-09     53.674948\n",
      "2023-01-10     59.936077\n",
      "Name: sales, dtype: float64\n"
     ]
    }
   ],
   "source": [
    "# Calculate rolling standart deviation with size of 3 days\n",
    "rolling_std = df['sales'].rolling(window = 3).std() \n",
    "\n",
    "# Display the rolling standard deviation\n",
    "print(\"Rolling Standard Deviation (3-Day Window):\",rolling_std)"
   ]
  },
  {
   "cell_type": "markdown",
   "metadata": {},
   "source": [
    "__Explanation:__\n",
    "\n",
    "- __Rolling Standard Deviation Calculation:__ `df['sales'].rolling(window=3).std()` calculates the standard deviation of the current and previous two days.\n",
    "\n",
    "- The rolling standard deviation measures the variability in sales over a 3-day window.\n",
    "\n",
    "### Detailed Breakdown\n",
    "\n",
    "1. __Original Data Creation:__\n",
    "\n",
    "- __Daily Frequency:__ Data is collected once per day.\n",
    "\n",
    "- __Random Sales Data:__ Simulates daily sales figures with variability.\n",
    "\n",
    "2. __Rolling Mean:__\n",
    "\n",
    "- __Window Size:__ window=3 means calculating the mean over the current and the previous two days.\n",
    "\n",
    "- __Output:__ Provides a smoothed view of sales trends.\n",
    "\n",
    "3. __Rolling Standard Deviation:__\n",
    "\n",
    "- __Window Size:__ window=3 means calculating the standard deviation over the current and previous two days.\n",
    "\n",
    "- __Output:__ Measures variability and helps in identifying periods of high or low volatility.\n",
    "\n",
    "### Additional Rolling Window Operations\n",
    "\n",
    "Besides mean and standard deviation, you can perform various other operations:\n",
    "\n",
    "- __Sum:__"
   ]
  },
  {
   "cell_type": "code",
   "execution_count": 15,
   "metadata": {},
   "outputs": [
    {
     "name": "stdout",
     "output_type": "stream",
     "text": [
      "Rolling Sum (3-Day Window):\n",
      "date\n",
      "2023-01-01       NaN\n",
      "2023-01-02       NaN\n",
      "2023-01-03    1020.0\n",
      "2023-01-04    1024.0\n",
      "2023-01-05     747.0\n",
      "2023-01-06     665.0\n",
      "2023-01-07     579.0\n",
      "2023-01-08     610.0\n",
      "2023-01-09     543.0\n",
      "2023-01-10     737.0\n",
      "Name: sales, dtype: float64\n"
     ]
    }
   ],
   "source": [
    "rolling_sum = df['sales'].rolling(window=3).sum()\n",
    "print(\"Rolling Sum (3-Day Window):\")\n",
    "print(rolling_sum)"
   ]
  },
  {
   "cell_type": "markdown",
   "metadata": {},
   "source": [
    "- __Minimum__"
   ]
  },
  {
   "cell_type": "code",
   "execution_count": 16,
   "metadata": {},
   "outputs": [
    {
     "name": "stdout",
     "output_type": "stream",
     "text": [
      "Rolling Minimum (3-Day Window):\n",
      "date\n",
      "2023-01-01      NaN\n",
      "2023-01-02      NaN\n",
      "2023-01-03    202.0\n",
      "2023-01-04    206.0\n",
      "2023-01-05    171.0\n",
      "2023-01-06    171.0\n",
      "2023-01-07    120.0\n",
      "2023-01-08    120.0\n",
      "2023-01-09    120.0\n",
      "2023-01-10    202.0\n",
      "Name: sales, dtype: float64\n"
     ]
    }
   ],
   "source": [
    "rolling_min = df['sales'].rolling(window=3).min()\n",
    "print(\"Rolling Minimum (3-Day Window):\")\n",
    "print(rolling_min)"
   ]
  },
  {
   "cell_type": "markdown",
   "metadata": {},
   "source": [
    "- __Maximum__"
   ]
  },
  {
   "cell_type": "code",
   "execution_count": 17,
   "metadata": {},
   "outputs": [
    {
     "name": "stdout",
     "output_type": "stream",
     "text": [
      "Rolling Maximum (3-Day Window):\n",
      "date\n",
      "2023-01-01      NaN\n",
      "2023-01-02      NaN\n",
      "2023-01-03    448.0\n",
      "2023-01-04    448.0\n",
      "2023-01-05    370.0\n",
      "2023-01-06    288.0\n",
      "2023-01-07    288.0\n",
      "2023-01-08    288.0\n",
      "2023-01-09    221.0\n",
      "2023-01-10    314.0\n",
      "Name: sales, dtype: float64\n"
     ]
    }
   ],
   "source": [
    "rolling_max = df['sales'].rolling(window=3).max()\n",
    "print(\"Rolling Maximum (3-Day Window):\")\n",
    "print(rolling_max)"
   ]
  },
  {
   "cell_type": "markdown",
   "metadata": {},
   "source": [
    "### Summary\n",
    "\n",
    "- __Rolling Windows__ allow you to apply statistical functions over a moving window of data points, useful for smoothing, trend detection, and anomaly detection.\n",
    "\n",
    "- __Window Size:__ Determines the number of data points included in each calculation.\n",
    "\n",
    "- __Operations:__ Common operations include mean, standard deviation, sum, min, and max.\n",
    "\n",
    "- __Applications:__ Ideal for analyzing trends, smoothing data, and detecting fluctuations in time series data.\n"
   ]
  },
  {
   "cell_type": "markdown",
   "metadata": {},
   "source": [
    "# Seasonal Decomposition\n",
    "\n",
    "Seasonal decomposition is a fundamental technique in time series analysis that helps break down a time series into its core components: trend, seasonality, and residuals. Understanding these components allows for better insights into the underlying patterns and enhances forecasting accuracy. Below is a comprehensive guide to seasonal decomposition, tailored for developers seeking to deepen their knowledge.\n",
    "\n",
    "# What is Seasonal Decomposition?\n",
    "\n",
    "Seasonal decomposition involves separating a time series into distinct components to better understand its underlying structure. This process helps isolate and analyze different patterns within the data.\n",
    "\n",
    "- __Trend:__ Represents the long-term movement or direction in the data, showing whether values are increasing or decreasing over time.\n",
    "\n",
    "- __Seasonality:__ Captures repeating patterns or cycles occurring at regular intervals, such as monthly or quarterly.\n",
    "\n",
    "- __Residuals:__ Contains the random noise or irregular variations that remain after removing the trend and seasonal effects.\n",
    "\n",
    "\n",
    "__Purpose:__\n",
    "\n",
    "- __Identify Patterns:__ By breaking down the series, you can clearly see trends, seasonal effects, and anomalies.\n",
    "\n",
    "- __Improve Forecasting:__ Accurate decomposition helps in creating better forecasting models by isolating predictable components.\n",
    "\n",
    "__Example:__ Consider a time series of monthly electricity consumption data. Seasonal decomposition can reveal:\n",
    "\n",
    "- __Trend:__ Whether electricity usage is increasing over the years.\n",
    "\n",
    "- __Seasonality:__ Higher consumption during summer months due to air conditioning.\n",
    "- __Residuals:__ Irregular spikes or drops not explained by trend or seasonality.\n",
    "\n",
    "# Additive vs. Multiplicative Models\n",
    "\n",
    "__Additive Model:__\n",
    "\n",
    "- __Definition:__ Assumes that the time series is the sum of trend, seasonality, and residuals: Time Series=Trend+Seasonality+Residuals\\text{Time Series} = \\text{Trend} + \\text{Seasonality} + \\text{Residuals}Time Series=Trend+Seasonality+Residuals\n",
    "- __Use Case:__ Appropriate when the seasonal effect is consistent over time, regardless of the trend level.\n",
    "\n",
    "__Example:__ Monthly retail sales where the effect of holiday promotions does not change in intensity over the years would be modeled additively.\n",
    "\n",
    "__Multiplicative Model:__\n",
    "\n",
    "- __Definition:__ Assumes that the time series is the product of trend, seasonality, and residuals: \n",
    "\n",
    "Time Series=Trend×Seasonality×Residuals\\text{Time Series} = \\text{Trend} \\times \\text{Seasonality} \\times \\text{Residuals}Time Series=Trend×Seasonality×Residuals\n",
    "\n",
    "- __Use Case:__ Suitable when the seasonal effect scales with the level of the trend.\n",
    "\n",
    "__Example:__ For a company’s revenue, where higher revenue months also experience proportionally higher seasonal effects (e.g., increased sales during the holiday season), a multiplicative model would be used.\n",
    "\n",
    "# Performing Seasonal Decomposition\n",
    "To perform seasonal decomposition, you can use the `seasonal_decompose` function from the `statsmodels` library. This function separates the time series into trend, seasonal, and residual components.\n",
    "\n",
    "__Example Code:__\n"
   ]
  },
  {
   "cell_type": "code",
   "execution_count": 31,
   "metadata": {},
   "outputs": [
    {
     "data": {
      "image/png": "[encoded data removed]",
      "text/plain": [
       "<Figure size 1400x1000 with 1 Axes>"
      ]
     },
     "metadata": {},
     "output_type": "display_data"
    },
    {
     "data": {
      "image/png": "[encoded data removed]",
      "text/plain": [
       "<Figure size 1400x1000 with 1 Axes>"
      ]
     },
     "metadata": {},
     "output_type": "display_data"
    },
    {
     "data": {
      "image/png": "[encoded data removed]",
      "text/plain": [
       "<Figure size 1400x1000 with 1 Axes>"
      ]
     },
     "metadata": {},
     "output_type": "display_data"
    },
    {
     "data": {
      "image/png": "[encoded data removed]",
      "text/plain": [
       "<Figure size 1400x1000 with 1 Axes>"
      ]
     },
     "metadata": {},
     "output_type": "display_data"
    }
   ],
   "source": [
    "# Import required libraries \n",
    "import numpy as np\n",
    "import pandas as pd \n",
    "import matplotlib.pyplot as plt \n",
    "from statsmodels.tsa.seasonal import seasonal_decompose\n",
    "\n",
    "# Generate Example data : Monthly retail sales \n",
    "data = pd.date_range(start='2023-01-01', periods=24, freq='ME')\n",
    "sales = [200, 220, 210, 240, 300, 320, 280, 310, 350, 360, 370, 400] * 2\n",
    "df = pd.DataFrame({'date': data, 'sales': sales})\n",
    "df.set_index('date', inplace = True)\n",
    "\n",
    "# Perdorm Seasonal Decomposition\n",
    "decomposition = seasonal_decompose(df['sales'], model = 'additive')\n",
    "\n",
    "# Edtract Components\n",
    "trends = decomposition.trend\n",
    "seasonal = decomposition.seasonal\n",
    "residual = decomposition.resid \n",
    "\n",
    "# Plot Comments \n",
    "plt.figure(figsize=  (14,10))\n",
    "plt.subplot(4,1,1)\n",
    "plt.plot(df['sales'], label = 'Original Series')\n",
    "plt.title(\"Original Time Series\")\n",
    "plt.show()\n",
    "\n",
    "# Plot graph for trends \n",
    "plt.figure(figsize=  (14,10))\n",
    "plt.subplot(4,1,2)\n",
    "plt.plot(trends, label = \"Trend\")\n",
    "plt.title(\"Trend COmponents\")\n",
    "plt.legend(loc='upper left')\n",
    "plt.show()\n",
    "\n",
    "# Plot graph for seasonal \n",
    "plt.figure(figsize=  (14,10))\n",
    "plt.subplot(4,1,3)\n",
    "plt.plot(seasonal, label = \"Seasonal\")\n",
    "plt.title(\"Seasonal Components \")\n",
    "plt.legend(loc='upper left')\n",
    "plt.show()\n",
    "\n",
    "# Plot graph for residual\n",
    "plt.figure(figsize=  (14,10))\n",
    "plt.subplot(4,1,4)\n",
    "plt.plot(residual, label = \"Residuals\")\n",
    "plt.title(\"Residual Components \")\n",
    "plt.legend(loc='upper left')\n",
    "plt.show()"
   ]
  },
  {
   "cell_type": "markdown",
   "metadata": {},
   "source": [
    "__Explanation:__\n",
    "\n",
    "- __Data Creation:__ Creates a time series of monthly sales data.\n",
    "\n",
    "- __Decomposition:__ Breaks down the sales data into trend, seasonal, and residual components using the additive model.\n",
    "\n",
    "- __Plotting:__ Visualizes each component to better understand the decomposition."
   ]
  },
  {
   "cell_type": "markdown",
   "metadata": {},
   "source": [
    "# Interpreting Decomposition Results\n",
    "\n",
    "__Components Analysis:__\n",
    "\n",
    "- __Trend Component:__ Reveals the overall direction of the data. For instance, a rising trend indicates increasing values over time.\n",
    "\n",
    "- __Seasonal Component:__ Shows periodic patterns. Peaks and troughs reflect regular seasonal effects, such as increased sales during holiday periods.\n",
    "\n",
    "- __Residuals:__ Represents irregular variations or noise. Large residuals may indicate anomalies or outliers.\n",
    "\n",
    "__Example Interpretation:__ In the decomposed sales data:\n",
    "\n",
    "- __Trend:__ If the trend is upward, it signifies that sales are generally increasing.\n",
    "\n",
    "- __Seasonality:__ Regular peaks in the seasonal component suggest predictable patterns, such as higher sales in December.\n",
    "\n",
    "- __Residuals:__ Significant spikes in residuals could indicate unexpected events or data errors.\n",
    "\n",
    "# Handling Missing Values in Decomposition\n",
    "\n",
    "__Challenges:__\n",
    "\n",
    "- Missing values can skew the results of the decomposition, making it difficult to accurately analyze the components.\n",
    "\n",
    "__Strategies:__\n",
    "\n",
    "- __Interpolation:__ Estimate missing values using interpolation techniques, such as linear interpolation.\n",
    "\n",
    "- __Imputation:__ Replace missing values with statistical estimates like mean or median.\n",
    "\n",
    "__Exclusion:__ In cases of minimal missing data, excluding the missing values might be a practical approach.\n",
    "\n",
    "Example Code:"
   ]
  },
  {
   "cell_type": "code",
   "execution_count": 33,
   "metadata": {},
   "outputs": [
    {
     "data": {
      "image/png": "[encoded data removed]",
      "text/plain": [
       "<Figure size 1400x1000 with 1 Axes>"
      ]
     },
     "metadata": {},
     "output_type": "display_data"
    },
    {
     "data": {
      "image/png": "[encoded data removed]",
      "text/plain": [
       "<Figure size 1400x1000 with 1 Axes>"
      ]
     },
     "metadata": {},
     "output_type": "display_data"
    },
    {
     "data": {
      "image/png": "[encoded data removed]",
      "text/plain": [
       "<Figure size 1400x1000 with 1 Axes>"
      ]
     },
     "metadata": {},
     "output_type": "display_data"
    },
    {
     "data": {
      "image/png": "[encoded data removed]",
      "text/plain": [
       "<Figure size 1400x1000 with 1 Axes>"
      ]
     },
     "metadata": {},
     "output_type": "display_data"
    }
   ],
   "source": [
    "import numpy as np\n",
    "import  pandas as pd\n",
    "import matplotlib.pyplot as plt\n",
    "from statsmodels.tsa.seasonal import seasonal_decompose\n",
    "\n",
    "# Generate example data: Monthly retail sales\n",
    "data = pd.date_range(start='2023-01-01', periods=24, freq='ME')\n",
    "sales = [200, 220, 210, 240, 300, 320, 280, 310, 350, 360, 370, 400] * 2\n",
    "df = pd.DataFrame({'date': data, 'sales': sales})\n",
    "df.set_index('date', inplace=True)\n",
    "\n",
    "# Introduce missing values \n",
    "df.loc['2023-06-30', 'sales'] = np.nan\n",
    "\n",
    "# Handle missing values using interpolation\n",
    "df['sales'] = df['sales'].interpolate()\n",
    "\n",
    "# Perform seasonal decomposition again\n",
    "decomposition = seasonal_decompose(df['sales'], model = 'additive')\n",
    "\n",
    "# Extract and plot components \n",
    "trends = decomposition.trend\n",
    "seasonal = decomposition.seasonal\n",
    "residual = decomposition.resid\n",
    "\n",
    "# Plot Comments \n",
    "plt.figure(figsize=  (14,10))\n",
    "plt.subplot(4,1,1)\n",
    "plt.plot(df['sales'], label = 'Original Series')\n",
    "plt.title(\"Original Time Series\")\n",
    "plt.show()\n",
    "\n",
    "# Plot graph for trends \n",
    "plt.figure(figsize=  (14,10))\n",
    "plt.subplot(4,1,2)\n",
    "plt.plot(trends, label = \"Trend\")\n",
    "plt.title(\"Trend COmponents\")\n",
    "plt.legend(loc='upper left')\n",
    "plt.show()\n",
    "\n",
    "# Plot graph for seasonal \n",
    "plt.figure(figsize=  (14,10))\n",
    "plt.subplot(4,1,3)\n",
    "plt.plot(seasonal, label = \"Seasonal\")\n",
    "plt.title(\"Seasonal Components \")\n",
    "plt.legend(loc='upper left')\n",
    "plt.show()\n",
    "\n",
    "# Plot graph for residual\n",
    "plt.figure(figsize=  (14,10))\n",
    "plt.subplot(4,1,4)\n",
    "plt.plot(residual, label = \"Residuals\")\n",
    "plt.title(\"Residual Components \")\n",
    "plt.legend(loc='upper left')\n",
    "plt.show()\n",
    "\n",
    "\n",
    "\n",
    "\n",
    "\n",
    "\n",
    "\n"
   ]
  },
  {
   "cell_type": "markdown",
   "metadata": {},
   "source": [
    "__Explanation:__\n",
    "\n",
    "- __Missing Values:__ Simulate missing values and handle them using interpolation.\n",
    "\n",
    "- __Decomposition:__ Re-run the decomposition after filling missing values to ensure accuracy.\n",
    "\n",
    "- __Plotting:__ Visualize components post-interpolation to verify reliability.\n",
    "\n",
    "\n",
    "# __Summary__\n",
    "\n",
    "Seasonal decomposition is a crucial technique for understanding time series data. Here’s a quick recap:\n",
    "\n",
    "1. __What is Seasonal Decomposition:__ Decompose a time series into trend, seasonal, and residual components to analyze underlying patterns.\n",
    "\n",
    "2. __Additive vs. Multiplicative Models:__ Choose the model based on whether seasonal effects are constant or proportional to the trend.\n",
    "\n",
    "3. __Performing Seasonal Decomposition:__ Use seasonal_decompose to break down the time series and visualize the components.\n",
    "\n",
    "4. __Interpreting Decomposition Results:__ Analyze trend, seasonal, and residual components to gain insights into the data.\n",
    "\n",
    "5. __Handling Missing Values:__ Address missing data through interpolation or imputation to maintain accurate decomposition.\n",
    "\n",
    "By mastering seasonal decomposition, you can gain a deeper understanding of time series data and enhance your analytical capabilities."
   ]
  }
 ],
 "metadata": {
  "kernelspec": {
   "display_name": ".venv",
   "language": "python",
   "name": "python3"
  },
  "language_info": {
   "codemirror_mode": {
    "name": "ipython",
    "version": 3
   },
   "file_extension": ".py",
   "mimetype": "text/x-python",
   "name": "python",
   "nbconvert_exporter": "python",
   "pygments_lexer": "ipython3",
   "version": "3.11.9"
  }
 },
 "nbformat": 4,
 "nbformat_minor": 2
}
