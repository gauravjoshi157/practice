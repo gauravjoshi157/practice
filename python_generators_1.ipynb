{
 "cells": [
  {
   "cell_type": "markdown",
   "metadata": {},
   "source": [
    " ### Python program that creates a generator function that yields cubes of numbers from 1 to n. Accept n from the user.\n"
   ]
  },
  {
   "cell_type": "code",
   "execution_count": 5,
   "metadata": {},
   "outputs": [
    {
     "name": "stdout",
     "output_type": "stream",
     "text": [
      "Cube of numbers from 1 to  7\n",
      "1\n",
      "8\n",
      "27\n",
      "64\n",
      "125\n",
      "216\n",
      "343\n"
     ]
    }
   ],
   "source": [
    "\n",
    "def cube_generator(n):\n",
    "    for i in range(1,n+1):\n",
    "        yield i**3\n",
    "\n",
    "# Get input form user \n",
    "\n",
    "x = int(input(\"Enter the number: \"))\n",
    "\n",
    "#Create the generator object\n",
    "\n",
    "cube = cube_generator(x)\n",
    "\n",
    "# Iterate over the generator and \n",
    "\n",
    "print(\"Cube of numbers from 1 to \",x)\n",
    "for num in cube:\n",
    "    print (num)"
   ]
  },
  {
   "cell_type": "markdown",
   "metadata": {},
   "source": [
    "### Explanation:\n",
    "\n",
    "In the above exercise -\n",
    "\n",
    "Inside the `cube_generator()` function, a for loop iterates over the range of numbers from 1 to n + 1. For each number i, it calculates the cube by raising i to the power of 3 using the ** operator.\n",
    "Instead of using the return statement to return the cube value, it uses the yield keyword. This makes the function a generator, allowing it to generate and yield one cube value at a time when requested.\n",
    "The program prompts the user to input a number using the `input()` function. The input value is then converted to an integer using `int()` and stored in n.\n",
    "The generator object `cubes` is created by calling the cube_generator function with n. This sets up the generator and prepares it for iteration.\n",
    "The program then iterates over the `cubes` generator using a for loop. For each iteration, the next cube value is generated and assigned to the variable num.\n",
    "The cube values are printed one by one inside the loop using `print()`."
   ]
  },
  {
   "cell_type": "markdown",
   "metadata": {},
   "source": [
    " ### Python program to implement a generator that generates random numbers within a given range."
   ]
  },
  {
   "cell_type": "code",
   "execution_count": 9,
   "metadata": {},
   "outputs": [
    {
     "name": "stdout",
     "output_type": "stream",
     "text": [
      "Random number between : 1 and 10\n",
      "10\n",
      "9\n",
      "8\n",
      "8\n",
      "4\n",
      "7\n",
      "8\n",
      "10\n",
      "1\n",
      "8\n"
     ]
    }
   ],
   "source": [
    "# Import random library\n",
    "\n",
    "import random \n",
    "\n",
    "# Create a generator function\n",
    "\n",
    "def rand_num_generator(start, end):\n",
    "    while True:\n",
    "        yield random.randint(start, end)\n",
    "\n",
    "# Accept the inputs from user \n",
    "\n",
    "start = int(input(\"Enter the number from you want to start: \"))\n",
    "end = int(input(\"Enter the number where you want to end: \"))\n",
    "\n",
    "# Create the generator object\n",
    "\n",
    "random_number = rand_num_generator(start, end)\n",
    "\n",
    "# Generate and print 10 random numbers \n",
    "\n",
    "print(\"Random number between :\", start, \"and\", end)\n",
    "for _ in range(10):\n",
    "    print(next(random_number))\n",
    "\n"
   ]
  },
  {
   "cell_type": "markdown",
   "metadata": {},
   "source": [
    "### Explanation:\n",
    "\n",
    "In the above exercise,\n",
    "\n",
    "At first the code imports the random module, which provides functions for generating random numbers.\n",
    "The `random_num_generator(start, end)` function is defined as a generator. It uses a while loop to continuously generate random numbers within the given range. It uses the yield keyword to generate random numbers.\n",
    "The program prompts the user to input the start and end values for the random numbers range.\n",
    "The generator object random_numbers is created by calling the `random_num_generator` function with the start and end values.\n",
    "The program then iterates over the generator using a for loop. Here, it generates and prints 10 random numbers by calling `next(random_numbers)`."
   ]
  },
  {
   "cell_type": "markdown",
   "metadata": {},
   "source": [
    " ### Python program that creates a generator function that generates all prime numbers between two given numbers.\n"
   ]
  },
  {
   "cell_type": "code",
   "execution_count": 18,
   "metadata": {},
   "outputs": [
    {
     "name": "stdout",
     "output_type": "stream",
     "text": [
      "First: 12 Prime Numebrs :\n",
      "2\n",
      "3\n",
      "5\n",
      "7\n",
      "11\n",
      "13\n",
      "17\n",
      "19\n",
      "23\n",
      "29\n",
      "31\n",
      "37\n"
     ]
    }
   ],
   "source": [
    "\n",
    "\n",
    "\n",
    "# Prime number checker \n",
    "\n",
    "def prime_number_checker(n):\n",
    "    if n<=1:\n",
    "        return False \n",
    "    for i in range(2, int(n**0.5)+1):\n",
    "        if n % i == 0:\n",
    "            return False \n",
    "    return True\n",
    "\n",
    "# Prime number Generator\n",
    "\n",
    "def prime_number_generator():\n",
    "    n = 2\n",
    "    while True:\n",
    "        if prime_number_checker(n):\n",
    "            yield n\n",
    "        n += 1\n",
    "\n",
    "# Create the generator object\n",
    "\n",
    "primes = prime_number_generator()\n",
    "\n",
    "# Accept input from the user\n",
    "\n",
    "n = int(input(\"Input the number of prime numbers you want to generate? \"))\n",
    "\n",
    "# Generate and print the first 10 prime numbers\n",
    "\n",
    "print(\"First:\",n ,\"Prime Numebrs :\")\n",
    "for _ in range(n):\n",
    "    print(next(primes))\n",
    "\n",
    "\n",
    "\n",
    "\n",
    "\n"
   ]
  },
  {
   "cell_type": "markdown",
   "metadata": {},
   "source": [
    "### Explanation:\n",
    "\n",
    "In the above exercise,\n",
    "\n",
    "The `prime_number_checker(n)` function checks whether a number n is prime.\n",
    "The `prime_nums_generator()` function is a generator. It initializes n to 2, the first prime number, and enters an infinite loop. It checks if n is prime using the `prime_number_checker()` function, and if so, it yields n. Then, it increments n by 1 and continues the loop.\n",
    "The generator object primes is created by calling the `prime_nums_generator()` function.\n",
    "The program prompts the user to input the number of prime numbers they wish to generate and stores it in the variable n.\n",
    "The program then iterates over the generator using a for loop. In this case, it generates and prints the specified number of prime numbers by calling `next(primes)`."
   ]
  },
  {
   "cell_type": "markdown",
   "metadata": {},
   "source": [
    " ### Python program to implement a generator function that generates the Fibonacci sequence.\n",
    " "
   ]
  },
  {
   "cell_type": "code",
   "execution_count": 28,
   "metadata": {},
   "outputs": [
    {
     "name": "stdout",
     "output_type": "stream",
     "text": [
      "Numberof first  10 Fibonacci numbers:\n",
      "0 1 1 2 3 5 8 13 21 34 "
     ]
    }
   ],
   "source": [
    "\n",
    "# Fibonacci sequence generator \n",
    "\n",
    "def fibonacci_generator():\n",
    "    x, y = 0, 1\n",
    "    while True:\n",
    "        yield x \n",
    "        x, y = y, x+y\n",
    "\n",
    "# Accept input from the user\n",
    "\n",
    "n = int(input(\"Input the number of Fibonacci numbers you want to generate? \"))\n",
    "\n",
    "# Create a generator object\n",
    "\n",
    "fib = fibonacci_generator()\n",
    " \n",
    "print(\"Numberof first \",n ,\"Fibonacci numbers:\")\n",
    "for _ in range(n):\n",
    "    print(next(fib),end=\" \")\n",
    "\n",
    "\n",
    "\n",
    "\n"
   ]
  },
  {
   "cell_type": "markdown",
   "metadata": {},
   "source": [
    "### Explanation:\n",
    "\n",
    "In the above exercise,\n",
    "\n",
    "The `fibonacci()` function is defined as a generator function. It initializes two variables x and y with 0 and 1, respectively.\n",
    "The function enters an infinite loop using while True.\n",
    "Inside the loop, it uses the yield keyword to yield the current value of x. This represents the Fibonacci number in the sequence.\n",
    "After yielding a, the function updates x and y by swapping their values: x becomes y, and y becomes the sum of the previous values of x and y.\n",
    "The loop continues, generating the next Fibonacci number each time yield is encountered.\n",
    "To use this generator and print the Fibonacci sequence, iterate over it using a loop. Use the `next()` function to manually retrieve the next Fibonacci number."
   ]
  },
  {
   "cell_type": "markdown",
   "metadata": {},
   "source": [
    " ### Python program to implement a generator that generates the Collatz sequence for a given number.\n"
   ]
  },
  {
   "cell_type": "code",
   "execution_count": 1,
   "metadata": {},
   "outputs": [
    {
     "name": "stdout",
     "output_type": "stream",
     "text": [
      "Collatz sequence:\n",
      "5, 16, 8, 4, 2, 1, "
     ]
    }
   ],
   "source": [
    "\n",
    "def collatz_sequence(n):\n",
    "    while n !=1:\n",
    "        yield n\n",
    "        if n % 2 ==0:\n",
    "            n = n//2\n",
    "        else:\n",
    "            n = (n*3)+1\n",
    "    yield 1\n",
    "\n",
    "# Accept input for the user \n",
    "\n",
    "n = int(input(\"Input the number of Fibonacci numbers you want to generate? \"))\n",
    "\n",
    "# Generate and print the Collatz sequence\n",
    "\n",
    "print(\"Collatz sequence:\")\n",
    "for x in collatz_sequence(n):\n",
    "    print(x,end=\", \")"
   ]
  },
  {
   "cell_type": "markdown",
   "metadata": {},
   "source": [
    "### Explanation:\n",
    "\n",
    "In the above exercise,\n",
    "\n",
    "The `collatz_sequence()` function is a generator that generates the Collatz sequence for a given number n. It starts with n and repeatedly applies the Collatz rules until it reaches 1. Each number in the sequence is yielded using the yield keyword."
   ]
  },
  {
   "cell_type": "markdown",
   "metadata": {},
   "source": [
    " ### Python program that creates a generator function that generates all prime numbers between two given numbers.\n"
   ]
  },
  {
   "cell_type": "code",
   "execution_count": 9,
   "metadata": {},
   "outputs": [
    {
     "name": "stdout",
     "output_type": "stream",
     "text": [
      "Prime numbers between : 1 and 30 are\n",
      "2,3,5,7,11,13,17,19,23,29,"
     ]
    }
   ],
   "source": [
    "\n",
    "def is_prime_number(n):\n",
    "    # check if the number is prime \n",
    "    if n < 2 :\n",
    "        return False\n",
    "    for i in range(2, int(n ** 0.5) + 1):\n",
    "        if n % i ==0:\n",
    "            return False \n",
    "    return True\n",
    "\n",
    "\n",
    "def prime_number_generator(start, end ):\n",
    "    # Generate prime numbers between start and end\n",
    "    for num in range(start, end):\n",
    "        if is_prime_number(num):\n",
    "            yield num\n",
    "\n",
    "# Accept input from the user\n",
    "\n",
    "start = int(input(\"Input the starting number: \"))\n",
    "end = int(input(\"Input the ending number: \"))\n",
    "\n",
    "# Create the generator object \n",
    "\n",
    "prime_gen = prime_number_generator(start , end )\n",
    "\n",
    "# Generate and print all prime numbers \n",
    "\n",
    "print(\"Prime numbers between :\", start, \"and\", end , \"are\")\n",
    "for x in prime_gen:\n",
    "    print(x, end = \",\") "
   ]
  },
  {
   "cell_type": "markdown",
   "metadata": {},
   "source": [
    "### Explanation:\n",
    "\n",
    "In the above exercise,\n",
    "\n",
    "The `is_prime_num()` function is used to check whether a number is prime. It iterates from 2 to the square root of the number and checks for any divisors.\n",
    "The `prime_numbers` generator function generates prime numbers between the given start and end numbers. It iterates from start to end and checks each number whether it is prime using the `is_prime` function. If it is prime, it yields the number.\n",
    "The program accepts starting and ending numbers from the user. It then creates the `prime_numbers` generator using these input values. Finally, it iterates over the generator and prints all the prime numbers in the specified range."
   ]
  },
  {
   "cell_type": "markdown",
   "metadata": {},
   "source": [
    " ### Python program to create a generator that generates the square, cube roots of numbers from 1 to n."
   ]
  },
  {
   "cell_type": "code",
   "execution_count": 11,
   "metadata": {},
   "outputs": [
    {
     "name": "stdout",
     "output_type": "stream",
     "text": [
      "Square roots and cube roots of numbers from 1 to 10\n",
      "Number: 1\n",
      "square_root  1.0\n",
      "cube_root 1.0\n",
      "\n",
      "Number: 2\n",
      "square_root  1.4142135623730951\n",
      "cube_root 1.2599210498948732\n",
      "\n",
      "Number: 3\n",
      "square_root  1.7320508075688772\n",
      "cube_root 1.4422495703074083\n",
      "\n",
      "Number: 4\n",
      "square_root  2.0\n",
      "cube_root 1.5874010519681994\n",
      "\n",
      "Number: 5\n",
      "square_root  2.23606797749979\n",
      "cube_root 1.7099759466766968\n",
      "\n",
      "Number: 6\n",
      "square_root  2.449489742783178\n",
      "cube_root 1.8171205928321397\n",
      "\n",
      "Number: 7\n",
      "square_root  2.6457513110645907\n",
      "cube_root 1.912931182772389\n",
      "\n",
      "Number: 8\n",
      "square_root  2.8284271247461903\n",
      "cube_root 2.0\n",
      "\n",
      "Number: 9\n",
      "square_root  3.0\n",
      "cube_root 2.080083823051904\n",
      "\n",
      "Number: 10\n",
      "square_root  3.1622776601683795\n",
      "cube_root 2.154434690031884\n",
      "\n"
     ]
    }
   ],
   "source": [
    "import math \n",
    "def roots_generator(n):\n",
    "    for i in range(1,n + 1):\n",
    "        yield math.sqrt(i), i**(1/3)\n",
    "\n",
    "# Accept input from the user\n",
    " \n",
    "n = int(input(\"Input a number: \"))\n",
    "\n",
    "# Create the generator object \n",
    "\n",
    "root_gen= roots_generator(n)\n",
    "\n",
    "# Generate and print the square roots and cube roots\n",
    "\n",
    "print(\"Square roots and cube roots of numbers from 1 to\", n)\n",
    "for i, (square_root, cube_root) in enumerate(root_gen, start=1):\n",
    "    print(\"Number:\",i)\n",
    "    print(\"square_root \",square_root)\n",
    "    print(\"cube_root\",cube_root)\n",
    "    print()"
   ]
  },
  {
   "cell_type": "markdown",
   "metadata": {},
   "source": [
    "### Explanation:\n",
    "\n",
    "In the above exercise,\n",
    "\n",
    "The `roots_generator()` function is a generator function that yields the square root and cube root of numbers from 1 to n. It uses the  math.`sqrt()` function from the  math module to calculate the square root and the exponentiation operator ** to calculate the cube root.\n",
    "The program accepts a number from the user as n. It then creates the `roots_generator` generator from the input number. Finally, the enumerate function is used to iterate over the roots_gen generator and obtain both the index i and the square root and cube root values. By using enumerate with the start=1 parameter, the index i starts from 1. This allows us to print the correct number associated with each pair of roots."
   ]
  },
  {
   "cell_type": "markdown",
   "metadata": {},
   "source": [
    "### Python program to create a generator function that generates the powers of a number up to a specified exponent."
   ]
  },
  {
   "cell_type": "code",
   "execution_count": 12,
   "metadata": {},
   "outputs": [
    {
     "name": "stdout",
     "output_type": "stream",
     "text": [
      "Powers of 2 up to exponent 3:\n",
      "1\n",
      "2\n",
      "4\n",
      "8\n"
     ]
    }
   ],
   "source": [
    "def power_generator(base, exponent):\n",
    "    result = 1\n",
    "    for i in range(exponent +1):\n",
    "        yield result\n",
    "        result *= base\n",
    "\n",
    "# Accept input from the user\n",
    "\n",
    "base = int(input(\"Input the base number: \"))\n",
    "exponent = int(input(\"Input the exponent: \"))\n",
    "\n",
    "# Create the generator object\n",
    "\n",
    "power_gen = power_generator(base, exponent)\n",
    "\n",
    "# Generate and print the powers\n",
    "print(f\"Powers of {base} up to exponent {exponent}:\")\n",
    "for power in power_gen:\n",
    "    print(power)\n",
    "\n",
    "\n",
    "\n"
   ]
  },
  {
   "cell_type": "markdown",
   "metadata": {},
   "source": [
    "### Explanation:\n",
    "\n",
    "The generator function `power_generator()` takes a base number and an exponent as parameters. It uses a loop to calculate the powers of the base number, starting from 0 up to the specified exponent. The current power is yielded at each iteration.\n",
    "\n",
    "We accept user input for the base number and exponent. Then, we create the generator object power_gen by calling the `power_generator()` function with the provided base and exponent.\n",
    "\n",
    "Finally, we iterate over the generator and print each power of the base number up to the specified exponent."
   ]
  }
 ],
 "metadata": {
  "kernelspec": {
   "display_name": "Python 3",
   "language": "python",
   "name": "python3"
  },
  "language_info": {
   "codemirror_mode": {
    "name": "ipython",
    "version": 3
   },
   "file_extension": ".py",
   "mimetype": "text/x-python",
   "name": "python",
   "nbconvert_exporter": "python",
   "pygments_lexer": "ipython3",
   "version": "3.10.13"
  }
 },
 "nbformat": 4,
 "nbformat_minor": 2
}
