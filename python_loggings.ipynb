{
 "cells": [
  {
   "cell_type": "markdown",
   "metadata": {},
   "source": [
    "# Logging in Python :\n",
    "\n",
    "Logging is crucial for tracking events that happen when some software runs. It can help diagnose problems, understand the flow of a program, and record information in a persistent way. Compared to using print statements, logging is more versatile and can be configured to output messages of different severities to various destinations (console, files, etc.)\n",
    "\n",
    "\n",
    "#### Basic concepts:\n",
    "1. **Loggers** : The main entry point of the logging system. Each logger if identified by a unique name.\n",
    "\n",
    "2. **Handlers** : Send the log records(created by loggers) to the appropriate destination.\n",
    "\n",
    "3. **Filters**: Provide a finer-grained control over which log records are passed from logger to handler.\n",
    "\n",
    "4. **Formatters**: Specify the layout of the log record in the final output.\n",
    "\n",
    "\n",
    "#### Log levels :\n",
    "\n",
    "1. **DEBUG**: Detailed information, typically of intrest only when dignosing problems. \n",
    "\n",
    "2. **INFO** : Confirmation that things are working as expexted.\n",
    "\n",
    "3. **WARNING** : An indicator that something unexpected happened, or indcative of some problem in the near future (e.g., ‘disk space low’). The software is still working as expected.\n",
    "\n",
    "4. **ERROR** : Due to a more serious problem , the software has not been able to perform osme function.\n",
    "\n",
    "5. **CRITICAL**: A very serious error, indicating that the program itself may be unable to continue running \n",
    "\n",
    "\n",
    "#### There are several logger objects offered by the base Handler itself.  \n",
    "\n",
    "**Logger.info(msg)**: This will log a message with level INFO on this logger.\n",
    "\n",
    "**Logger.warning(msg)**: This will log a message with a level WARNING on this logger.\n",
    "\n",
    "**Logger.error(msg)**: This will log a message with level ERROR on this logger.\n",
    "\n",
    "**Logger.critical(msg)**: This will log a message with level CRITICAL on this logger.\n",
    "\n",
    "**Logger.log(lvl,msg)**: This will Log a message with integer level lvl on this logger.\n",
    "\n",
    "**Logger.exception(msg)**: This will log a message with level ERROR on this logger.\n",
    "\n",
    "**Logger.setLevel(lvl**): This function sets the threshold of this logger to lvl. This means that all the messages below this level will be ignored.\n",
    "\n",
    "**Logger.addFilter(filt)**: This adds a specific filter fit into this logger.\n",
    "\n",
    "**Logger.removeFilter(filt)**: This removes a specific filter fit into this logger.\n",
    "\n",
    "**Logger.filter(record)**: This method applies the logger’s filter to the record provided and returns True if the record is to be processed. Else, it will return False.\n",
    "\n",
    "**Logger.addHandler(hdlr)**: This adds a specific handler hdlr to this logger.\n",
    "\n",
    "**Logger.removeHandler(hdlr)** : This removes a specific handler hdlr into this logger.\n",
    "\n",
    "**Logger.hasHandlers()**: This checks if the logger has any handler configured or not. \n",
    "\n",
    "\n",
    "\n"
   ]
  },
  {
   "cell_type": "markdown",
   "metadata": {},
   "source": [
    "##### Example Usage:\n",
    "This code demonstrates how to log an error message. The logging.error() function is used to log an error message with a placeholder %s for the variable name.\n"
   ]
  },
  {
   "cell_type": "code",
   "execution_count": 3,
   "metadata": {},
   "outputs": [
    {
     "name": "stderr",
     "output_type": "stream",
     "text": [
      "ERROR:root:GFG raised an error\n"
     ]
    }
   ],
   "source": [
    "import logging\n",
    "name = 'GFG'\n",
    "logging.error('%s raised an error', name)"
   ]
  },
  {
   "cell_type": "markdown",
   "metadata": {},
   "source": [
    "##### Example:"
   ]
  },
  {
   "cell_type": "code",
   "execution_count": 4,
   "metadata": {},
   "outputs": [
    {
     "name": "stderr",
     "output_type": "stream",
     "text": [
      "DEBUG:root:Harmless debug Message\n",
      "INFO:root:Just an information\n",
      "WARNING:root:Its a Warning\n",
      "ERROR:root:Did you try to divide by zero\n",
      "CRITICAL:root:Internet is down\n"
     ]
    }
   ],
   "source": [
    "# importing module\n",
    "import logging\n",
    " \n",
    "# Create and configure logger\n",
    "logging.basicConfig(filename=\"newfile.log\",\n",
    "                    format='%(asctime)s %(message)s',\n",
    "                    filemode='w')\n",
    " \n",
    "# Creating an object\n",
    "logger = logging.getLogger()\n",
    " \n",
    "# Setting the threshold of logger to DEBUG\n",
    "logger.setLevel(logging.DEBUG)\n",
    " \n",
    "# Test messages\n",
    "logger.debug(\"Harmless debug Message\")\n",
    "logger.info(\"Just an information\")\n",
    "logger.warning(\"Its a Warning\")\n",
    "logger.error(\"Did you try to divide by zero\")\n",
    "logger.critical(\"Internet is down\")"
   ]
  },
  {
   "cell_type": "markdown",
   "metadata": {},
   "source": [
    "##### Example:"
   ]
  },
  {
   "cell_type": "code",
   "execution_count": 5,
   "metadata": {},
   "outputs": [
    {
     "name": "stderr",
     "output_type": "stream",
     "text": [
      "DEBUG:example_logger:This is a debug message\n",
      "INFO:example_logger:This is an info message\n",
      "example_logger - WARNING - This is a warning message\n",
      "WARNING:example_logger:This is a warning message\n",
      "example_logger - ERROR - This is an error message\n",
      "ERROR:example_logger:This is an error message\n",
      "example_logger - CRITICAL - This is a critical message\n",
      "CRITICAL:example_logger:This is a critical message\n"
     ]
    }
   ],
   "source": [
    "\n",
    "import logging\n",
    "\n",
    "# Create a logger\n",
    "logger = logging.getLogger('example_logger')\n",
    "logger.setLevel(logging.DEBUG)  # Set the log level\n",
    "\n",
    "# Create handlers\n",
    "console_handler = logging.StreamHandler()\n",
    "file_handler = logging.FileHandler('example.log')\n",
    "\n",
    "# Set log levels for handlers\n",
    "console_handler.setLevel(logging.WARNING)\n",
    "file_handler.setLevel(logging.DEBUG)\n",
    "\n",
    "# Create formatters and add them to handlers\n",
    "console_format = logging.Formatter('%(name)s - %(levelname)s - %(message)s')\n",
    "file_format = logging.Formatter('%(asctime)s - %(name)s - %(levelname)s - %(message)s')\n",
    "console_handler.setFormatter(console_format)\n",
    "file_handler.setFormatter(file_format)\n",
    "\n",
    "# Add handlers to the logger\n",
    "logger.addHandler(console_handler)\n",
    "logger.addHandler(file_handler)\n",
    "\n",
    "# Log some messages\n",
    "logger.debug('This is a debug message')\n",
    "logger.info('This is an info message')\n",
    "logger.warning('This is a warning message')\n",
    "logger.error('This is an error message')\n",
    "logger.critical('This is a critical message')\n",
    "                 "
   ]
  },
  {
   "cell_type": "markdown",
   "metadata": {},
   "source": [
    "##### Explaination of the above code:\n",
    "\n",
    "\n",
    "**Creating a Logger**: logger = logging.getLogger('example_logger') creates a logger named 'example_logger'. logger.setLevel(logging.DEBUG) sets the logging level to DEBUG for this logger, meaning it will handle all messages from DEBUG level and above.\n",
    "\n",
    "**Creating Handlers**: console_handler is a handler for the console output, and file_handler is a handler for logging to a file named 'example.log'. Each handler can have its own log level; here, console_handler will handle WARNING and above, while file_handler will handle DEBUG and above.\n",
    "\n",
    "**Setting Formatters**: console_format and file_format define the format of the log messages. %(name)s - %(levelname)s - %(message)s will show the logger's name, the log level, and the log message. %(asctime)s adds a timestamp to the file log.\n",
    "\n",
    "**Adding Handlers to Logger**: logger.addHandler(console_handler) and logger.addHandler(file_handler) attach the handlers to the logger.\n",
    "\n",
    "**Logging Messages**: Different log messages are logged using the appropriate methods (logger.debug, logger.info, logger.warning, logger.error, and logger.critical). Based on the log levels set for the handlers, these messages will be printed to the console and/or written to the file."
   ]
  },
  {
   "cell_type": "markdown",
   "metadata": {},
   "source": [
    "### Some Useful Handlers:\n",
    "\n",
    "**StreamHandler**: Sends messages to streams (file-like objects).\n",
    "\n",
    "**FileHandler**: Sends messages to disk files.\n",
    "\n",
    "**BaseRotatingHandler**: Base class for handlers that rotate log files at a certain point. Use **RotatingFileHandler** or **TimedRotatingFileHandler** instead.\n",
    "\n",
    "**RotatingFileHandler**: Sends messages to disk files, with support for maximum log file sizes and log file rotation.\n",
    "\n",
    "**TimedRotatingFileHandler**: Sends messages to disk files, rotating the log file at certain timed intervals.\n",
    "\n",
    "**SocketHandler**: Sends messages to TCP/IP sockets. Also supports Unix domain sockets since Python 3.4.\n",
    "\n",
    "**DatagramHandler**: Sends messages to UDP sockets. Also supports Unix domain sockets since Python 3.4.\n",
    "\n",
    "**SMTPHandler**: Sends messages to a designated email address.\n",
    "\n",
    "**SysLogHandler**: Sends messages to a Unix Syslogthe  daemon, possibly on a remote machine.\n",
    "\n",
    "**NTEventLogHandler**: Sends messages to a Windows NT/2000/XP event log.\n",
    "\n",
    "**MemoryHandler**: Sends messages to a buffer in memory, which is flushed whenever specific criteria are met.\n",
    "\n",
    "**HTTPHandler**: Sends messages to an HTTP server using either GET or POST semantics.\n",
    "\n",
    "**WatchedFileHandler**:\tWatches the file it is logging to. If the file changes, it is closed and reopened using the file name.\n",
    "\n",
    "**QueueHandler**: Sends messages to a queue, such as those implemented in the queue or multiprocessing modules.\n",
    "\n",
    "**NullHandler**:\tDoes nothing with error messages. Used by library developers to avoid ‘No handlers could be found for logger’ message."
   ]
  }
 ],
 "metadata": {
  "kernelspec": {
   "display_name": "Python 3",
   "language": "python",
   "name": "python3"
  },
  "language_info": {
   "codemirror_mode": {
    "name": "ipython",
    "version": 3
   },
   "file_extension": ".py",
   "mimetype": "text/x-python",
   "name": "python",
   "nbconvert_exporter": "python",
   "pygments_lexer": "ipython3",
   "version": "3.11.9"
  }
 },
 "nbformat": 4,
 "nbformat_minor": 2
}
